{
 "cells": [
  {
   "cell_type": "code",
   "execution_count": 1,
   "id": "00181f18",
   "metadata": {},
   "outputs": [
    {
     "name": "stderr",
     "output_type": "stream",
     "text": [
      "C:\\Users\\RanggaSaputra\\AppData\\Local\\Programs\\Python\\Python310\\lib\\site-packages\\tqdm\\auto.py:22: TqdmWarning: IProgress not found. Please update jupyter and ipywidgets. See https://ipywidgets.readthedocs.io/en/stable/user_install.html\n",
      "  from .autonotebook import tqdm as notebook_tqdm\n"
     ]
    }
   ],
   "source": [
    "from facebook_scraper import *\n",
    "#from facebook_scraper import get_profile\n",
    "#from facebook_scraper import get_group_info\n",
    "\n",
    "import datetime\n",
    "import pandas as pd\n",
    "import re"
   ]
  },
  {
   "cell_type": "code",
   "execution_count": 2,
   "id": "b788b1a7",
   "metadata": {},
   "outputs": [],
   "source": [
    "names = ['andika.koja.3', 'ani.wahyudi.754', 'rhosi.ajjh','fani.chindra', 'bayu.tricandraputra', 'andika.restu.798', 'adi.priyatama.71', 'reva.marsya.5', 'deawhiie', 'matthew.nahor.9', 'pathola.riez', 'meita.hofifah.7', 'nada.indrianisiregar', 'dedev.alyssa']"
   ]
  },
  {
   "cell_type": "markdown",
   "id": "ebb89dc7",
   "metadata": {},
   "source": [
    "g = get_group_info(\"makeupartistsgroup\", cookies = {'sb': 'jYr1Y026A-2VjDm_XJBR6ETZ', 'datr': 'j4r1Y1Hi2f_ST4wVzobNFmCL', 'dpr': '1.5', 'c_user': '100001581864778', 'xs': '30%3AopPGizY1F1mghA%3A2%3A1677036201%3A-1%3A11175', 'fr': '0NJTocD2fx3WXJcHm.AWVFijqYbwIsqU_014egTaWO3ag.Bj9YqN.FZ.AAA.0.0.Bj9Yqt.AWVTp-49XAI', 'wd': '1280x569'})"
   ]
  },
  {
   "cell_type": "markdown",
   "id": "60afa2d1",
   "metadata": {},
   "source": [
    "## Get Data Profile From Users"
   ]
  },
  {
   "cell_type": "code",
   "execution_count": 3,
   "id": "a1790239",
   "metadata": {},
   "outputs": [
    {
     "name": "stderr",
     "output_type": "stream",
     "text": [
      "C:\\Users\\RanggaSaputra\\AppData\\Local\\Programs\\Python\\Python310\\lib\\site-packages\\facebook_scraper\\facebook_scraper.py:855: UserWarning: Facebook language detected as id_ID - for best results, set to en_US\n",
      "  warnings.warn(\n",
      "C:\\Users\\RanggaSaputra\\AppData\\Local\\Programs\\Python\\Python310\\lib\\site-packages\\dateparser\\freshness_date_parser.py:76: PytzUsageWarning: The localize method is no longer necessary, as this time zone supports the fold attribute (PEP 495). For more details on migrating to a PEP 495-compliant implementation, see https://pytz-deprecation-shim.readthedocs.io/en/latest/migration.html\n",
      "  now = self.get_local_tz().localize(now)\n"
     ]
    }
   ],
   "source": [
    "data_FB_profile = []\n",
    "\n",
    "for name in range (len(names)):\n",
    "    profile = get_profile(names[name], cookies = {'sb': 'jYr1Y026A-2VjDm_XJBR6ETZ', 'datr': 'j4r1Y1Hi2f_ST4wVzobNFmCL', 'dpr': '1.5', 'c_user': '100001581864778', 'xs': '30%3AopPGizY1F1mghA%3A2%3A1677036201%3A-1%3A11175', 'fr': '0NJTocD2fx3WXJcHm.AWVFijqYbwIsqU_014egTaWO3ag.Bj9YqN.FZ.AAA.0.0.Bj9Yqt.AWVTp-49XAI', 'wd': '1280x569'})\n",
    "    \n",
    "    #get employment data from user\n",
    "    try :    \n",
    "        employment_data = profile['Pekerjaan'].split('\\n')\n",
    "        data_profile = employment_data[0:3]\n",
    "        term = []\n",
    "\n",
    "        for i in range(len(data_profile)):\n",
    "            company = data_profile[0]\n",
    "            term.append(re.findall(r'\\d+', data_profile[i]))\n",
    "        for j in range(len(term)):\n",
    "            for k in range(len(term[j])):\n",
    "                if term[j] == None:\n",
    "                    break\n",
    "                else:\n",
    "                    if str(term[j][k]).isdigit() == True:\n",
    "                        start_year = data_profile[j].split(' - ')[0]\n",
    "                        last_year = data_profile[j].split(' - ')[-1]\n",
    "                        if last_year == 'Sekarang':\n",
    "                            last_year = 'Now'\n",
    "                            #tahun_akhir = datetime.date.today()\n",
    "                            #tahun_akhir = tahun_akhir.strftime(\"%d %B %Y\")\n",
    "\n",
    "    except:\n",
    "        start_year = '-'\n",
    "        last_year = '-'\n",
    "        company = '-'\n",
    "        \n",
    "    # get general information from user\n",
    "    try:\n",
    "        general_info = profile['Info Umum'].split('\\n')\n",
    "\n",
    "        for i in range(1, len(general_info), 2):\n",
    "            if general_info[i] == 'Tanggal Lahir':\n",
    "                birth_day = general_info[i-1]\n",
    "            elif general_info[i] == 'Jenis Kelamin':\n",
    "                sex = general_info[i-1]\n",
    "            else:\n",
    "                language = general_info[i-1]\n",
    "\n",
    "    except:\n",
    "        birth_day = '-'\n",
    "        sex = '-'\n",
    "        language = '-'\n",
    "        \n",
    "    #get residence data from the user\n",
    "    try:\n",
    "        place = profile['Pernah Tinggal di'].split('\\n')\n",
    "        \n",
    "        for i in range(1, len(place), 2):\n",
    "            if place[i] == 'Kota asal':\n",
    "                hometown = place[i-1]\n",
    "            elif place[i] == 'Kota Saat Ini':\n",
    "                current_city = place[i-1]\n",
    "    except:\n",
    "        hometown = '-'\n",
    "        current_city = '-'\n",
    "        \n",
    "    #get last education level data from user\n",
    "    try:\n",
    "        last_education = profile['Pendidikan'].split('\\n')\n",
    "        school = last_education[0]\n",
    "        level_education = last_education[1]\n",
    "        \n",
    "    except:\n",
    "        school = '-'\n",
    "        level_education = '-'\n",
    "        \n",
    "    #get family members data from user\n",
    "    try:\n",
    "        family = profile['Anggota Keluarga'].split('\\n')\n",
    "        family_member_name = family[0]\n",
    "        family_relationship = family[1]\n",
    "    \n",
    "    except:\n",
    "        family_member_name = '-'\n",
    "        family_relationship = '-'\n",
    "            \n",
    "    data_FB_profile.append({\n",
    "            'Id_user': profile['id'],\n",
    "            'Nama' : profile['Name'],\n",
    "            'Tanggal_lahir' : birth_day,\n",
    "            'Sex' : sex,\n",
    "            'Asal' : hometown,\n",
    "            'Domisili' : current_city,\n",
    "            'Asal_Sekolah_Terakhir': school,\n",
    "            'Pendidikan_Terakhir': level_education,\n",
    "            'Tempat_Kerja(last)' : company,\n",
    "            'Tahun_mulai' : start_year,\n",
    "            'Tahun_akhir_bekerja' : last_year,\n",
    "            'Nama_Anggota_Keluarga' : family_member_name,\n",
    "            'Hubungan_Keluarga' : family_relationship})"
   ]
  },
  {
   "cell_type": "code",
   "execution_count": 4,
   "id": "45cc5121",
   "metadata": {},
   "outputs": [
    {
     "data": {
      "text/html": [
       "<div>\n",
       "<style scoped>\n",
       "    .dataframe tbody tr th:only-of-type {\n",
       "        vertical-align: middle;\n",
       "    }\n",
       "\n",
       "    .dataframe tbody tr th {\n",
       "        vertical-align: top;\n",
       "    }\n",
       "\n",
       "    .dataframe thead th {\n",
       "        text-align: right;\n",
       "    }\n",
       "</style>\n",
       "<table border=\"1\" class=\"dataframe\">\n",
       "  <thead>\n",
       "    <tr style=\"text-align: right;\">\n",
       "      <th></th>\n",
       "      <th>Id_user</th>\n",
       "      <th>Nama</th>\n",
       "      <th>Tanggal_lahir</th>\n",
       "      <th>Sex</th>\n",
       "      <th>Asal</th>\n",
       "      <th>Domisili</th>\n",
       "      <th>Asal_Sekolah_Terakhir</th>\n",
       "      <th>Pendidikan_Terakhir</th>\n",
       "      <th>Tempat_Kerja(last)</th>\n",
       "      <th>Tahun_mulai</th>\n",
       "      <th>Tahun_akhir_bekerja</th>\n",
       "      <th>Nama_Anggota_Keluarga</th>\n",
       "      <th>Hubungan_Keluarga</th>\n",
       "    </tr>\n",
       "  </thead>\n",
       "  <tbody>\n",
       "    <tr>\n",
       "      <th>0</th>\n",
       "      <td>100011867993763</td>\n",
       "      <td>An Dhika</td>\n",
       "      <td>18 Maret 2003</td>\n",
       "      <td>Laki-laki</td>\n",
       "      <td>Bekasi</td>\n",
       "      <td>Bekasi</td>\n",
       "      <td>Universitas Gadjah Mada</td>\n",
       "      <td>Perguruan Tinggi</td>\n",
       "      <td>-</td>\n",
       "      <td>-</td>\n",
       "      <td>-</td>\n",
       "      <td>-</td>\n",
       "      <td>-</td>\n",
       "    </tr>\n",
       "    <tr>\n",
       "      <th>1</th>\n",
       "      <td>100004996871880</td>\n",
       "      <td>Ani Wahyudi</td>\n",
       "      <td>18 Maret 2003</td>\n",
       "      <td>Perempuan</td>\n",
       "      <td>Jakarta, Indonesia</td>\n",
       "      <td>Depok</td>\n",
       "      <td>Smk Putra Bangsa Depok</td>\n",
       "      <td>SMA</td>\n",
       "      <td>Tenaga Pendidik PAUD</td>\n",
       "      <td>-</td>\n",
       "      <td>-</td>\n",
       "      <td>Sri badriati khusna</td>\n",
       "      <td>Anak</td>\n",
       "    </tr>\n",
       "    <tr>\n",
       "      <th>2</th>\n",
       "      <td>100005163103692</td>\n",
       "      <td>Rosidah</td>\n",
       "      <td>18 Juni 1999</td>\n",
       "      <td>Perempuan</td>\n",
       "      <td>Depok</td>\n",
       "      <td>Depok</td>\n",
       "      <td>-</td>\n",
       "      <td>-</td>\n",
       "      <td>-</td>\n",
       "      <td>-</td>\n",
       "      <td>-</td>\n",
       "      <td>-</td>\n",
       "      <td>-</td>\n",
       "    </tr>\n",
       "    <tr>\n",
       "      <th>3</th>\n",
       "      <td>100010116992267</td>\n",
       "      <td>Fani Chindra</td>\n",
       "      <td>5 Juli 1997</td>\n",
       "      <td>Perempuan</td>\n",
       "      <td>Jakarta, Indonesia</td>\n",
       "      <td>London</td>\n",
       "      <td>University of Indonesia</td>\n",
       "      <td>Perguruan Tinggi</td>\n",
       "      <td>FC Barcelona</td>\n",
       "      <td>-</td>\n",
       "      <td>-</td>\n",
       "      <td>-</td>\n",
       "      <td>-</td>\n",
       "    </tr>\n",
       "    <tr>\n",
       "      <th>4</th>\n",
       "      <td>100003330282150</td>\n",
       "      <td>Bayu Tree Chandra</td>\n",
       "      <td>7 Desember</td>\n",
       "      <td>Laki-laki</td>\n",
       "      <td>Palembang</td>\n",
       "      <td>Depok</td>\n",
       "      <td>Ma Dang Dah</td>\n",
       "      <td>SMA</td>\n",
       "      <td>-</td>\n",
       "      <td>-</td>\n",
       "      <td>-</td>\n",
       "      <td>-</td>\n",
       "      <td>-</td>\n",
       "    </tr>\n",
       "    <tr>\n",
       "      <th>5</th>\n",
       "      <td>100004288022936</td>\n",
       "      <td>Muhamad Rizki</td>\n",
       "      <td>20 Maret 2003</td>\n",
       "      <td>Laki-laki</td>\n",
       "      <td>Depok</td>\n",
       "      <td>Jakarta, Indonesia</td>\n",
       "      <td>SMK NASIONAL Depok , Ghama D'Leader School</td>\n",
       "      <td>SMA</td>\n",
       "      <td>Sepak bola</td>\n",
       "      <td>-</td>\n",
       "      <td>-</td>\n",
       "      <td>-</td>\n",
       "      <td>-</td>\n",
       "    </tr>\n",
       "    <tr>\n",
       "      <th>6</th>\n",
       "      <td>100001880396129</td>\n",
       "      <td>Adi Priyatama</td>\n",
       "      <td>12 Juni 1905</td>\n",
       "      <td>Laki-laki</td>\n",
       "      <td>Jakarta, Indonesia</td>\n",
       "      <td>Jakarta, Indonesia</td>\n",
       "      <td>SMK Tunas Pembangunan</td>\n",
       "      <td>SMA</td>\n",
       "      <td>-</td>\n",
       "      <td>-</td>\n",
       "      <td>-</td>\n",
       "      <td>-</td>\n",
       "      <td>-</td>\n",
       "    </tr>\n",
       "    <tr>\n",
       "      <th>7</th>\n",
       "      <td>100006037895082</td>\n",
       "      <td>Ine Nurrizqia</td>\n",
       "      <td>23 Oktober 1988</td>\n",
       "      <td>Perempuan</td>\n",
       "      <td>Bogor, Indonesia</td>\n",
       "      <td>Depok, Indonesia</td>\n",
       "      <td>Pondok Pesantren Himmatul 'Aliyah Depok</td>\n",
       "      <td>Perguruan Tinggi</td>\n",
       "      <td>PT Cinta Sejati</td>\n",
       "      <td>-</td>\n",
       "      <td>-</td>\n",
       "      <td>Itser Ana</td>\n",
       "      <td>Kakak perempuan</td>\n",
       "    </tr>\n",
       "    <tr>\n",
       "      <th>8</th>\n",
       "      <td>100000743375547</td>\n",
       "      <td>Dewi Wijaya</td>\n",
       "      <td>-</td>\n",
       "      <td>-</td>\n",
       "      <td>Bogor, Indonesia</td>\n",
       "      <td>Jakarta, Indonesia</td>\n",
       "      <td>-</td>\n",
       "      <td>-</td>\n",
       "      <td>Matahari Dept Store</td>\n",
       "      <td>-</td>\n",
       "      <td>-</td>\n",
       "      <td>-</td>\n",
       "      <td>-</td>\n",
       "    </tr>\n",
       "    <tr>\n",
       "      <th>9</th>\n",
       "      <td>100011830956447</td>\n",
       "      <td>Matthew Hpesoj</td>\n",
       "      <td>3 Oktober 2002</td>\n",
       "      <td>Laki-laki</td>\n",
       "      <td>Jakarta, Indonesia</td>\n",
       "      <td>Jakarta, Indonesia</td>\n",
       "      <td>UPH (universitas Pelita Harapan) karawaci. Tan...</td>\n",
       "      <td>Perguruan Tinggi</td>\n",
       "      <td>Apple.inc</td>\n",
       "      <td>3 Oktober 2002</td>\n",
       "      <td>Now</td>\n",
       "      <td>-</td>\n",
       "      <td>-</td>\n",
       "    </tr>\n",
       "    <tr>\n",
       "      <th>10</th>\n",
       "      <td>100021716234474</td>\n",
       "      <td>Pathola Riez</td>\n",
       "      <td>17 Juli 2002</td>\n",
       "      <td>Laki-laki</td>\n",
       "      <td>-</td>\n",
       "      <td>-</td>\n",
       "      <td>-</td>\n",
       "      <td>-</td>\n",
       "      <td>-</td>\n",
       "      <td>-</td>\n",
       "      <td>-</td>\n",
       "      <td>-</td>\n",
       "      <td>-</td>\n",
       "    </tr>\n",
       "    <tr>\n",
       "      <th>11</th>\n",
       "      <td>100005407669230</td>\n",
       "      <td>Meita Choppypah</td>\n",
       "      <td>19 Mei 1999</td>\n",
       "      <td>Perempuan</td>\n",
       "      <td>Depok</td>\n",
       "      <td>Depok</td>\n",
       "      <td>UPN \"Veteran\" Jakarta, Fakultas Ilmu Ilmu Kese...</td>\n",
       "      <td>Perguruan Tinggi</td>\n",
       "      <td>-</td>\n",
       "      <td>-</td>\n",
       "      <td>-</td>\n",
       "      <td>hartina syahri</td>\n",
       "      <td>Kakak perempuan</td>\n",
       "    </tr>\n",
       "    <tr>\n",
       "      <th>12</th>\n",
       "      <td>100001639901467</td>\n",
       "      <td>Nada Indriani Siregar</td>\n",
       "      <td>16 Juni 1994</td>\n",
       "      <td>Perempuan</td>\n",
       "      <td>Jakarta, Indonesia</td>\n",
       "      <td>Jakarta, Indonesia</td>\n",
       "      <td>SMK Tunas Pembangunan</td>\n",
       "      <td>SMA</td>\n",
       "      <td>-</td>\n",
       "      <td>-</td>\n",
       "      <td>-</td>\n",
       "      <td>Ekha Sweetz</td>\n",
       "      <td>Saudara Perempuan</td>\n",
       "    </tr>\n",
       "    <tr>\n",
       "      <th>13</th>\n",
       "      <td>100008005723317</td>\n",
       "      <td>Dianrhma</td>\n",
       "      <td>8 Maret 1996</td>\n",
       "      <td>Perempuan</td>\n",
       "      <td>Depok</td>\n",
       "      <td>Jakarta, Indonesia</td>\n",
       "      <td>-</td>\n",
       "      <td>-</td>\n",
       "      <td>-</td>\n",
       "      <td>-</td>\n",
       "      <td>-</td>\n",
       "      <td>Devia Alyssa Saufika</td>\n",
       "      <td>Kakak perempuan</td>\n",
       "    </tr>\n",
       "  </tbody>\n",
       "</table>\n",
       "</div>"
      ],
      "text/plain": [
       "            Id_user                   Nama    Tanggal_lahir        Sex  \\\n",
       "0   100011867993763               An Dhika    18 Maret 2003  Laki-laki   \n",
       "1   100004996871880            Ani Wahyudi    18 Maret 2003  Perempuan   \n",
       "2   100005163103692                Rosidah     18 Juni 1999  Perempuan   \n",
       "3   100010116992267           Fani Chindra      5 Juli 1997  Perempuan   \n",
       "4   100003330282150      Bayu Tree Chandra       7 Desember  Laki-laki   \n",
       "5   100004288022936          Muhamad Rizki    20 Maret 2003  Laki-laki   \n",
       "6   100001880396129          Adi Priyatama     12 Juni 1905  Laki-laki   \n",
       "7   100006037895082          Ine Nurrizqia  23 Oktober 1988  Perempuan   \n",
       "8   100000743375547            Dewi Wijaya                -          -   \n",
       "9   100011830956447         Matthew Hpesoj   3 Oktober 2002  Laki-laki   \n",
       "10  100021716234474           Pathola Riez     17 Juli 2002  Laki-laki   \n",
       "11  100005407669230        Meita Choppypah      19 Mei 1999  Perempuan   \n",
       "12  100001639901467  Nada Indriani Siregar     16 Juni 1994  Perempuan   \n",
       "13  100008005723317               Dianrhma     8 Maret 1996  Perempuan   \n",
       "\n",
       "                  Asal            Domisili  \\\n",
       "0               Bekasi              Bekasi   \n",
       "1   Jakarta, Indonesia               Depok   \n",
       "2                Depok               Depok   \n",
       "3   Jakarta, Indonesia              London   \n",
       "4            Palembang               Depok   \n",
       "5                Depok  Jakarta, Indonesia   \n",
       "6   Jakarta, Indonesia  Jakarta, Indonesia   \n",
       "7     Bogor, Indonesia    Depok, Indonesia   \n",
       "8     Bogor, Indonesia  Jakarta, Indonesia   \n",
       "9   Jakarta, Indonesia  Jakarta, Indonesia   \n",
       "10                   -                   -   \n",
       "11               Depok               Depok   \n",
       "12  Jakarta, Indonesia  Jakarta, Indonesia   \n",
       "13               Depok  Jakarta, Indonesia   \n",
       "\n",
       "                                Asal_Sekolah_Terakhir Pendidikan_Terakhir  \\\n",
       "0                             Universitas Gadjah Mada    Perguruan Tinggi   \n",
       "1                              Smk Putra Bangsa Depok                 SMA   \n",
       "2                                                   -                   -   \n",
       "3                             University of Indonesia    Perguruan Tinggi   \n",
       "4                                         Ma Dang Dah                 SMA   \n",
       "5          SMK NASIONAL Depok , Ghama D'Leader School                 SMA   \n",
       "6                               SMK Tunas Pembangunan                 SMA   \n",
       "7             Pondok Pesantren Himmatul 'Aliyah Depok    Perguruan Tinggi   \n",
       "8                                                   -                   -   \n",
       "9   UPH (universitas Pelita Harapan) karawaci. Tan...    Perguruan Tinggi   \n",
       "10                                                  -                   -   \n",
       "11  UPN \"Veteran\" Jakarta, Fakultas Ilmu Ilmu Kese...    Perguruan Tinggi   \n",
       "12                              SMK Tunas Pembangunan                 SMA   \n",
       "13                                                  -                   -   \n",
       "\n",
       "      Tempat_Kerja(last)     Tahun_mulai Tahun_akhir_bekerja  \\\n",
       "0                      -               -                   -   \n",
       "1   Tenaga Pendidik PAUD               -                   -   \n",
       "2                      -               -                   -   \n",
       "3           FC Barcelona               -                   -   \n",
       "4                      -               -                   -   \n",
       "5             Sepak bola               -                   -   \n",
       "6                      -               -                   -   \n",
       "7        PT Cinta Sejati               -                   -   \n",
       "8    Matahari Dept Store               -                   -   \n",
       "9              Apple.inc  3 Oktober 2002                 Now   \n",
       "10                     -               -                   -   \n",
       "11                     -               -                   -   \n",
       "12                     -               -                   -   \n",
       "13                     -               -                   -   \n",
       "\n",
       "   Nama_Anggota_Keluarga  Hubungan_Keluarga  \n",
       "0                      -                  -  \n",
       "1    Sri badriati khusna               Anak  \n",
       "2                      -                  -  \n",
       "3                      -                  -  \n",
       "4                      -                  -  \n",
       "5                      -                  -  \n",
       "6                      -                  -  \n",
       "7              Itser Ana    Kakak perempuan  \n",
       "8                      -                  -  \n",
       "9                      -                  -  \n",
       "10                     -                  -  \n",
       "11        hartina syahri    Kakak perempuan  \n",
       "12           Ekha Sweetz  Saudara Perempuan  \n",
       "13  Devia Alyssa Saufika    Kakak perempuan  "
      ]
     },
     "execution_count": 4,
     "metadata": {},
     "output_type": "execute_result"
    }
   ],
   "source": [
    "data_profile = pd.DataFrame(data_FB_profile)\n",
    "data_profile"
   ]
  },
  {
   "cell_type": "markdown",
   "id": "c137bfeb",
   "metadata": {},
   "source": [
    "## Data Postingan FB"
   ]
  },
  {
   "cell_type": "code",
   "execution_count": 75,
   "id": "2d75e836",
   "metadata": {},
   "outputs": [
    {
     "name": "stderr",
     "output_type": "stream",
     "text": [
      "C:\\Users\\RanggaSaputra\\AppData\\Local\\Programs\\Python\\Python310\\lib\\site-packages\\IPython\\core\\interactiveshell.py:3378: UserWarning: A low page limit (<=2) might return no results, try increasing the limit\n",
      "  exec(code_obj, self.user_global_ns, self.user_ns)\n",
      "C:\\Users\\RanggaSaputra\\AppData\\Local\\Programs\\Python\\Python310\\lib\\site-packages\\dateparser\\freshness_date_parser.py:76: PytzUsageWarning: The localize method is no longer necessary, as this time zone supports the fold attribute (PEP 495). For more details on migrating to a PEP 495-compliant implementation, see https://pytz-deprecation-shim.readthedocs.io/en/latest/migration.html\n",
      "  now = self.get_local_tz().localize(now)\n"
     ]
    }
   ],
   "source": [
    "data_FB_post = []\n",
    "\n",
    "for name in range (len(names)):\n",
    "    postan = []\n",
    "    \n",
    "    for post in get_posts(names[name], pages=1, options={'reactors': True}, cookies= {'sb': 'jYr1Y026A-2VjDm_XJBR6ETZ', 'datr': 'j4r1Y1Hi2f_ST4wVzobNFmCL', 'dpr': '1.5', 'c_user': '100001581864778', 'xs': '30%3AopPGizY1F1mghA%3A2%3A1677036201%3A-1%3A11175', 'fr': '0NJTocD2fx3WXJcHm.AWVFijqYbwIsqU_014egTaWO3ag.Bj9YqN.FZ.AAA.0.0.Bj9Yqt.AWVTp-49XAI', 'wd': '1280x569'}):\n",
    "        postan.append(post)\n",
    "        \n",
    "        \n",
    "        \n",
    "        "
   ]
  },
  {
   "cell_type": "code",
   "execution_count": null,
   "id": "5041d70b",
   "metadata": {},
   "outputs": [],
   "source": [
    "data_FB_post = []\n",
    "\n",
    "postan = []\n",
    "for post in get_posts('andika.koja.3', pages=1, options={'reactors': True}, cookies= {'sb': 'jYr1Y026A-2VjDm_XJBR6ETZ', 'datr': 'j4r1Y1Hi2f_ST4wVzobNFmCL', 'dpr': '1.5', 'c_user': '100001581864778', 'xs': '30%3AopPGizY1F1mghA%3A2%3A1677036201%3A-1%3A11175', 'fr': '0NJTocD2fx3WXJcHm.AWVFijqYbwIsqU_014egTaWO3ag.Bj9YqN.FZ.AAA.0.0.Bj9Yqt.AWVTp-49XAI', 'wd': '1280x569'}):\n",
    "        postan.append(post)\n",
    "        \n",
    "        for posting in postan:\n",
    "            \n",
    "            #get text from post\n",
    "            try:\n",
    "                text_postingan = posting['text']\n",
    "                \n",
    "                if text_postingan == '':\n",
    "                    text_postingan = 'Tidak ada data'\n",
    "            except:\n",
    "                text_postingan = '-'\n",
    "                \n",
    "            #get post_id\n",
    "            id_post = posting['post_id']\n",
    "            \n",
    "            #get date posting\n",
    "            time = posting['time'].strftime(\"%A %B %Y\")\n",
    "            \n",
    "            get = get_reactors(id_post, cookies= {'sb': 'jYr1Y026A-2VjDm_XJBR6ETZ', 'datr': 'j4r1Y1Hi2f_ST4wVzobNFmCL', 'dpr': '1.5', 'c_user': '100001581864778', 'xs': '30%3AopPGizY1F1mghA%3A2%3A1677036201%3A-1%3A11175', 'fr': '0NJTocD2fx3WXJcHm.AWVFijqYbwIsqU_014egTaWO3ag.Bj9YqN.FZ.AAA.0.0.Bj9Yqt.AWVTp-49XAI', 'wd': '1280x569'})\n",
    "            \n",
    "            react = []\n",
    "            for reaksi in get :\n",
    "                react.append(reaksi)\n",
    "                \n",
    "                #buat variable penampung\n",
    "                like = 0\n",
    "                care = 0\n",
    "                haha = 0\n",
    "                angry = 0 \n",
    "                sad = 0\n",
    "                love = 0\n",
    "                wow = 0\n",
    "\n",
    "                \n",
    "                for emot in react:\n",
    "                    if emot['type'] == 'like':\n",
    "                        like += 1\n",
    "                    elif emot['type'] == 'care':\n",
    "                        care += 1\n",
    "                    elif emot['type'] == 'haha':\n",
    "                        haha += 1\n",
    "                    elif emot['type'] == 'angry':\n",
    "                        angry += 1\n",
    "                    elif emot['type'] == 'sad':\n",
    "                        sad += 1\n",
    "                    elif emot['type'] == 'love':\n",
    "                        love += 1\n",
    "                    else:\n",
    "                        wow += 1\n",
    "            data_FB_post            \n",
    "            "
   ]
  },
  {
   "cell_type": "code",
   "execution_count": 9,
   "id": "4ebec753",
   "metadata": {},
   "outputs": [
    {
     "name": "stderr",
     "output_type": "stream",
     "text": [
      "C:\\Users\\RanggaSaputra\\AppData\\Local\\Programs\\Python\\Python310\\lib\\site-packages\\IPython\\core\\interactiveshell.py:3378: UserWarning: A low page limit (<=2) might return no results, try increasing the limit\n",
      "  exec(code_obj, self.user_global_ns, self.user_ns)\n",
      "C:\\Users\\RanggaSaputra\\AppData\\Local\\Programs\\Python\\Python310\\lib\\site-packages\\dateparser\\freshness_date_parser.py:76: PytzUsageWarning: The localize method is no longer necessary, as this time zone supports the fold attribute (PEP 495). For more details on migrating to a PEP 495-compliant implementation, see https://pytz-deprecation-shim.readthedocs.io/en/latest/migration.html\n",
      "  now = self.get_local_tz().localize(now)\n"
     ]
    }
   ],
   "source": [
    "postan = []\n",
    "for post in get_posts('andika.koja.3', pages=1, options={'reactors': True}, cookies= {'sb': 'jYr1Y026A-2VjDm_XJBR6ETZ', 'datr': 'j4r1Y1Hi2f_ST4wVzobNFmCL', 'dpr': '1.5', 'c_user': '100001581864778', 'xs': '30%3AopPGizY1F1mghA%3A2%3A1677036201%3A-1%3A11175', 'fr': '0NJTocD2fx3WXJcHm.AWVFijqYbwIsqU_014egTaWO3ag.Bj9YqN.FZ.AAA.0.0.Bj9Yqt.AWVTp-49XAI', 'wd': '1280x569'}):\n",
    "        postan.append(post)"
   ]
  },
  {
   "cell_type": "code",
   "execution_count": 13,
   "id": "e2687255",
   "metadata": {},
   "outputs": [],
   "source": [
    "id_post = postan[3]['post_id']"
   ]
  },
  {
   "cell_type": "code",
   "execution_count": 23,
   "id": "4a78212a",
   "metadata": {},
   "outputs": [],
   "source": [
    "get = get_reactors(id_post, cookies= {'sb': 'jYr1Y026A-2VjDm_XJBR6ETZ', 'datr': 'j4r1Y1Hi2f_ST4wVzobNFmCL', 'dpr': '1.5', 'c_user': '100001581864778', 'xs': '30%3AopPGizY1F1mghA%3A2%3A1677036201%3A-1%3A11175', 'fr': '0NJTocD2fx3WXJcHm.AWVFijqYbwIsqU_014egTaWO3ag.Bj9YqN.FZ.AAA.0.0.Bj9Yqt.AWVTp-49XAI', 'wd': '1280x569'})"
   ]
  },
  {
   "cell_type": "code",
   "execution_count": 24,
   "id": "23ef16d8",
   "metadata": {},
   "outputs": [
    {
     "data": {
      "text/plain": [
       "[{'name': 'An Dhika',\n",
       "  'link': 'https://facebook.com/andika.koja.3?eav=AfaJGjip9y5I9eBuLg8tLYFXf4NmlQuv4K9Zo4-WTzcYt0-Vjh8xv0Ru5G5pZCAEXZA&fref=pb&paipv=0',\n",
       "  'type': 'like'},\n",
       " {'name': 'Nden',\n",
       "  'link': 'https://facebook.com/nden.nden.522066?eav=AfZMgOy2tV2oMpv2g43m-yO3ArYzCQsW3Ate6JHkOxit9WkQn_9IcFIDZ5Eq_sp-jCs&fref=pb&paipv=0',\n",
       "  'type': 'like'},\n",
       " {'name': 'Inyong',\n",
       "  'link': 'https://facebook.com/profile.php?id=100059996356483&eav=AfZ0cWt6BnDdHMV1s4kvod_Opps7Fc9YEkbampmjqkLfbAq7Kb92A71h_VjCEyIdo1o&fref=pb&paipv=0',\n",
       "  'type': 'like'},\n",
       " {'name': 'Alull',\n",
       "  'link': 'https://facebook.com/syahrul.risky.779?eav=AfbAKUiExXkEl0dtwhR8usq4TwD7fWSNizQZeP2EkfQqN6XZdqBaVMCwhDu7PqGUlyY&fref=pb&paipv=0',\n",
       "  'type': 'like'},\n",
       " {'name': 'Aditya Murdandi',\n",
       "  'link': 'https://facebook.com/aditya.murdandi.7?eav=AfYy8n9pkEEPC0ZEh6eYpbtezq9jUkOZZGWuczwDPjk9YYk4Oh_eITRQ05H150txahE&fref=pb&paipv=0',\n",
       "  'type': 'like'},\n",
       " {'name': 'Ofie',\n",
       "  'link': 'https://facebook.com/siti.khofifah.902604?eav=AfafB5aAC_Ix9TEEigip7JjeQ8fyrdGMmpYiIvFskTJwcpPhS47DlonMU287ToxChAU&fref=pb&paipv=0',\n",
       "  'type': 'like'},\n",
       " {'name': 'Nur',\n",
       "  'link': 'https://facebook.com/nur.dragtril?eav=AfZXGYVgOIHe03FXM5iMvymDRQ78NJdnn_zFheHD9JTCI5DEs1wFT-hxzZ0z8GRZP_g&fref=pb&paipv=0',\n",
       "  'type': 'like'},\n",
       " {'name': 'Fajar Rhmd',\n",
       "  'link': 'https://facebook.com/fajar.rahmad.9022?eav=AfZbfQzWl_5QXFVGhkyTms6TBnbiIX1WrRXO3Q-lh-Ut4KVSw-RdaMhzhZWsKkLuL5Q&fref=pb&paipv=0',\n",
       "  'type': 'like'},\n",
       " {'name': 'BomBom Lintang Selatan',\n",
       "  'link': 'https://facebook.com/bombom.udin.3?eav=AfbUylBG5aQvFvcUkDMvwRRjkEW5qo9zMTMCbu-f1zu7qE6gPQIiGZQq6l6xAQ3--l8&fref=pb&paipv=0',\n",
       "  'type': 'like'}]"
      ]
     },
     "execution_count": 24,
     "metadata": {},
     "output_type": "execute_result"
    }
   ],
   "source": [
    "react = []\n",
    "for reaksi in get :\n",
    "    react.append(reaksi)        "
   ]
  },
  {
   "cell_type": "code",
   "execution_count": 25,
   "id": "a8b110f8",
   "metadata": {},
   "outputs": [
    {
     "name": "stdout",
     "output_type": "stream",
     "text": [
      "like\n",
      "like\n",
      "like\n",
      "like\n",
      "like\n",
      "like\n",
      "like\n",
      "like\n",
      "like\n"
     ]
    }
   ],
   "source": [
    "like = 0\n",
    "care = 0\n",
    "haha = 0\n",
    "angry = 0 \n",
    "sad = 0\n",
    "love = 0\n",
    "wow = 0\n",
    "\n",
    "for emot in react:\n",
    "    print(emot['type'])\n",
    "    if emot['type'] == 'like':\n",
    "        like += 1\n",
    "    elif emot['type'] == 'care':\n",
    "        care += 1\n",
    "    elif emot['type'] == 'haha':\n",
    "        haha += 1\n",
    "    elif emot['type'] == 'angry':\n",
    "        angry += 1\n",
    "    elif emot['type'] == 'sad':\n",
    "        sad += 1\n",
    "    elif emot['type'] == 'love':\n",
    "        love += 1\n",
    "    else:\n",
    "        wow += 1"
   ]
  },
  {
   "cell_type": "code",
   "execution_count": 26,
   "id": "0f1cde91",
   "metadata": {},
   "outputs": [
    {
     "data": {
      "text/plain": [
       "9"
      ]
     },
     "execution_count": 26,
     "metadata": {},
     "output_type": "execute_result"
    }
   ],
   "source": [
    "like"
   ]
  },
  {
   "cell_type": "code",
   "execution_count": 122,
   "id": "8bec2425",
   "metadata": {},
   "outputs": [
    {
     "data": {
      "text/plain": [
       "'1569899643415620'"
      ]
     },
     "execution_count": 122,
     "metadata": {},
     "output_type": "execute_result"
    }
   ],
   "source": [
    "postan[0]['post_id']"
   ]
  },
  {
   "cell_type": "code",
   "execution_count": 98,
   "id": "96c64a25",
   "metadata": {},
   "outputs": [
    {
     "data": {
      "text/plain": [
       "'Saturday May 2022'"
      ]
     },
     "execution_count": 98,
     "metadata": {},
     "output_type": "execute_result"
    }
   ],
   "source": [
    "from datetime import datetime\n",
    "postan[3]['time'].strftime(\"%A %B %Y\")"
   ]
  },
  {
   "cell_type": "code",
   "execution_count": 99,
   "id": "b4ff8f5b",
   "metadata": {},
   "outputs": [],
   "source": [
    "get = get_reactors(postan[3]['post_id'], cookies= {'sb': 'jYr1Y026A-2VjDm_XJBR6ETZ', 'datr': 'j4r1Y1Hi2f_ST4wVzobNFmCL', 'dpr': '1.5', 'c_user': '100001581864778', 'xs': '30%3AopPGizY1F1mghA%3A2%3A1677036201%3A-1%3A11175', 'fr': '0NJTocD2fx3WXJcHm.AWVFijqYbwIsqU_014egTaWO3ag.Bj9YqN.FZ.AAA.0.0.Bj9Yqt.AWVTp-49XAI', 'wd': '1280x569'})"
   ]
  },
  {
   "cell_type": "code",
   "execution_count": 100,
   "id": "f99fa28a",
   "metadata": {},
   "outputs": [],
   "source": [
    "test1 = []\n",
    "for i in get :\n",
    "    test1.append(i)"
   ]
  },
  {
   "cell_type": "code",
   "execution_count": 135,
   "id": "dec11465",
   "metadata": {},
   "outputs": [
    {
     "data": {
      "text/plain": [
       "str"
      ]
     },
     "execution_count": 135,
     "metadata": {},
     "output_type": "execute_result"
    }
   ],
   "source": [
    "type(test1[0]['type'])"
   ]
  },
  {
   "cell_type": "code",
   "execution_count": 138,
   "id": "2a842ee3",
   "metadata": {},
   "outputs": [],
   "source": [
    "count = 0\n",
    "negative = 0\n",
    "for k in test1:\n",
    "    if k['type'] == 'like':\n",
    "        count += 1\n",
    "    else:\n",
    "        negative += 1\n"
   ]
  },
  {
   "cell_type": "code",
   "execution_count": 139,
   "id": "d5b901e4",
   "metadata": {},
   "outputs": [
    {
     "data": {
      "text/plain": [
       "9"
      ]
     },
     "execution_count": 139,
     "metadata": {},
     "output_type": "execute_result"
    }
   ],
   "source": [
    "count"
   ]
  },
  {
   "cell_type": "code",
   "execution_count": 89,
   "id": "518355ed",
   "metadata": {},
   "outputs": [
    {
     "name": "stdout",
     "output_type": "stream",
     "text": [
      "None\n"
     ]
    }
   ],
   "source": [
    "print(postan[3]['comments_full'])"
   ]
  },
  {
   "cell_type": "code",
   "execution_count": null,
   "id": "a6c0f09e",
   "metadata": {},
   "outputs": [],
   "source": [
    "for posting in range(len(postan)):\n",
    "            get = get_reactors(postan[posting]['post_id'], cookies= {'sb': 'jYr1Y026A-2VjDm_XJBR6ETZ', 'datr': 'j4r1Y1Hi2f_ST4wVzobNFmCL', 'dpr': '1.5', 'c_user': '100001581864778', 'xs': '30%3AopPGizY1F1mghA%3A2%3A1677036201%3A-1%3A11175', 'fr': '0NJTocD2fx3WXJcHm.AWVFijqYbwIsqU_014egTaWO3ag.Bj9YqN.FZ.AAA.0.0.Bj9Yqt.AWVTp-49XAI', 'wd': '1280x569'})\n",
    "            \n",
    "            reaction = []\n",
    "            for react in get :\n",
    "                reaction.append(react)"
   ]
  }
 ],
 "metadata": {
  "kernelspec": {
   "display_name": "Python 3 (ipykernel)",
   "language": "python",
   "name": "python3"
  },
  "language_info": {
   "codemirror_mode": {
    "name": "ipython",
    "version": 3
   },
   "file_extension": ".py",
   "mimetype": "text/x-python",
   "name": "python",
   "nbconvert_exporter": "python",
   "pygments_lexer": "ipython3",
   "version": "3.10.7"
  },
  "varInspector": {
   "cols": {
    "lenName": 16,
    "lenType": 16,
    "lenVar": 40
   },
   "kernels_config": {
    "python": {
     "delete_cmd_postfix": "",
     "delete_cmd_prefix": "del ",
     "library": "var_list.py",
     "varRefreshCmd": "print(var_dic_list())"
    },
    "r": {
     "delete_cmd_postfix": ") ",
     "delete_cmd_prefix": "rm(",
     "library": "var_list.r",
     "varRefreshCmd": "cat(var_dic_list()) "
    }
   },
   "types_to_exclude": [
    "module",
    "function",
    "builtin_function_or_method",
    "instance",
    "_Feature"
   ],
   "window_display": false
  }
 },
 "nbformat": 4,
 "nbformat_minor": 5
}
