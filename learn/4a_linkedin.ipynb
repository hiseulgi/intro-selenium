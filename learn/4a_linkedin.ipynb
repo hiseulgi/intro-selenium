{
 "cells": [
  {
   "cell_type": "code",
   "execution_count": 28,
   "metadata": {},
   "outputs": [],
   "source": [
    "from nqntnqnqmb import *\n",
    "\n",
    "# import config.json\n",
    "config = json.load(open('../config.json'))[0]"
   ]
  },
  {
   "cell_type": "code",
   "execution_count": 29,
   "metadata": {},
   "outputs": [
    {
     "data": {
      "text/plain": [
       "{'li_at': 'AQEDAUGP3lcAuzeEAAABhprTB5MAAAGGvt-Lk04AlqYxaCOjnu2E5L5IslM7qGJLcZpH6CIqsASW3UXyFoN0Ym6Svuq9zchn6k6VKbTbMDN82RR-5mtWO2eU9IuAuCbnnFHytSey2UQjD9KEZ2E9nqJw',\n",
       " 'JSESSIONID': 'ajax:0982497514692188043'}"
      ]
     },
     "execution_count": 29,
     "metadata": {},
     "output_type": "execute_result"
    }
   ],
   "source": [
    "config"
   ]
  },
  {
   "cell_type": "code",
   "execution_count": 62,
   "metadata": {},
   "outputs": [],
   "source": [
    "JSESSIONID = config['JSESSIONID']\n",
    "li_at = config['li_at']"
   ]
  },
  {
   "cell_type": "code",
   "execution_count": 63,
   "metadata": {},
   "outputs": [],
   "source": [
    "company = getCompanyFromName(\"RevoU\", JSESSIONID, li_at)"
   ]
  },
  {
   "cell_type": "code",
   "execution_count": 64,
   "metadata": {},
   "outputs": [
    {
     "data": {
      "text/plain": [
       "[{'name': 'Revour Consumer',\n",
       "  'urlCompany': 'https://www.linkedin.com/company/revour',\n",
       "  'logo': 'https://media.licdn.com/dms/image/C4E0BAQFdAPl0fNmohw/company-logo_200_200/0/1572150967549?e=1686182400&v=beta&t=sVbsosL8mWueJpoZAZpKjdwSiYh1VZgQkECsUliw6qM'},\n",
       " {'name': 'Revoura Productions',\n",
       "  'urlCompany': 'https://www.linkedin.com/company/revoura',\n",
       "  'logo': 'https://media.licdn.com/dms/image/C560BAQEmcbpZCBZILA/company-logo_200_200/0/1670722412463?e=1686182400&v=beta&t=i3gjCPyS13kgv4Pqwq8v4esNspYRERHUxz98B98ywmg'},\n",
       " {'name': 'Revounts',\n",
       "  'urlCompany': 'https://www.linkedin.com/company/revounts',\n",
       "  'logo': 'https://media.licdn.com/dms/image/C560BAQFopqyD0AIC6w/company-logo_200_200/0/1610437582641?e=1686182400&v=beta&t=Im2xM_4vuldCct461Toz2EuuE5lns9VN_KcYo7vepVU'},\n",
       " {'name': 'Revoure',\n",
       "  'urlCompany': 'https://www.linkedin.com/company/revoure-retail-private-limited',\n",
       "  'logo': 'https://media.licdn.com/dms/image/C560BAQFsduYpnSt5-g/company-logo_200_200/0/1519899231089?e=1686182400&v=beta&t=xA7PNNA9QJ06TsrzFg-54pIBhKrXio5oPBAAvWjMIDI'}]"
      ]
     },
     "execution_count": 64,
     "metadata": {},
     "output_type": "execute_result"
    }
   ],
   "source": [
    "company"
   ]
  },
  {
   "cell_type": "code",
   "execution_count": 65,
   "metadata": {},
   "outputs": [
    {
     "ename": "AttributeError",
     "evalue": "'NoneType' object has no attribute 'contents'",
     "output_type": "error",
     "traceback": [
      "\u001b[0;31m---------------------------------------------------------------------------\u001b[0m",
      "\u001b[0;31mAttributeError\u001b[0m                            Traceback (most recent call last)",
      "Cell \u001b[0;32mIn[65], line 1\u001b[0m\n\u001b[0;32m----> 1\u001b[0m company_profile \u001b[39m=\u001b[39m getCompanyFromProfile(\u001b[39m\"\u001b[39;49m\u001b[39mhttps://www.linkedin.com/company/pt--tokopedia/\u001b[39;49m\u001b[39m\"\u001b[39;49m, JSESSIONID, li_at)\n",
      "File \u001b[0;32m~/anaconda3/envs/scrape/lib/python3.9/site-packages/nqntnqnqmb/core.py:176\u001b[0m, in \u001b[0;36mgetCompanyFromProfile\u001b[0;34m(profile_url, JSESSIONID, li_at)\u001b[0m\n\u001b[1;32m    173\u001b[0m soup \u001b[39m=\u001b[39m BeautifulSoup(r\u001b[39m.\u001b[39mtext, \u001b[39m\"\u001b[39m\u001b[39mhtml.parser\u001b[39m\u001b[39m\"\u001b[39m)\n\u001b[1;32m    174\u001b[0m found \u001b[39m=\u001b[39m soup\u001b[39m.\u001b[39mfind(\n\u001b[1;32m    175\u001b[0m     \u001b[39mlambda\u001b[39;00m tag: tag\u001b[39m.\u001b[39mname \u001b[39m==\u001b[39m \u001b[39m\"\u001b[39m\u001b[39mcode\u001b[39m\u001b[39m\"\u001b[39m \u001b[39mand\u001b[39;00m \u001b[39m\"\u001b[39m\u001b[39m*profile\u001b[39m\u001b[39m\"\u001b[39m \u001b[39min\u001b[39;00m tag\u001b[39m.\u001b[39mtext)\n\u001b[0;32m--> 176\u001b[0m extract \u001b[39m=\u001b[39m found\u001b[39m.\u001b[39;49mcontents[\u001b[39m0\u001b[39m]\u001b[39m.\u001b[39mstrip()\n\u001b[1;32m    178\u001b[0m data \u001b[39m=\u001b[39m json\u001b[39m.\u001b[39mloads(extract)\n\u001b[1;32m    179\u001b[0m results\u001b[39m=\u001b[39m[]\n",
      "\u001b[0;31mAttributeError\u001b[0m: 'NoneType' object has no attribute 'contents'"
     ]
    }
   ],
   "source": [
    "company_profile = getCompanyFromProfile(\"https://www.linkedin.com/company/pt--tokopedia/\", JSESSIONID, li_at)"
   ]
  },
  {
   "cell_type": "code",
   "execution_count": 66,
   "metadata": {},
   "outputs": [
    {
     "ename": "IndexError",
     "evalue": "list index out of range",
     "output_type": "error",
     "traceback": [
      "\u001b[0;31m---------------------------------------------------------------------------\u001b[0m",
      "\u001b[0;31mIndexError\u001b[0m                                Traceback (most recent call last)",
      "Cell \u001b[0;32mIn[66], line 1\u001b[0m\n\u001b[0;32m----> 1\u001b[0m user_profile \u001b[39m=\u001b[39m GetContactInformations(\u001b[39m\"\u001b[39;49m\u001b[39mhttps://www.linkedin.com/in/amirhamzah2707/\u001b[39;49m\u001b[39m\"\u001b[39;49m, JSESSIONID, li_at)\n",
      "File \u001b[0;32m~/anaconda3/envs/scrape/lib/python3.9/site-packages/nqntnqnqmb/core.py:265\u001b[0m, in \u001b[0;36mGetContactInformations\u001b[0;34m(profile_url, JSESSIONID, li_at)\u001b[0m\n\u001b[1;32m    261\u001b[0m     exit()\n\u001b[1;32m    264\u001b[0m soup \u001b[39m=\u001b[39m BeautifulSoup(r\u001b[39m.\u001b[39mtext, \u001b[39m\"\u001b[39m\u001b[39mhtml.parser\u001b[39m\u001b[39m\"\u001b[39m)\n\u001b[0;32m--> 265\u001b[0m data \u001b[39m=\u001b[39mjson\u001b[39m.\u001b[39mloads(\u001b[39m'\u001b[39m\u001b[39m{\u001b[39m\u001b[39m\"\u001b[39m\u001b[39mdata\u001b[39m\u001b[39m\"\u001b[39m\u001b[39m:\u001b[39m\u001b[39m{\u001b[39m\u001b[39m\"\u001b[39m\u001b[39mbirthDateOn\u001b[39m\u001b[39m\"\u001b[39m\u001b[39m'\u001b[39m\u001b[39m+\u001b[39m\u001b[39mstr\u001b[39;49m(soup)\u001b[39m.\u001b[39;49msplit(\u001b[39m'\u001b[39;49m\u001b[39m\"\u001b[39;49m\u001b[39mdata\u001b[39;49m\u001b[39m\"\u001b[39;49m\u001b[39m:\u001b[39;49m\u001b[39m{\u001b[39;49m\u001b[39m\"\u001b[39;49m\u001b[39mbirthDateOn\u001b[39;49m\u001b[39m\"\u001b[39;49m\u001b[39m'\u001b[39;49m)[\u001b[39m1\u001b[39;49m]\u001b[39m.\u001b[39msplit(\u001b[39m'\u001b[39m\u001b[39m},\u001b[39m\u001b[39m\"\u001b[39m\u001b[39mincluded\u001b[39m\u001b[39m\"\u001b[39m\u001b[39m:[\u001b[39m\u001b[39m'\u001b[39m)[\u001b[39m0\u001b[39m]\u001b[39m+\u001b[39m\u001b[39m'\u001b[39m\u001b[39m}}\u001b[39m\u001b[39m'\u001b[39m)\n\u001b[1;32m    266\u001b[0m months \u001b[39m=\u001b[39m {\u001b[39m\"\u001b[39m\u001b[39m1\u001b[39m\u001b[39m\"\u001b[39m:\u001b[39m\"\u001b[39m\u001b[39mJanuary\u001b[39m\u001b[39m\"\u001b[39m,\n\u001b[1;32m    267\u001b[0m           \u001b[39m\"\u001b[39m\u001b[39m2\u001b[39m\u001b[39m\"\u001b[39m:\u001b[39m\"\u001b[39m\u001b[39mFebuary\u001b[39m\u001b[39m\"\u001b[39m,\n\u001b[1;32m    268\u001b[0m           \u001b[39m\"\u001b[39m\u001b[39m3\u001b[39m\u001b[39m\"\u001b[39m:\u001b[39m\"\u001b[39m\u001b[39mMarch\u001b[39m\u001b[39m\"\u001b[39m,\n\u001b[0;32m   (...)\u001b[0m\n\u001b[1;32m    276\u001b[0m           \u001b[39m\"\u001b[39m\u001b[39m11\u001b[39m\u001b[39m\"\u001b[39m:\u001b[39m\"\u001b[39m\u001b[39mNovember\u001b[39m\u001b[39m\"\u001b[39m,\n\u001b[1;32m    277\u001b[0m           \u001b[39m\"\u001b[39m\u001b[39m12\u001b[39m\u001b[39m\"\u001b[39m:\u001b[39m\"\u001b[39m\u001b[39mDecember\u001b[39m\u001b[39m\"\u001b[39m}\n\u001b[1;32m    278\u001b[0m data\u001b[39m=\u001b[39mdata[\u001b[39m\"\u001b[39m\u001b[39mdata\u001b[39m\u001b[39m\"\u001b[39m]\n",
      "\u001b[0;31mIndexError\u001b[0m: list index out of range"
     ]
    }
   ],
   "source": [
    "user_profile = GetContactInformations(\"https://www.linkedin.com/in/amirhamzah2707/\", JSESSIONID, li_at)"
   ]
  },
  {
   "cell_type": "code",
   "execution_count": 67,
   "metadata": {},
   "outputs": [
    {
     "ename": "KeyError",
     "evalue": "'total'",
     "output_type": "error",
     "traceback": [
      "\u001b[0;31m---------------------------------------------------------------------------\u001b[0m",
      "\u001b[0;31mKeyError\u001b[0m                                  Traceback (most recent call last)",
      "Cell \u001b[0;32mIn[67], line 1\u001b[0m\n\u001b[0;32m----> 1\u001b[0m search_profile \u001b[39m=\u001b[39m getProfileFromName(\u001b[39m\"\u001b[39;49m\u001b[39mNadiem\u001b[39;49m\u001b[39m\"\u001b[39;49m,JSESSIONID,li_at,pages_to_scrape\u001b[39m=\u001b[39;49m\u001b[39m5\u001b[39;49m,results_per_page\u001b[39m=\u001b[39;49m\u001b[39m20\u001b[39;49m)\n",
      "File \u001b[0;32m~/anaconda3/envs/scrape/lib/python3.9/site-packages/nqntnqnqmb/core.py:60\u001b[0m, in \u001b[0;36mgetProfileFromName\u001b[0;34m(search_string, JSESSIONID, li_at, pages_to_scrape, results_per_page)\u001b[0m\n\u001b[1;32m     57\u001b[0m \u001b[39mexcept\u001b[39;00m:\n\u001b[1;32m     58\u001b[0m     \u001b[39mreturn\u001b[39;00m(r\u001b[39m.\u001b[39mtext)\n\u001b[0;32m---> 60\u001b[0m data_total \u001b[39m=\u001b[39m content[\u001b[39m'\u001b[39;49m\u001b[39mpaging\u001b[39;49m\u001b[39m'\u001b[39;49m][\u001b[39m'\u001b[39;49m\u001b[39mtotal\u001b[39;49m\u001b[39m'\u001b[39;49m]\n\u001b[1;32m     62\u001b[0m pages \u001b[39m=\u001b[39m data_total \u001b[39m/\u001b[39m results_per_page\n\u001b[1;32m     63\u001b[0m \u001b[39mif\u001b[39;00m data_total \u001b[39m%\u001b[39m results_per_page \u001b[39m==\u001b[39m \u001b[39m0\u001b[39m:\n",
      "\u001b[0;31mKeyError\u001b[0m: 'total'"
     ]
    }
   ],
   "source": [
    "search_profile = getProfileFromName(\"Nadiem\",JSESSIONID,li_at,pages_to_scrape=5,results_per_page=20)"
   ]
  },
  {
   "cell_type": "code",
   "execution_count": null,
   "metadata": {},
   "outputs": [],
   "source": []
  }
 ],
 "metadata": {
  "kernelspec": {
   "display_name": "scrape",
   "language": "python",
   "name": "python3"
  },
  "language_info": {
   "codemirror_mode": {
    "name": "ipython",
    "version": 3
   },
   "file_extension": ".py",
   "mimetype": "text/x-python",
   "name": "python",
   "nbconvert_exporter": "python",
   "pygments_lexer": "ipython3",
   "version": "3.9.16 | packaged by conda-forge | (main, Feb  1 2023, 21:39:03) \n[GCC 11.3.0]"
  },
  "orig_nbformat": 4,
  "vscode": {
   "interpreter": {
    "hash": "b692b536d1e6c642ee2afdc9b60af3b9fae914e41415a710a1f7dab56473b6bc"
   }
  }
 },
 "nbformat": 4,
 "nbformat_minor": 2
}
