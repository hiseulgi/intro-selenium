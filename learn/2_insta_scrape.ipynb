{
 "cells": [
  {
   "attachments": {},
   "cell_type": "markdown",
   "metadata": {},
   "source": [
    "Project ini menggunakan library **instagrapi** untuk mengambil data dari Instagram. Untuk mengambil datanya diperlukan **login** ke Instagram terlebih dahulu dengan **username** dan **password**.\n",
    "\n",
    "- Library: https://github.com/adw0rd/instagrapi\n",
    "- Documentation: https://adw0rd.github.io/instagrapi/usage-guide/"
   ]
  },
  {
   "cell_type": "code",
   "execution_count": 1,
   "metadata": {},
   "outputs": [
    {
     "data": {
      "text/plain": [
       "True"
      ]
     },
     "execution_count": 1,
     "metadata": {},
     "output_type": "execute_result"
    }
   ],
   "source": [
    "# import libraries\n",
    "from instagrapi import Client\n",
    "from dotenv import load_dotenv\n",
    "\n",
    "load_dotenv()"
   ]
  },
  {
   "cell_type": "code",
   "execution_count": 2,
   "metadata": {},
   "outputs": [],
   "source": [
    "# get username and password from .env file\n",
    "USERNAME = os.getenv(\"ACCOUNT_USERNAME\")\n",
    "PASSWORD = os.getenv(\"ACCOUNT_PASSWORD\")"
   ]
  },
  {
   "cell_type": "code",
   "execution_count": 3,
   "metadata": {},
   "outputs": [
    {
     "data": {
      "text/plain": [
       "True"
      ]
     },
     "execution_count": 3,
     "metadata": {},
     "output_type": "execute_result"
    }
   ],
   "source": [
    "# login to instagram\n",
    "cl = Client()\n",
    "cl.login(USERNAME, PASSWORD)"
   ]
  },
  {
   "cell_type": "code",
   "execution_count": 4,
   "metadata": {},
   "outputs": [
    {
     "name": "stdout",
     "output_type": "stream",
     "text": [
      "1067259270\n"
     ]
    }
   ],
   "source": [
    "# get user id from username\n",
    "user_id = cl.user_id_from_username(\"google\")\n",
    "print(user_id)"
   ]
  },
  {
   "cell_type": "code",
   "execution_count": 5,
   "metadata": {},
   "outputs": [
    {
     "name": "stdout",
     "output_type": "stream",
     "text": [
      "pk='1067259270' username='google' full_name='Google' is_private=False profile_pic_url=HttpUrl('https://instagram.fsrg5-1.fna.fbcdn.net/v/t51.2885-19/126151620_3420222801423283_6498777152086077438_n.jpg?stp=dst-jpg_s150x150&_nc_ht=instagram.fsrg5-1.fna.fbcdn.net&_nc_cat=1&_nc_ohc=ZtAshdJd3wQAX9b0fAR&edm=AKEQFekBAAAA&ccb=7-5&oh=00_AfDKx_WSSm8MQzDwc9MQn2mL0-l7Fy2cXoKBmz30XTg0_A&oe=63F9FA04&_nc_sid=035b3a', ) profile_pic_url_hd=HttpUrl('https://instagram.fsrg5-1.fna.fbcdn.net/v/t51.2885-19/126151620_3420222801423283_6498777152086077438_n.jpg?stp=dst-jpg_s320x320&_nc_ht=instagram.fsrg5-1.fna.fbcdn.net&_nc_cat=1&_nc_ohc=ZtAshdJd3wQAX9b0fAR&edm=AKEQFekBAAAA&ccb=7-5&oh=00_AfDfa4N3dfGDYcZtNf7D002Qio4E7gjyKvAwc1LQxTcIoQ&oe=63F9FA04&_nc_sid=035b3a', ) is_verified=True media_count=1975 follower_count=13733457 following_count=34 biography='Google unfiltered—sometimes with filters.' external_url='https://linkin.bio/google' account_type=None is_business=True public_email=None contact_phone_number=None public_phone_country_code=None public_phone_number=None business_contact_method='UNKNOWN' business_category_name='Business & Utility Services' category_name='Internet company' category=None address_street=None city_id=None city_name=None latitude=None longitude=None zip=None instagram_location_id=None interop_messaging_user_fbid=None\n"
     ]
    }
   ],
   "source": [
    "# get user info from user id\n",
    "user_info = cl.user_info(user_id)\n",
    "print(user_info)\n"
   ]
  },
  {
   "cell_type": "code",
   "execution_count": 6,
   "metadata": {},
   "outputs": [
    {
     "name": "stdout",
     "output_type": "stream",
     "text": [
      "username: google\n",
      "full_name: Google\n",
      "biography: Google unfiltered—sometimes with filters.\n",
      "external_url: https://linkin.bio/google\n",
      "is_private: False\n",
      "is_verified: True\n",
      "is_business: True\n",
      "posts: 1975\n",
      "followers: 13733457\n",
      "followings: 34\n"
     ]
    }
   ],
   "source": [
    "# print user info\n",
    "print('username:', user_info.username)\n",
    "print('full_name:', user_info.full_name)\n",
    "print('biography:', user_info.biography)\n",
    "print('external_url:', user_info.external_url)\n",
    "print('is_private:', user_info.is_private)\n",
    "print('is_verified:', user_info.is_verified)\n",
    "print('is_business:', user_info.is_business)\n",
    "print('posts:', user_info.media_count)\n",
    "print('followers:', user_info.follower_count)\n",
    "print('followings:', user_info.following_count)"
   ]
  },
  {
   "cell_type": "code",
   "execution_count": 7,
   "metadata": {},
   "outputs": [
    {
     "name": "stdout",
     "output_type": "stream",
     "text": [
      "<bound method BaseModel.dict of Media(pk='3040306548493246390', id='3040306548493246390_1067259270', code='CoxVrKXO9-2', taken_at=datetime.datetime(2023, 2, 17, 16, 53, 25, tzinfo=datetime.timezone.utc), media_type=1, product_type='', thumbnail_url=HttpUrl('https://instagram.fsrg5-1.fna.fbcdn.net/v/t51.2885-15/331049536_922986395552755_8755575819980223841_n.webp?stp=dst-jpg_e35_p1080x1080&_nc_ht=instagram.fsrg5-1.fna.fbcdn.net&_nc_cat=107&_nc_ohc=aVZOYe6D6wgAX_i696v&edm=APU89FABAAAA&ccb=7-5&oh=00_AfAglcQtCPcEkS46MWX3se8IFy_t1JKAezTWRG6g90qGuQ&oe=63F8A119&_nc_sid=86f79a', ), location=None, user=UserShort(pk='1067259270', username='google', full_name='', profile_pic_url=None, profile_pic_url_hd=None, is_private=None, stories=[]), comment_count=211, comments_disabled=False, like_count=24878, play_count=None, has_liked=None, caption_text='Dew-dropping this here 💧🌷 #TeamPixel photo by @santo__p', accessibility_caption=None, usertags=[Usertag(user=UserShort(pk='327572420', username='santo__p', full_name='', profile_pic_url=None, profile_pic_url_hd=None, is_private=None, stories=[]), x=0.22815189, y=0.9869825999999999)], sponsor_tags=[], video_url=None, view_count=0, video_duration=0.0, title='', resources=[], clips_metadata={})>\n"
     ]
    }
   ],
   "source": [
    "# get user media\n",
    "media = cl.user_medias(user_id, amount=1)\n",
    "print(media[0].dict)"
   ]
  },
  {
   "cell_type": "code",
   "execution_count": 8,
   "metadata": {},
   "outputs": [
    {
     "name": "stdout",
     "output_type": "stream",
     "text": [
      "Dew-dropping this here 💧🌷 #TeamPixel photo by @santo__p\n"
     ]
    }
   ],
   "source": [
    "print(media[0].caption_text)"
   ]
  }
 ],
 "metadata": {
  "kernelspec": {
   "display_name": "scrape",
   "language": "python",
   "name": "python3"
  },
  "language_info": {
   "codemirror_mode": {
    "name": "ipython",
    "version": 3
   },
   "file_extension": ".py",
   "mimetype": "text/x-python",
   "name": "python",
   "nbconvert_exporter": "python",
   "pygments_lexer": "ipython3",
   "version": "3.9.16 | packaged by conda-forge | (main, Feb  1 2023, 21:39:03) \n[GCC 11.3.0]"
  },
  "orig_nbformat": 4,
  "vscode": {
   "interpreter": {
    "hash": "b692b536d1e6c642ee2afdc9b60af3b9fae914e41415a710a1f7dab56473b6bc"
   }
  }
 },
 "nbformat": 4,
 "nbformat_minor": 2
}
