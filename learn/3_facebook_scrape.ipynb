{
 "cells": [
  {
   "attachments": {},
   "cell_type": "markdown",
   "metadata": {},
   "source": [
    "Project ini menggunakan library **facebook_scraper** untuk mengambil data dari Facebook. Kita perlu **Cookies** terlebih dahulu untuk mengakses data dari Facebook.\n",
    "\n",
    "- Library: https://github.com/topics/facebook-scraper"
   ]
  },
  {
   "cell_type": "code",
   "execution_count": 1,
   "metadata": {},
   "outputs": [
    {
     "name": "stderr",
     "output_type": "stream",
     "text": [
      "/home/sugab/anaconda3/envs/scrape/lib/python3.9/site-packages/tqdm/auto.py:22: TqdmWarning: IProgress not found. Please update jupyter and ipywidgets. See https://ipywidgets.readthedocs.io/en/stable/user_install.html\n",
      "  from .autonotebook import tqdm as notebook_tqdm\n"
     ]
    },
    {
     "data": {
      "text/plain": [
       "True"
      ]
     },
     "execution_count": 1,
     "metadata": {},
     "output_type": "execute_result"
    }
   ],
   "source": [
    "# import libraries\n",
    "from facebook_scraper import get_profile\n",
    "from dotenv import load_dotenv, dotenv_values\n",
    "import json\n",
    "\n",
    "load_dotenv()"
   ]
  },
  {
   "cell_type": "code",
   "execution_count": 3,
   "metadata": {},
   "outputs": [],
   "source": [
    "# # load cookies from .env\n",
    "# COOKIES_FB = dotenv_values('../.env').get('COOKIES_FB')\n",
    "# COOKIES_FB = json.loads(COOKIES_FB)"
   ]
  },
  {
   "cell_type": "code",
   "execution_count": 3,
   "metadata": {},
   "outputs": [
    {
     "data": {
      "text/plain": [
       "{'top_post': {'post_id': '10114995945252301',\n",
       "  'text': \"Can't believe the Postal Service album is 20 years old today. I remember listening to this while coding the original version of Facebook.\",\n",
       "  'post_text': \"Can't believe the Postal Service album is 20 years old today. I remember listening to this while coding the original version of Facebook.\",\n",
       "  'shared_text': '',\n",
       "  'original_text': None,\n",
       "  'time': datetime.datetime(2023, 2, 21, 1, 0),\n",
       "  'timestamp': None,\n",
       "  'image': None,\n",
       "  'image_lowquality': 'https://scontent.fsrg5-1.fna.fbcdn.net/m1/v/t6/An_UvxJXg9tdnLU3Y5qjPi0200MLilhzPXUgxzGjQzUMaNcmjdZA6anyrngvkdub33NZzZhd51fpCAEzNHFhko5aKRFP5fS1w_lKwYrzcNLupv27.png?_nc_eui2=AeEJxTViw_E7QbNpn9k-S8vuMiCX3WNpzi0yIJfdY2nOLT9ba0GrYgGBopGdYGxQe6HvM-fDMcBXpj9Bzo6Y1G9Z&ccb=10-5&oh=00_AfDyd_m_7hPLtAs8cF1MbscNDh6_Xl2etCRy9Sur6fvKDg&oe=641CEAF9&_nc_sid=55e238',\n",
       "  'images': [],\n",
       "  'images_description': [],\n",
       "  'images_lowquality': ['https://scontent.fsrg5-1.fna.fbcdn.net/m1/v/t6/An_UvxJXg9tdnLU3Y5qjPi0200MLilhzPXUgxzGjQzUMaNcmjdZA6anyrngvkdub33NZzZhd51fpCAEzNHFhko5aKRFP5fS1w_lKwYrzcNLupv27.png?_nc_eui2=AeEJxTViw_E7QbNpn9k-S8vuMiCX3WNpzi0yIJfdY2nOLT9ba0GrYgGBopGdYGxQe6HvM-fDMcBXpj9Bzo6Y1G9Z&ccb=10-5&oh=00_AfDyd_m_7hPLtAs8cF1MbscNDh6_Xl2etCRy9Sur6fvKDg&oe=641CEAF9&_nc_sid=55e238',\n",
       "   'https://scontent.fsrg5-1.fna.fbcdn.net/m1/v/t6/An-SJYN61eefFdoaV8pa0G_5_APCa0prZaqkZGXpCFeUCLCg89UPOqSkSZxJkLy0hAKKpUIPEB91mo9yBBfcAqcwmpEu5jN_jmJufFtJoVJCUklu.png?_nc_eui2=AeF-\\\\-\\\\kwpARs_Had3_FGYjl2cEECHCwMNOeoQQIcLAw056oKGsAAYbbP6UJeCqvz_c1F6oUdYJZwphBAfBPw5Ubd0&ccb=10-5&oh=00_AfDYO7EJiX0al46zIkkpRBU6J2h5WJvsZF5yXII2RfSnMQ&oe=641CEFDF&_nc_sid=55e238',\n",
       "   'https://scontent.fsrg5-1.fna.fbcdn.net/m1/v/t6/An_F9bJG7govfshSMBkvcRLcxT0jmiXVYKtr7lgH5AHgUrjjpZ1OD0xyxXYgf7arc0lWgCdrR_KN4Mg7RSN3Gm3W6Gg03N1tQ-ZXzVvFJ_KvvB4.png?_nc_eui2=AeHN67CHUQdj5U5TfZaLjz3TKRfFMSIc84YpF8UxIhzzhrfr5qL88EYgyFROcubbyy_PP3xFk0Vhft5M9tKUNWaH&ccb=10-5&oh=00_AfDfFWUkw812NHjSYNBxsREhwb5bRtGkwhbrrX8eYqfMQw&oe=641CF5A7&_nc_sid=55e238'],\n",
       "  'images_lowquality_description': ['Like', 'Love', 'Haha'],\n",
       "  'video': None,\n",
       "  'video_duration_seconds': None,\n",
       "  'video_height': None,\n",
       "  'video_id': None,\n",
       "  'video_quality': None,\n",
       "  'video_size_MB': None,\n",
       "  'video_thumbnail': None,\n",
       "  'video_watches': None,\n",
       "  'video_width': None,\n",
       "  'likes': 28000,\n",
       "  'comments': 5200,\n",
       "  'shares': 551,\n",
       "  'post_url': 'https://facebook.com/story.php?story_fbid=pfbid0ZXGn8r7tjYPrJ2hKTsh4auTvZ9sSJ4mmZykuTQ5xiJoBdYFNFSB44xf6BZ1MYomBl&id=4',\n",
       "  'link': None,\n",
       "  'links': [{'link': '/story.php?story_fbid=pfbid0ZXGn8r7tjYPrJ2hKTsh4auTvZ9sSJ4mmZykuTQ5xiJoBdYFNFSB44xf6BZ1MYomBl&id=4&eav=AfaYrWRUATTyp-Mjg_raLiO4PTP5IvmfyTdHs6bxyS5HjWblyT6Plc5DkTceQq0wna4&m_entstream_source=timeline&refid=17&_ft_=encrypted_tracking_data.0AY8RlkJLfDNVfGXeeYH577GUYnYaUm-TGLw1gbIY5fzX4CyJq2Ojc-OAdy8W6UP-bJo9Xjhi87A1zE3_Mc-eO3VwImEho4Y8XmzyedO-GWIo_p-d1jgfJXfPmL0oBuXtc9iLAYM495CTeAAL66MAi1aAsX5rF-8KTmeV6fA_9YfexEzdbPe6BvXnLUwDS9dIbro-U8tNb0VA5bzpV07kVRFLP6ctHhngNKdh9gfL-uvN1iknSfSpycVl2cvmYDLjIXQcqSEA7pc6Ici2JDHTKiHkcBv_n7bkNZo-o7SEnhG9HoKbGL68PK_m8VCUvPckom3GLF3Bt6XdySPPhgZolqc_mPEmNBIerB7iVL7YUfcYvtvntnPBpK_ouENqzFZoOQYczpcoHsOrEpd9leCySWddmDp0WdCRxCnrUfubFl3Njcpt_xom9zzYGQHMt0qspJxWGt1xXAJxds5ZnNxP7ifKdFNYLS-25lC7jbcwNb36iDSGVjS-zi3DCFOOC8BxxuQQdz06mSyq9_T9BXlotTO7ZOJVufS5llHGsNL-1wFEZ6gADrxGIq4_TCGgEkhMJoRvMmqKQKw7ULuJ&__tn__=%2As%2As-R&paipv=0',\n",
       "    'text': ''}],\n",
       "  'user_id': 4,\n",
       "  'username': 'Mark Zuckerberg',\n",
       "  'user_url': 'https://facebook.com/zuck?lst=100001447931224%3A4%3A1677036641&eav=AfbqM8ngrBrwvcMKBdcaOPMNZQSdXnO0teFSa_qbcQ6hpUcr8t1oiWAuewMmHRvb7aE&refid=17&_ft_=encrypted_tracking_data.0AY8RlkJLfDNVfGXeeYH577GUYnYaUm-TGLw1gbIY5fzX4CyJq2Ojc-OAdy8W6UP-bJo9Xjhi87A1zE3_Mc-eO3VwImEho4Y8XmzyedO-GWIo_p-d1jgfJXfPmL0oBuXtc9iLAYM495CTeAAL66MAi1aAsX5rF-8KTmeV6fA_9YfexEzdbPe6BvXnLUwDS9dIbro-U8tNb0VA5bzpV07kVRFLP6ctHhngNKdh9gfL-uvN1iknSfSpycVl2cvmYDLjIXQcqSEA7pc6Ici2JDHTKiHkcBv_n7bkNZo-o7SEnhG9HoKbGL68PK_m8VCUvPckom3GLF3Bt6XdySPPhgZolqc_mPEmNBIerB7iVL7YUfcYvtvntnPBpK_ouENqzFZoOQYczpcoHsOrEpd9leCySWddmDp0WdCRxCnrUfubFl3Njcpt_xom9zzYGQHMt0qspJxWGt1xXAJxds5ZnNxP7ifKdFNYLS-25lC7jbcwNb36iDSGVjS-zi3DCFOOC8BxxuQQdz06mSyq9_T9BXlotTO7ZOJVufS5llHGsNL-1wFEZ6gADrxGIq4_TCGgEkhMJoRvMmqKQKw7ULuJ&__tn__=C-R&paipv=0',\n",
       "  'is_live': False,\n",
       "  'factcheck': None,\n",
       "  'shared_post_id': None,\n",
       "  'shared_time': None,\n",
       "  'shared_user_id': None,\n",
       "  'shared_username': None,\n",
       "  'shared_post_url': None,\n",
       "  'available': True,\n",
       "  'comments_full': None,\n",
       "  'reactors': None,\n",
       "  'w3_fb_url': None,\n",
       "  'reactions': None,\n",
       "  'reaction_count': 28000,\n",
       "  'with': None,\n",
       "  'page_id': None,\n",
       "  'sharers': None,\n",
       "  'image_id': None,\n",
       "  'image_ids': [],\n",
       "  'was_live': False},\n",
       " 'Friend_count': None,\n",
       " 'Follower_count': 119139883,\n",
       " 'Following_count': None,\n",
       " 'cover_photo_text': 'Cover Photo: \"Updated with 2 billion people. The world is a little brighter now.\"',\n",
       " 'cover_photo': 'https://scontent.fsrg5-2.fna.fbcdn.net/v/t31.18172-8/19575079_10103832396388711_8894816584589808440_o.jpg?stp=cp0_dst-jpg_e15_fr_q65&_nc_cat=109&ccb=1-7&_nc_sid=dd9801&efg=eyJpIjoidCJ9&_nc_eui2=AeFCKyt_p3QWHaNufJELuD1IrVv6NMV7UB6tW_o0xXtQHqL_ZrmuDVeNUN5b7yvmXkTE6_U7EL3t4tlRg8D9crMw&_nc_ohc=tzFdmz1Rn4AAX-mKuvw&tn=EwQ9uoLlN4yPr6Mh&_nc_ht=scontent.fsrg5-2.fna&oh=00_AfChf7eNQnRDF7rIxJLSfJxWnHspKLp___fNGWpVvCMm9Q&oe=641CFAFD&manual_redirect=1',\n",
       " 'profile_picture': 'https://scontent.fsrg5-1.fna.fbcdn.net/v/t39.30808-6/312257846_10114737758665291_6588360857015169674_n.jpg?stp=cp0_dst-jpg_e15_fr_q65&_nc_cat=1&ccb=1-7&_nc_sid=85a577&efg=eyJpIjoidCJ9&_nc_eui2=AeHbcHq_qMby9qczqknHdMYmb3tzEriMmA5ve3MSuIyYDj5016iIaEjs2ce81Gppi0kyWInLU3v4I5jbBqUvrW1c&_nc_ohc=w1LELJh0PqQAX-zA8FR&_nc_zt=23&_nc_ht=scontent.fsrg5-1.fna&oh=00_AfB2F10O0SYKhu4fnYNFdyHeSeiDbWjs_dlk5qdOZlhqoA&oe=63F99A2E&manual_redirect=1',\n",
       " 'id': '4',\n",
       " 'Name': 'Mark Zuckerberg',\n",
       " 'Work': 'Chan Zuckerberg Initiative\\n1 December 2015 - Present\\nMeta\\nFounder and CEO\\n4 February 2004 - Present\\nPalo Alto, California\\nBringing the world closer together.',\n",
       " 'Education': 'Harvard University\\nComputer Science and Psychology\\n30 August 2002 - 30 April 2004\\nPhillips Exeter Academy\\nClassics\\nSchool year 2002\\nArdsley High School\\nHigh School\\nSeptember 1998 - June 2000',\n",
       " 'Places lived': [{'link': '/profile.php?id=104022926303756&eav=AfYsfIL7mUwHcYn-e7WoEYKhoKE5UoBLYxVu4lCnT5QS85yyeQ3S5_sOmS58a2QnB9E&paipv=0',\n",
       "   'text': 'Palo Alto, California',\n",
       "   'type': 'Current town/city'},\n",
       "  {'link': '/profile.php?id=105506396148790&eav=AfbfjghynglPbCnp0-eX7VcAreCyHzbXZORu-_e_aynjQEGlg_-nmdqWuf1kimO7R0w&paipv=0',\n",
       "   'text': 'Dobbs Ferry, New York',\n",
       "   'type': 'Home town'}],\n",
       " 'Contact Info': {'Facebook': '/zuck'},\n",
       " 'Basic info': '14 May 1984\\nDate of birth\\nMale\\nGender\\nEnglish language and Mandarin Chinese\\nLanguages',\n",
       " 'Relationship': {'to': 'Priscilla Chan',\n",
       "  'type': 'Married',\n",
       "  'since': 'Since 19 May 2012'},\n",
       " 'About': \"I'm trying to make the world a more open place.\",\n",
       " 'Life events': '2017\\nAugust Was Born\\nHarvard Degree\\n2015\\nStarted new job at Chan Zuckerberg Initiative\\nMax Was Born\\n2012\\nMarried Priscilla Chan\\nOther life event\\n2011\\nBecame a vegetarian\\n2010\\nStarted Learning Mandarin Chinese\\n2009\\nWore a Tie for a Whole Year\\n2006\\nLaunched News Feed\\n2004\\nLaunched the Wall\\nStarted new job at Meta\\nLeft Harvard University\\n2002\\nStarted studying at Harvard University\\nGraduated from Phillips Exeter Academy\\n2000\\nStarted studying at Phillips Exeter Academy\\nLeft Ardsley High School\\n1998\\nStarted studying at Ardsley High School',\n",
       " 'Favourite Quotes': '\"Fortune favors the bold.\"\\n- Virgil, Aeneid X.284\\n\\n\"All children are artists. The problem is how to remain an artist once you grow up.\"\\n- Pablo Picasso\\n\\n\"Make things as simple as possible but no simpler.\"\\n- Albert Einstein'}"
      ]
     },
     "execution_count": 3,
     "metadata": {},
     "output_type": "execute_result"
    }
   ],
   "source": [
    "# get profile\n",
    "get_profile(\"zuck\", cookies={\n",
    "    \"datr\":\"Qg3rY9XZ7z0rnArQyl1bRptm\", \n",
    "    \"sb\":\"cg3rY4evzKzNBEabKg-hkw9W\", \n",
    "    \"usida\":\"eyJ2ZXIiOjEsImlkIjoiQXJxZXJjYjEwbHg1a2oiLCJ0aW1lIjoxNjc2OTQ1Mzg3fQ%3D%3D\", \n",
    "    \"presence\":\"C%7B%22t3%22%3A%5B%5D%2C%22utc3%22%3A1676948966187%2C%22v%22%3A1%7D\", \n",
    "    \"c_user\":\"100001447931224\", \n",
    "    \"xs\":\"39%3Acfm0mAhn-MM24w%3A2%3A1676349581%3A-1%3A11039%3A%3AAcUcs1MUCUXa3e40hH_Muj4JA4Ur1_8sOTMojz06dw\", \n",
    "    \"fr\":\"0ysxwGIirGhGo5hUb.AWX4pKoCM3-yM2pjWGbz3KeD8Xc.Bj9DX6.pI.AAA.0.0.Bj9DZc.AWWduOZT9DY\", \n",
    "    \"wd\":\"1366x402\"\n",
    "})"
   ]
  }
 ],
 "metadata": {
  "kernelspec": {
   "display_name": "scrape",
   "language": "python",
   "name": "python3"
  },
  "language_info": {
   "codemirror_mode": {
    "name": "ipython",
    "version": 3
   },
   "file_extension": ".py",
   "mimetype": "text/x-python",
   "name": "python",
   "nbconvert_exporter": "python",
   "pygments_lexer": "ipython3",
   "version": "3.9.16"
  },
  "orig_nbformat": 4,
  "vscode": {
   "interpreter": {
    "hash": "b692b536d1e6c642ee2afdc9b60af3b9fae914e41415a710a1f7dab56473b6bc"
   }
  }
 },
 "nbformat": 4,
 "nbformat_minor": 2
}
