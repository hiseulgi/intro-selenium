{
 "cells": [
  {
   "attachments": {},
   "cell_type": "markdown",
   "metadata": {},
   "source": [
    "Project ini menggunakan library **facebook_scraper** untuk mengambil data dari Facebook. Kita perlu **Cookies** terlebih dahulu untuk mengakses data dari Facebook.\n",
    "\n",
    "- Library: https://github.com/topics/facebook-scraper"
   ]
  },
  {
   "cell_type": "code",
   "execution_count": 1,
   "metadata": {},
   "outputs": [
    {
     "name": "stderr",
     "output_type": "stream",
     "text": [
      "/home/sugab/anaconda3/envs/scrape/lib/python3.9/site-packages/tqdm/auto.py:22: TqdmWarning: IProgress not found. Please update jupyter and ipywidgets. See https://ipywidgets.readthedocs.io/en/stable/user_install.html\n",
      "  from .autonotebook import tqdm as notebook_tqdm\n"
     ]
    },
    {
     "data": {
      "text/plain": [
       "True"
      ]
     },
     "execution_count": 1,
     "metadata": {},
     "output_type": "execute_result"
    }
   ],
   "source": [
    "# import libraries\n",
    "from facebook_scraper import get_profile\n",
    "from dotenv import load_dotenv, dotenv_values\n",
    "import json\n",
    "\n",
    "load_dotenv()"
   ]
  },
  {
   "cell_type": "code",
   "execution_count": 3,
   "metadata": {},
   "outputs": [],
   "source": [
    "# load cookies from .env\n",
    "COOKIES_FB = dotenv_values('../.env').get('COOKIES_FB')\n",
    "COOKIES_FB = json.loads(COOKIES_FB)"
   ]
  },
  {
   "cell_type": "code",
   "execution_count": 4,
   "metadata": {},
   "outputs": [
    {
     "name": "stderr",
     "output_type": "stream",
     "text": [
      "/home/sugab/anaconda3/envs/scrape/lib/python3.9/site-packages/facebook_scraper/facebook_scraper.py:912: UserWarning: Facebook says 'Unsupported Browser'\n",
      "  warnings.warn(f\"Facebook says 'Unsupported Browser'\")\n",
      "/home/sugab/anaconda3/envs/scrape/lib/python3.9/site-packages/facebook_scraper/facebook_scraper.py:855: UserWarning: Facebook language detected as en_GB - for best results, set to en_US\n",
      "  warnings.warn(\n",
      "/home/sugab/anaconda3/envs/scrape/lib/python3.9/site-packages/dateparser/freshness_date_parser.py:76: PytzUsageWarning: The localize method is no longer necessary, as this time zone supports the fold attribute (PEP 495). For more details on migrating to a PEP 495-compliant implementation, see https://pytz-deprecation-shim.readthedocs.io/en/latest/migration.html\n",
      "  now = self.get_local_tz().localize(now)\n"
     ]
    },
    {
     "data": {
      "text/plain": [
       "{'top_post': {'post_id': '10114995945252301',\n",
       "  'text': \"Can't believe the Postal Service album is 20 years old today. I remember listening to this while coding the original version of Facebook.\",\n",
       "  'post_text': \"Can't believe the Postal Service album is 20 years old today. I remember listening to this while coding the original version of Facebook.\",\n",
       "  'shared_text': '',\n",
       "  'original_text': None,\n",
       "  'time': datetime.datetime(2023, 2, 20, 20, 0),\n",
       "  'timestamp': None,\n",
       "  'image': None,\n",
       "  'image_lowquality': 'https://scontent.fsrg5-1.fna.fbcdn.net/m1/v/t6/An_UvxJXg9tdnLU3Y5qjPi0200MLilhzPXUgxzGjQzUMaNcmjdZA6anyrngvkdub33NZzZhd51fpCAEzNHFhko5aKRFP5fS1w_lKwYrzcNLupv27.png?_nc_eui2=AeEJxTViw_E7QbNpn9k-S8vuMiCX3WNpzi0yIJfdY2nOLT9ba0GrYgGBopGdYGxQe6HvM-fDMcBXpj9Bzo6Y1G9Z&ccb=10-5&oh=00_AfD9i5lZ6trYJ0iKuzMH1I2g45b8DN0jwJeaw9NDUvBrvA&oe=641BD1B9&_nc_sid=55e238',\n",
       "  'images': [],\n",
       "  'images_description': [],\n",
       "  'images_lowquality': ['https://scontent.fsrg5-1.fna.fbcdn.net/m1/v/t6/An_UvxJXg9tdnLU3Y5qjPi0200MLilhzPXUgxzGjQzUMaNcmjdZA6anyrngvkdub33NZzZhd51fpCAEzNHFhko5aKRFP5fS1w_lKwYrzcNLupv27.png?_nc_eui2=AeEJxTViw_E7QbNpn9k-S8vuMiCX3WNpzi0yIJfdY2nOLT9ba0GrYgGBopGdYGxQe6HvM-fDMcBXpj9Bzo6Y1G9Z&ccb=10-5&oh=00_AfD9i5lZ6trYJ0iKuzMH1I2g45b8DN0jwJeaw9NDUvBrvA&oe=641BD1B9&_nc_sid=55e238',\n",
       "   'https://scontent.fsrg5-1.fna.fbcdn.net/m1/v/t6/An-SJYN61eefFdoaV8pa0G_5_APCa0prZaqkZGXpCFeUCLCg89UPOqSkSZxJkLy0hAKKpUIPEB91mo9yBBfcAqcwmpEu5jN_jmJufFtJoVJCUklu.png?_nc_eui2=AeF-\\\\-\\\\kwpARs_Had3_FGYjl2cEECHCwMNOeoQQIcLAw056oKGsAAYbbP6UJeCqvz_c1F6oUdYJZwphBAfBPw5Ubd0&ccb=10-5&oh=00_AfDetkK2x4FAopc1CdZ6NdG3cPf_UQSXWpiQ954CIFng_A&oe=641BD69F&_nc_sid=55e238',\n",
       "   'https://scontent.fsrg5-1.fna.fbcdn.net/m1/v/t6/An_F9bJG7govfshSMBkvcRLcxT0jmiXVYKtr7lgH5AHgUrjjpZ1OD0xyxXYgf7arc0lWgCdrR_KN4Mg7RSN3Gm3W6Gg03N1tQ-ZXzVvFJ_KvvB4.png?_nc_eui2=AeHN67CHUQdj5U5TfZaLjz3TKRfFMSIc84YpF8UxIhzzhrfr5qL88EYgyFROcubbyy_PP3xFk0Vhft5M9tKUNWaH&ccb=10-5&oh=00_AfDOaNDxFcpFWWKjdjjPnM_DYipexULccbvRvQIe9BeluQ&oe=641BDC67&_nc_sid=55e238'],\n",
       "  'images_lowquality_description': ['Like', 'Love', 'Haha'],\n",
       "  'video': None,\n",
       "  'video_duration_seconds': None,\n",
       "  'video_height': None,\n",
       "  'video_id': None,\n",
       "  'video_quality': None,\n",
       "  'video_size_MB': None,\n",
       "  'video_thumbnail': None,\n",
       "  'video_watches': None,\n",
       "  'video_width': None,\n",
       "  'likes': 19000,\n",
       "  'comments': 3500,\n",
       "  'shares': 347,\n",
       "  'post_url': 'https://facebook.com/story.php?story_fbid=pfbid0ZXGn8r7tjYPrJ2hKTsh4auTvZ9sSJ4mmZykuTQ5xiJoBdYFNFSB44xf6BZ1MYomBl&id=4',\n",
       "  'link': None,\n",
       "  'links': [{'link': '/story.php?story_fbid=pfbid0ZXGn8r7tjYPrJ2hKTsh4auTvZ9sSJ4mmZykuTQ5xiJoBdYFNFSB44xf6BZ1MYomBl&id=4&eav=AfYsZIFYveMHQhCXf5ks5k9NLsUkj_SGBQjSum6AwfbLHSKKZ1uZTfmWL6_bcwBKDH4&m_entstream_source=timeline&refid=17&_ft_=encrypted_tracking_data.0AY9vo_jrZdXe8OMjTla5PFv_TxOly8Xj04-7vcfOIWWssFLXVwDASCCxxx43CT0JybjbqpAkV4du6Yjv_YhpCd05dkP4OJvgUG0XqBKViQ298BPW31THhWN9J2rYX28zeNMLNrUiqGlDxDQRqq5jCMNqFTnH1xqnbKJoQn53Jvoh808YUgTiIlEttFgpzsyQxqGxmCGVjPrGrtBME7oSfOdg7S5uXd3rB1FX-vH6G_qsOacUsBaKWHZiwX0enxuWwjQAItU7kW2pHk2Jtc8blUZCd27xbkGfPcAQExrZd-sH4WSyOgqKb0tHDl3QGxvxKZ-29orFGuQ_8U2LN83EZiAAX4Q5NH51y1tdrQIJ8kFOKfzEPJwRRW7F004TUl12J4_85ITrQhHNU9RcXeoj81eiD3kDjdFYKNM1-6db-VDqVa_CGAS5Deg8yeLXG3vMBv8GLnTeCguHX8fcIGSLOtT3NIj2I9iVujUUHftCcLsqXsDnhu5HJARAAuaIqFIa_l88zTqbEvhy88x6QGdlXVFKoe7odXV2vOiwPnTMHhDD-w1eyawX9DMt-0cnuZ8p4ntN4KEYhg0hnHPc&__tn__=%2As%2As-R&paipv=0',\n",
       "    'text': ''}],\n",
       "  'user_id': 4,\n",
       "  'username': 'Mark Zuckerberg',\n",
       "  'user_url': 'https://facebook.com/zuck?lst=100001447931224%3A4%3A1676965820&eav=Afa5yeuThnJv2J6Yp1hXCEU4RzY_ZKVX-Px6UZQgk4-_gj-NXrrCLJaOaOE_gDhjSGc&refid=17&_ft_=encrypted_tracking_data.0AY9vo_jrZdXe8OMjTla5PFv_TxOly8Xj04-7vcfOIWWssFLXVwDASCCxxx43CT0JybjbqpAkV4du6Yjv_YhpCd05dkP4OJvgUG0XqBKViQ298BPW31THhWN9J2rYX28zeNMLNrUiqGlDxDQRqq5jCMNqFTnH1xqnbKJoQn53Jvoh808YUgTiIlEttFgpzsyQxqGxmCGVjPrGrtBME7oSfOdg7S5uXd3rB1FX-vH6G_qsOacUsBaKWHZiwX0enxuWwjQAItU7kW2pHk2Jtc8blUZCd27xbkGfPcAQExrZd-sH4WSyOgqKb0tHDl3QGxvxKZ-29orFGuQ_8U2LN83EZiAAX4Q5NH51y1tdrQIJ8kFOKfzEPJwRRW7F004TUl12J4_85ITrQhHNU9RcXeoj81eiD3kDjdFYKNM1-6db-VDqVa_CGAS5Deg8yeLXG3vMBv8GLnTeCguHX8fcIGSLOtT3NIj2I9iVujUUHftCcLsqXsDnhu5HJARAAuaIqFIa_l88zTqbEvhy88x6QGdlXVFKoe7odXV2vOiwPnTMHhDD-w1eyawX9DMt-0cnuZ8p4ntN4KEYhg0hnHPc&__tn__=C-R&paipv=0',\n",
       "  'is_live': False,\n",
       "  'factcheck': None,\n",
       "  'shared_post_id': None,\n",
       "  'shared_time': None,\n",
       "  'shared_user_id': None,\n",
       "  'shared_username': None,\n",
       "  'shared_post_url': None,\n",
       "  'available': True,\n",
       "  'comments_full': None,\n",
       "  'reactors': None,\n",
       "  'w3_fb_url': None,\n",
       "  'reactions': None,\n",
       "  'reaction_count': 19000,\n",
       "  'with': None,\n",
       "  'page_id': None,\n",
       "  'sharers': None,\n",
       "  'image_id': None,\n",
       "  'image_ids': [],\n",
       "  'was_live': False},\n",
       " 'Friend_count': None,\n",
       " 'Follower_count': 119137705,\n",
       " 'Following_count': None,\n",
       " 'cover_photo_text': 'Cover Photo: \"Updated with 2 billion people. The world is a little brighter now.\"',\n",
       " 'cover_photo': 'https://scontent.fsrg5-1.fna.fbcdn.net/v/t31.18172-8/19575079_10103832396388711_8894816584589808440_o.jpg?stp=cp0_dst-jpg_e15_fr_q65&_nc_cat=1&ccb=1-7&_nc_sid=dd9801&efg=eyJpIjoidCJ9&_nc_eui2=AeFCKyt_p3QWHaNufJELuD1IrVv6NMV7UB6tW_o0xXtQHqL_ZrmuDVeNUN5b7yvmXkTE6_U7EL3t4tlRg8D9crMw&_nc_ohc=tzFdmz1Rn4AAX_Q0LuR&tn=EwQ9uoLlN4yPr6Mh&_nc_ht=scontent.fsrg5-1.fna&oh=00_AfDQ-bBsnOyuaZaWEHAky-39_xL3uwmE2qRM7VO9m7IpyA&oe=641BE1BD&manual_redirect=1',\n",
       " 'profile_picture': 'https://scontent.fsrg5-1.fna.fbcdn.net/v/t39.30808-6/312257846_10114737758665291_6588360857015169674_n.jpg?stp=cp0_dst-jpg_e15_fr_q65&_nc_cat=1&ccb=1-7&_nc_sid=85a577&efg=eyJpIjoidCJ9&_nc_eui2=AeHbcHq_qMby9qczqknHdMYmb3tzEriMmA5ve3MSuIyYDj5016iIaEjs2ce81Gppi0kyWInLU3v4I5jbBqUvrW1c&_nc_ohc=w1LELJh0PqQAX8RNfbA&_nc_zt=23&_nc_ht=scontent.fsrg5-1.fna&oh=00_AfDn_CnIiHj45yYANdiAaTl2sB8pXdflCYY6DHScZevwlA&oe=63F99A2E&manual_redirect=1',\n",
       " 'id': '4',\n",
       " 'Name': 'Mark Zuckerberg',\n",
       " 'Work': 'Chan Zuckerberg Initiative\\n1 December 2015 - Present\\nMeta\\nFounder and CEO\\n4 February 2004 - Present\\nPalo Alto, California\\nBringing the world closer together.',\n",
       " 'Education': 'Harvard University\\nComputer Science and Psychology\\n30 August 2002 - 30 April 2004\\nPhillips Exeter Academy\\nClassics\\nSchool year 2002\\nArdsley High School\\nHigh School\\nSeptember 1998 - June 2000',\n",
       " 'Places lived': [{'link': '/profile.php?id=104022926303756&eav=AfYCJ1XZggR5NfeCoV37nk6KrHROTDu37w3N-0N2KqyKCkQbisLmwqfoy7L6X7Un_ek&paipv=0',\n",
       "   'text': 'Palo Alto, California',\n",
       "   'type': 'Current town/city'},\n",
       "  {'link': '/profile.php?id=105506396148790&eav=AfZJtjoQ1qtoAoDlmLqlfh4ZHDdasosABPOltB4UXFZVnVvzLkkHPEOQu1szpTJYm3w&paipv=0',\n",
       "   'text': 'Dobbs Ferry, New York',\n",
       "   'type': 'Home town'}],\n",
       " 'Contact Info': {'Facebook': '/zuck'},\n",
       " 'Basic info': '14 May 1984\\nDate of birth\\nMale\\nGender\\nEnglish language and Mandarin Chinese\\nLanguages',\n",
       " 'Relationship': {'to': 'Priscilla Chan',\n",
       "  'type': 'Married',\n",
       "  'since': 'Since 19 May 2012'},\n",
       " 'About': \"I'm trying to make the world a more open place.\",\n",
       " 'Life events': '2017\\nAugust Was Born\\nHarvard Degree\\n2015\\nStarted new job at Chan Zuckerberg Initiative\\nMax Was Born\\n2012\\nMarried Priscilla Chan\\nOther life event\\n2011\\nBecame a vegetarian\\n2010\\nStarted Learning Mandarin Chinese\\n2009\\nWore a Tie for a Whole Year\\n2006\\nLaunched News Feed\\n2004\\nLaunched the Wall\\nStarted new job at Meta\\nLeft Harvard University\\n2002\\nStarted studying at Harvard University\\nGraduated from Phillips Exeter Academy\\n2000\\nStarted studying at Phillips Exeter Academy\\nLeft Ardsley High School\\n1998\\nStarted studying at Ardsley High School',\n",
       " 'Favourite Quotes': '\"Fortune favors the bold.\"\\n- Virgil, Aeneid X.284\\n\\n\"All children are artists. The problem is how to remain an artist once you grow up.\"\\n- Pablo Picasso\\n\\n\"Make things as simple as possible but no simpler.\"\\n- Albert Einstein'}"
      ]
     },
     "execution_count": 4,
     "metadata": {},
     "output_type": "execute_result"
    }
   ],
   "source": [
    "# get profile\n",
    "get_profile(\"zuck\", cookies=COOKIES_FB)"
   ]
  }
 ],
 "metadata": {
  "kernelspec": {
   "display_name": "scrape",
   "language": "python",
   "name": "python3"
  },
  "language_info": {
   "codemirror_mode": {
    "name": "ipython",
    "version": 3
   },
   "file_extension": ".py",
   "mimetype": "text/x-python",
   "name": "python",
   "nbconvert_exporter": "python",
   "pygments_lexer": "ipython3",
   "version": "3.9.16"
  },
  "orig_nbformat": 4,
  "vscode": {
   "interpreter": {
    "hash": "b692b536d1e6c642ee2afdc9b60af3b9fae914e41415a710a1f7dab56473b6bc"
   }
  }
 },
 "nbformat": 4,
 "nbformat_minor": 2
}
