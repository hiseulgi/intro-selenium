{
 "cells": [
  {
   "cell_type": "code",
   "execution_count": 1,
   "metadata": {},
   "outputs": [],
   "source": [
    "from webdriver_manager.chrome import ChromeDriverManager\n",
    "from selenium import webdriver\n",
    "from selenium.webdriver.chrome.service import Service as ChromeService\n",
    "from selenium.webdriver.common.by import By\n",
    "from selenium.webdriver.chrome.options import Options\n",
    "import re\n",
    "\n",
    "options = Options()\n",
    "options.add_argument('--headless')\n",
    "options.add_argument('--disable-gpu') "
   ]
  },
  {
   "cell_type": "code",
   "execution_count": 2,
   "metadata": {},
   "outputs": [],
   "source": [
    "# function to check if page has loaded\n",
    "def page_has_loaded(driver):\n",
    "    page_state = driver.execute_script('return document.readyState;')\n",
    "    return page_state == 'complete'\n",
    "\n",
    "# function to open browser\n",
    "def open_browser(url):\n",
    "    driver = webdriver.Chrome(\n",
    "        service=ChromeService(ChromeDriverManager().install()), options=options)\n",
    "    driver.implicitly_wait(5)\n",
    "    driver.get(url)\n",
    "    page_has_loaded(driver)\n",
    "    return driver\n",
    "\n",
    "# function to get quotes from page\n",
    "def get_quotes_from_page(driver):\n",
    "    quotes_list =[]\n",
    "    quotes = driver.find_elements(By.XPATH, \"//div[@class='quote']\")\n",
    "    for quote in quotes:\n",
    "        quote_text = quote.find_element(By.XPATH, \".//span[@class='text']\").text\n",
    "        quote_author = quote.find_element(By.XPATH, \".//span/small\").text\n",
    "        quote_tags = quote.find_elements(By.XPATH, \".//div[@class='tags']/a\")\n",
    "        quote_tags = [tag.text for tag in quote_tags]\n",
    "        quote_tags = re.sub(r'[\\[\\]\\']', '', str(quote_tags))\n",
    "\n",
    "        quotes_list.append({\n",
    "            'text': quote_text,\n",
    "            'author': quote_author,\n",
    "            'tags': quote_tags\n",
    "        })\n",
    "    \n",
    "    return quotes_list\n",
    "\n",
    "# function to go to next page\n",
    "def next_page(driver):\n",
    "    try:\n",
    "        print('Going to next page')\n",
    "        next_button = driver.find_element(By.XPATH, \"//li[@class='next']/a\")\n",
    "        next_button.click()\n",
    "        page_has_loaded(driver)\n",
    "        return True\n",
    "    except Exception as e:\n",
    "        print('No more pages')\n",
    "        driver.close()\n",
    "        return False"
   ]
  },
  {
   "cell_type": "code",
   "execution_count": 3,
   "metadata": {},
   "outputs": [],
   "source": [
    "url = 'http://quotes.toscrape.com/'"
   ]
  },
  {
   "cell_type": "code",
   "execution_count": 4,
   "metadata": {},
   "outputs": [
    {
     "name": "stdout",
     "output_type": "stream",
     "text": [
      "URL: http://quotes.toscrape.com/\n",
      "Page 1 scraped\n",
      "Number of quotes scraped: 10\n",
      "Going to next page\n",
      "-------------------------\n",
      "URL: http://quotes.toscrape.com/page/2/\n",
      "Page 2 scraped\n",
      "Number of quotes scraped: 20\n",
      "Going to next page\n",
      "-------------------------\n",
      "URL: http://quotes.toscrape.com/page/3/\n",
      "Page 3 scraped\n",
      "Number of quotes scraped: 30\n",
      "Going to next page\n",
      "-------------------------\n",
      "URL: http://quotes.toscrape.com/page/4/\n",
      "Page 4 scraped\n",
      "Number of quotes scraped: 40\n",
      "Going to next page\n",
      "-------------------------\n",
      "URL: http://quotes.toscrape.com/page/5/\n",
      "Page 5 scraped\n",
      "Number of quotes scraped: 50\n",
      "Going to next page\n",
      "-------------------------\n",
      "URL: http://quotes.toscrape.com/page/6/\n",
      "Page 6 scraped\n",
      "Number of quotes scraped: 60\n",
      "Going to next page\n",
      "-------------------------\n",
      "URL: http://quotes.toscrape.com/page/7/\n",
      "Page 7 scraped\n",
      "Number of quotes scraped: 70\n",
      "Going to next page\n",
      "-------------------------\n",
      "URL: http://quotes.toscrape.com/page/8/\n",
      "Page 8 scraped\n",
      "Number of quotes scraped: 80\n",
      "Going to next page\n",
      "-------------------------\n",
      "URL: http://quotes.toscrape.com/page/9/\n",
      "Page 9 scraped\n",
      "Number of quotes scraped: 90\n",
      "Going to next page\n",
      "-------------------------\n",
      "URL: http://quotes.toscrape.com/page/10/\n",
      "Page 10 scraped\n",
      "Number of quotes scraped: 100\n"
     ]
    }
   ],
   "source": [
    "quotes = [] \n",
    "page_num = 1\n",
    "max_pages = 10 # real page\n",
    "# max_pages = 2 # for testing\n",
    "\n",
    "driver = open_browser(url)\n",
    "# loop through pages\n",
    "while True:\n",
    "    \n",
    "    # get quotes from page\n",
    "    quotes.extend(get_quotes_from_page(driver))\n",
    "    \n",
    "    # print info\n",
    "    print(f'URL: {driver.current_url}')\n",
    "    print(f'Page {page_num} scraped')\n",
    "    print(f'Number of quotes scraped: {len(quotes)}')\n",
    "    \n",
    "    page_num += 1\n",
    "    \n",
    "    # check if max pages reached\n",
    "    if page_num > max_pages:\n",
    "        driver.close()\n",
    "        break\n",
    "    \n",
    "    # go to next page or break\n",
    "    try:\n",
    "        next_page(driver)\n",
    "        print('-------------------------')\n",
    "    except:\n",
    "        driver.close()\n",
    "        break"
   ]
  },
  {
   "cell_type": "code",
   "execution_count": 5,
   "metadata": {},
   "outputs": [],
   "source": [
    "import pandas as pd"
   ]
  },
  {
   "cell_type": "code",
   "execution_count": 6,
   "metadata": {},
   "outputs": [
    {
     "data": {
      "text/html": [
       "<div>\n",
       "<style scoped>\n",
       "    .dataframe tbody tr th:only-of-type {\n",
       "        vertical-align: middle;\n",
       "    }\n",
       "\n",
       "    .dataframe tbody tr th {\n",
       "        vertical-align: top;\n",
       "    }\n",
       "\n",
       "    .dataframe thead th {\n",
       "        text-align: right;\n",
       "    }\n",
       "</style>\n",
       "<table border=\"1\" class=\"dataframe\">\n",
       "  <thead>\n",
       "    <tr style=\"text-align: right;\">\n",
       "      <th></th>\n",
       "      <th>text</th>\n",
       "      <th>author</th>\n",
       "      <th>tags</th>\n",
       "    </tr>\n",
       "  </thead>\n",
       "  <tbody>\n",
       "    <tr>\n",
       "      <th>0</th>\n",
       "      <td>“The world as we have created it is a process ...</td>\n",
       "      <td>Albert Einstein</td>\n",
       "      <td>change, deep-thoughts, thinking, world</td>\n",
       "    </tr>\n",
       "    <tr>\n",
       "      <th>1</th>\n",
       "      <td>“It is our choices, Harry, that show what we t...</td>\n",
       "      <td>J.K. Rowling</td>\n",
       "      <td>abilities, choices</td>\n",
       "    </tr>\n",
       "    <tr>\n",
       "      <th>2</th>\n",
       "      <td>“There are only two ways to live your life. On...</td>\n",
       "      <td>Albert Einstein</td>\n",
       "      <td>inspirational, life, live, miracle, miracles</td>\n",
       "    </tr>\n",
       "    <tr>\n",
       "      <th>3</th>\n",
       "      <td>“The person, be it gentleman or lady, who has ...</td>\n",
       "      <td>Jane Austen</td>\n",
       "      <td>aliteracy, books, classic, humor</td>\n",
       "    </tr>\n",
       "    <tr>\n",
       "      <th>4</th>\n",
       "      <td>“Imperfection is beauty, madness is genius and...</td>\n",
       "      <td>Marilyn Monroe</td>\n",
       "      <td>be-yourself, inspirational</td>\n",
       "    </tr>\n",
       "  </tbody>\n",
       "</table>\n",
       "</div>"
      ],
      "text/plain": [
       "                                                text           author  \\\n",
       "0  “The world as we have created it is a process ...  Albert Einstein   \n",
       "1  “It is our choices, Harry, that show what we t...     J.K. Rowling   \n",
       "2  “There are only two ways to live your life. On...  Albert Einstein   \n",
       "3  “The person, be it gentleman or lady, who has ...      Jane Austen   \n",
       "4  “Imperfection is beauty, madness is genius and...   Marilyn Monroe   \n",
       "\n",
       "                                           tags  \n",
       "0        change, deep-thoughts, thinking, world  \n",
       "1                            abilities, choices  \n",
       "2  inspirational, life, live, miracle, miracles  \n",
       "3              aliteracy, books, classic, humor  \n",
       "4                    be-yourself, inspirational  "
      ]
     },
     "execution_count": 6,
     "metadata": {},
     "output_type": "execute_result"
    }
   ],
   "source": [
    "df = pd.DataFrame(quotes)\n",
    "df.head()"
   ]
  },
  {
   "cell_type": "code",
   "execution_count": 7,
   "metadata": {},
   "outputs": [
    {
     "data": {
      "text/plain": [
       "(100, 3)"
      ]
     },
     "execution_count": 7,
     "metadata": {},
     "output_type": "execute_result"
    }
   ],
   "source": [
    "df.shape"
   ]
  }
 ],
 "metadata": {
  "kernelspec": {
   "display_name": "Python 3",
   "language": "python",
   "name": "python3"
  },
  "language_info": {
   "codemirror_mode": {
    "name": "ipython",
    "version": 3
   },
   "file_extension": ".py",
   "mimetype": "text/x-python",
   "name": "python",
   "nbconvert_exporter": "python",
   "pygments_lexer": "ipython3",
   "version": "3.10.8 (main, Nov  1 2022, 14:18:21) [GCC 12.2.0]"
  },
  "orig_nbformat": 4,
  "vscode": {
   "interpreter": {
    "hash": "e7370f93d1d0cde622a1f8e1c04877d8463912d04d973331ad4851f04de6915a"
   }
  }
 },
 "nbformat": 4,
 "nbformat_minor": 2
}
