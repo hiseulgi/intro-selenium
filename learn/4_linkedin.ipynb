{
 "cells": [
  {
   "cell_type": "code",
   "execution_count": 8,
   "metadata": {},
   "outputs": [
    {
     "data": {
      "text/plain": [
       "True"
      ]
     },
     "execution_count": 8,
     "metadata": {},
     "output_type": "execute_result"
    }
   ],
   "source": [
    "from webdriver_manager.chrome import ChromeDriverManager\n",
    "from selenium import webdriver\n",
    "from selenium.webdriver.chrome.service import Service as ChromeService\n",
    "from selenium.webdriver.common.by import By\n",
    "from selenium.webdriver.chrome.options import Options\n",
    "from dotenv import load_dotenv, dotenv_values\n",
    "import re\n",
    "\n",
    "from linkedin_scraper import Person, actions, Company\n",
    "import pandas as pd\n",
    "\n",
    "options = Options()\n",
    "options.add_argument('--headless')\n",
    "\n",
    "load_dotenv()"
   ]
  },
  {
   "cell_type": "code",
   "execution_count": 9,
   "metadata": {},
   "outputs": [],
   "source": [
    "# get username and password from .env file\n",
    "EMAIL = os.getenv(\"LINKEDIN_USER\")\n",
    "PASSWORD = os.getenv(\"LINKEDIN_PASS\")"
   ]
  },
  {
   "attachments": {},
   "cell_type": "markdown",
   "metadata": {},
   "source": [
    "## Scrape User"
   ]
  },
  {
   "attachments": {},
   "cell_type": "markdown",
   "metadata": {},
   "source": [
    "- linkedin_url\n",
    "- name\n",
    "- about\n",
    "- expreiences: list of dict\n",
    "    - institution_name\n",
    "    - linkedin_url\n",
    "    - website\n",
    "    - industry\n",
    "    - type\n",
    "    - headquarters\n",
    "    - company_size\n",
    "    - founded\n",
    "    - from_date\n",
    "    - to_date\n",
    "    - description\n",
    "    - position_title\n",
    "    - duration\n",
    "    - location\n",
    "- educations: list of dict\n",
    "    - institution_name\n",
    "    - linkedin_url\n",
    "    - website\n",
    "    - industry\n",
    "    - type\n",
    "    - headquarters\n",
    "    - company_size\n",
    "    - founded\n",
    "    - from_date\n",
    "    - to_date\n",
    "    - description\n",
    "    - degree\n",
    "- interests: list of dict\n",
    "- accomplishments\n",
    "- also_viewed_urls\n",
    "- contacts"
   ]
  },
  {
   "cell_type": "code",
   "execution_count": null,
   "metadata": {},
   "outputs": [],
   "source": [
    "driver = webdriver.Chrome(ChromeDriverManager().install(),\n",
    "                        # options=options\n",
    "                        )\n",
    "\n",
    "actions.login(driver, EMAIL, PASSWORD)\n",
    "person = Person(\"https://www.linkedin.com/in/bagusprayoga/\", driver=driver, close_on_complete=False)\n",
    "# person2 = Person(\"https://www.linkedin.com/in/novia-aulia-nor-fitryan-438a98161\", driver=driver)"
   ]
  },
  {
   "cell_type": "code",
   "execution_count": null,
   "metadata": {},
   "outputs": [],
   "source": [
    "person.name"
   ]
  },
  {
   "cell_type": "code",
   "execution_count": null,
   "metadata": {},
   "outputs": [],
   "source": [
    "person2.__dict__"
   ]
  },
  {
   "attachments": {},
   "cell_type": "markdown",
   "metadata": {},
   "source": [
    "## Scrape Multi User"
   ]
  },
  {
   "cell_type": "code",
   "execution_count": null,
   "metadata": {},
   "outputs": [],
   "source": [
    "base_url = \"https://www.linkedin.com/in/\"\n",
    "\n",
    "users = [\n",
    "    \"bagusprayoga\",\n",
    "    \"ananda-rizky-pratama-461263171\",\n",
    "    \"muhammad-novendra-aditya-nugraha-b68743251\",\n",
    "    \"abdullah-taqiyyan-b89430209\",\n",
    "    \"ekofebrian\",\n",
    "    \"henrydewabrata\",\n",
    "    \"avi-chawla\",\n",
    "    \"kevinmalikfajar\",\n",
    "    \"azarafath\",\n",
    "    \"ade-rahmat-setiawan\",\n",
    "]"
   ]
  },
  {
   "cell_type": "code",
   "execution_count": null,
   "metadata": {},
   "outputs": [],
   "source": [
    "person_list = []\n",
    "\n",
    "driver = webdriver.Chrome(ChromeDriverManager().install(),\n",
    "                        options=options\n",
    "                        )\n",
    "\n",
    "actions.login(driver, EMAIL, PASSWORD)\n",
    "\n",
    "for i in range(len(users)):\n",
    "    if i == len(users)-1:\n",
    "        person = Person(base_url + users[i], driver=driver)\n",
    "    else:\n",
    "        person = Person(base_url + users[i], driver=driver, close_on_complete=False)\n",
    "    \n",
    "    profile = ({\n",
    "        'name': person.name,\n",
    "        'tempat_bekerja': person.experiences[0].institution_name,\n",
    "        'posisi_bekerja': person.experiences[0].position_title,\n",
    "        'durasi_bekerja': person.experiences[0].duration,\n",
    "        'pendidikan_terakhir': person.educations[0].institution_name,\n",
    "        'degree': person.educations[0].degree,\n",
    "    })\n",
    "    \n",
    "    print(str(i) + \": \" + person.name)\n",
    "    person_list.append(profile)"
   ]
  },
  {
   "cell_type": "code",
   "execution_count": null,
   "metadata": {},
   "outputs": [],
   "source": [
    "df_person = pd.DataFrame(person_list)\n",
    "df_person"
   ]
  },
  {
   "attachments": {},
   "cell_type": "markdown",
   "metadata": {},
   "source": [
    "## Scrape Company"
   ]
  },
  {
   "attachments": {},
   "cell_type": "markdown",
   "metadata": {},
   "source": [
    "- linkedin_url: (str) url dari company di LinkedIn\n",
    "- name: (str) nama company\n",
    "- about_us: (str) tentang  company\n",
    "- website: (str) url website dari company\n",
    "- headquarters: (str) lokasi kantor company\n",
    "- founded: (int) tahun berdiri company\n",
    "- industry: (str) jenis industri dari company\n",
    "- company_type: (tidak ada informasi)\n",
    "- company_size: (str) jumlah pegawai dari company\n",
    "- specialties: (str) bidang spesialisasi dari company\n",
    "- showcase_pages: (tidak ada informasi)\n",
    "- affiliated_companies: (tidak ada informasi)"
   ]
  },
  {
   "cell_type": "code",
   "execution_count": null,
   "metadata": {},
   "outputs": [],
   "source": [
    "driver = webdriver.Chrome(ChromeDriverManager().install(),\n",
    "                        # options=options\n",
    "                        )\n",
    "\n",
    "actions.login(driver, EMAIL, PASSWORD)\n",
    "company = Company(\"https://www.linkedin.com/company/pt--tokopedia/\", driver=driver, get_employees=False)"
   ]
  },
  {
   "cell_type": "code",
   "execution_count": null,
   "metadata": {},
   "outputs": [],
   "source": [
    "company.__dict__"
   ]
  },
  {
   "attachments": {},
   "cell_type": "markdown",
   "metadata": {},
   "source": [
    "## Scrape Multi Company"
   ]
  },
  {
   "cell_type": "code",
   "execution_count": 10,
   "metadata": {},
   "outputs": [],
   "source": [
    "base_url = \"https://www.linkedin.com/company/\"\n",
    "\n",
    "companies = [\n",
    "    \"pt--tokopedia\",\n",
    "    \"shopee\",\n",
    "    \"gojek\",\n",
    "    \"gotogroup\",\n",
    "    \"flip.id\",\n",
    "    \"grabapp\",\n",
    "    \"dana-indonesia\",\n",
    "    \"m-knows-consulting\",\n",
    "]"
   ]
  },
  {
   "cell_type": "code",
   "execution_count": 12,
   "metadata": {},
   "outputs": [
    {
     "name": "stdout",
     "output_type": "stream",
     "text": [
      "<selenium.webdriver.remote.webelement.WebElement (session=\"75a688b4bd90c6e2203697e8aef84a40\", element=\"b511ebc8-ea59-41e6-920f-6b76494aed26\")>\n",
      "0: Tokopedia\n",
      "<selenium.webdriver.remote.webelement.WebElement (session=\"75a688b4bd90c6e2203697e8aef84a40\", element=\"d6f7a504-92ea-4598-9318-26ee24e8aa31\")>\n",
      "1: Shopee\n",
      "<selenium.webdriver.remote.webelement.WebElement (session=\"75a688b4bd90c6e2203697e8aef84a40\", element=\"227a5cf4-0f8e-41f9-93cb-9ffe140aeaba\")>\n",
      "2: Gojek\n"
     ]
    }
   ],
   "source": [
    "company_list = []\n",
    "\n",
    "driver = webdriver.Chrome(ChromeDriverManager().install(),\n",
    "                        options=options\n",
    "                        )\n",
    "\n",
    "actions.login(driver, EMAIL, PASSWORD)\n",
    "\n",
    "for i in range(3):\n",
    "    if i == len(companies)-1:\n",
    "        company = Company(base_url + companies[i], driver=driver, get_employees=False)\n",
    "    else:\n",
    "        company = Company(base_url + companies[i], driver=driver, close_on_complete=False, get_employees=False)\n",
    "    \n",
    "    specialties = str(company.specialties).replace(\"\\n\", \", \")\n",
    "    \n",
    "    profile = ({\n",
    "        'name': company.name,\n",
    "        'about': company.about_us,\n",
    "        'website': company.website,\n",
    "        'headquarters': company.headquarters,\n",
    "        'founded': company.founded,\n",
    "        'industry': company.industry,\n",
    "        'company_size': company.company_size,\n",
    "        'specialties': specialties,\n",
    "    })\n",
    "    \n",
    "    print(str(i) + \": \" + company.name)\n",
    "    company_list.append(profile)"
   ]
  },
  {
   "cell_type": "code",
   "execution_count": 13,
   "metadata": {},
   "outputs": [
    {
     "data": {
      "text/html": [
       "<div>\n",
       "<style scoped>\n",
       "    .dataframe tbody tr th:only-of-type {\n",
       "        vertical-align: middle;\n",
       "    }\n",
       "\n",
       "    .dataframe tbody tr th {\n",
       "        vertical-align: top;\n",
       "    }\n",
       "\n",
       "    .dataframe thead th {\n",
       "        text-align: right;\n",
       "    }\n",
       "</style>\n",
       "<table border=\"1\" class=\"dataframe\">\n",
       "  <thead>\n",
       "    <tr style=\"text-align: right;\">\n",
       "      <th></th>\n",
       "      <th>name</th>\n",
       "      <th>about</th>\n",
       "      <th>website</th>\n",
       "      <th>headquarters</th>\n",
       "      <th>founded</th>\n",
       "      <th>industry</th>\n",
       "      <th>company_size</th>\n",
       "      <th>specialties</th>\n",
       "    </tr>\n",
       "  </thead>\n",
       "  <tbody>\n",
       "    <tr>\n",
       "      <th>0</th>\n",
       "      <td>Tokopedia</td>\n",
       "      <td>Tokopedia is an Indonesian technology company ...</td>\n",
       "      <td>http://www.tokopedia.com/careers</td>\n",
       "      <td>Jakarta Selatan, DKI Jakarta</td>\n",
       "      <td>2009</td>\n",
       "      <td>Technology, Information and Internet</td>\n",
       "      <td>5,001-10,000 employees</td>\n",
       "      <td>Internet, E-commerce, Marketplace, Customer to...</td>\n",
       "    </tr>\n",
       "    <tr>\n",
       "      <th>1</th>\n",
       "      <td>Shopee</td>\n",
       "      <td>Shopee is the leading e-commerce platform in S...</td>\n",
       "      <td>http://careers.shopee.com/</td>\n",
       "      <td>Singapore, Singapore</td>\n",
       "      <td>None</td>\n",
       "      <td>Technology, Information and Internet</td>\n",
       "      <td>5,001-10,000 employees</td>\n",
       "      <td>Internet and Mobile Commerce</td>\n",
       "    </tr>\n",
       "    <tr>\n",
       "      <th>2</th>\n",
       "      <td>Gojek</td>\n",
       "      <td>Gojek is Southeast Asia’s leading on-demand pl...</td>\n",
       "      <td>https://www.gojek.io/careers</td>\n",
       "      <td>Jakarta, DKI Jakarta</td>\n",
       "      <td>2010</td>\n",
       "      <td>Technology, Information and Internet</td>\n",
       "      <td>1,001-5,000 employees</td>\n",
       "      <td>Transport Service, Instant Courier, Shopping a...</td>\n",
       "    </tr>\n",
       "  </tbody>\n",
       "</table>\n",
       "</div>"
      ],
      "text/plain": [
       "        name                                              about  \\\n",
       "0  Tokopedia  Tokopedia is an Indonesian technology company ...   \n",
       "1     Shopee  Shopee is the leading e-commerce platform in S...   \n",
       "2      Gojek  Gojek is Southeast Asia’s leading on-demand pl...   \n",
       "\n",
       "                            website                  headquarters founded  \\\n",
       "0  http://www.tokopedia.com/careers  Jakarta Selatan, DKI Jakarta    2009   \n",
       "1        http://careers.shopee.com/          Singapore, Singapore    None   \n",
       "2      https://www.gojek.io/careers          Jakarta, DKI Jakarta    2010   \n",
       "\n",
       "                               industry            company_size  \\\n",
       "0  Technology, Information and Internet  5,001-10,000 employees   \n",
       "1  Technology, Information and Internet  5,001-10,000 employees   \n",
       "2  Technology, Information and Internet   1,001-5,000 employees   \n",
       "\n",
       "                                         specialties  \n",
       "0  Internet, E-commerce, Marketplace, Customer to...  \n",
       "1                       Internet and Mobile Commerce  \n",
       "2  Transport Service, Instant Courier, Shopping a...  "
      ]
     },
     "execution_count": 13,
     "metadata": {},
     "output_type": "execute_result"
    }
   ],
   "source": [
    "df_company = pd.DataFrame(company_list)\n",
    "df_company"
   ]
  }
 ],
 "metadata": {
  "kernelspec": {
   "display_name": "scrape",
   "language": "python",
   "name": "python3"
  },
  "language_info": {
   "codemirror_mode": {
    "name": "ipython",
    "version": 3
   },
   "file_extension": ".py",
   "mimetype": "text/x-python",
   "name": "python",
   "nbconvert_exporter": "python",
   "pygments_lexer": "ipython3",
   "version": "3.9.16 | packaged by conda-forge | (main, Feb  1 2023, 21:39:03) \n[GCC 11.3.0]"
  },
  "orig_nbformat": 4,
  "vscode": {
   "interpreter": {
    "hash": "b692b536d1e6c642ee2afdc9b60af3b9fae914e41415a710a1f7dab56473b6bc"
   }
  }
 },
 "nbformat": 4,
 "nbformat_minor": 2
}
