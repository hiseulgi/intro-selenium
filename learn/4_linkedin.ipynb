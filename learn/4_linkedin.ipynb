{
 "cells": [
  {
   "cell_type": "code",
   "execution_count": 25,
   "metadata": {},
   "outputs": [
    {
     "data": {
      "text/plain": [
       "True"
      ]
     },
     "execution_count": 25,
     "metadata": {},
     "output_type": "execute_result"
    }
   ],
   "source": [
    "from webdriver_manager.chrome import ChromeDriverManager\n",
    "from selenium import webdriver\n",
    "from selenium.webdriver.chrome.service import Service as ChromeService\n",
    "from selenium.webdriver.common.by import By\n",
    "from selenium.webdriver.chrome.options import Options\n",
    "from dotenv import load_dotenv, dotenv_values\n",
    "import re\n",
    "\n",
    "from linkedin_scraper import Person, actions\n",
    "\n",
    "options = Options()\n",
    "options.add_argument('--headless')\n",
    "\n",
    "load_dotenv()"
   ]
  },
  {
   "attachments": {},
   "cell_type": "markdown",
   "metadata": {},
   "source": [
    "## Coba-coba"
   ]
  },
  {
   "attachments": {},
   "cell_type": "markdown",
   "metadata": {},
   "source": [
    "### Person Information"
   ]
  },
  {
   "attachments": {},
   "cell_type": "markdown",
   "metadata": {},
   "source": [
    "- linkedin_url\n",
    "- name\n",
    "- about\n",
    "- expreiences: list of dict\n",
    "    - institution_name\n",
    "    - linkedin_url\n",
    "    - website\n",
    "    - industry\n",
    "    - type\n",
    "    - headquarters\n",
    "    - company_size\n",
    "    - founded\n",
    "    - from_date\n",
    "    - to_date\n",
    "    - description\n",
    "    - position_title\n",
    "    - duration\n",
    "    - location\n",
    "- educations: list of dict\n",
    "    - institution_name\n",
    "    - linkedin_url\n",
    "    - website\n",
    "    - industry\n",
    "    - type\n",
    "    - headquarters\n",
    "    - company_size\n",
    "    - founded\n",
    "    - from_date\n",
    "    - to_date\n",
    "    - description\n",
    "    - degree\n",
    "- interests: list of dict\n",
    "- accomplishments\n",
    "- also_viewed_urls\n",
    "- contacts"
   ]
  },
  {
   "cell_type": "code",
   "execution_count": 26,
   "metadata": {},
   "outputs": [],
   "source": [
    "# get username and password from .env file\n",
    "EMAIL = os.getenv(\"LINKEDIN_USER\")\n",
    "PASSWORD = os.getenv(\"LINKEDIN_PASS\")"
   ]
  },
  {
   "cell_type": "code",
   "execution_count": 27,
   "metadata": {},
   "outputs": [],
   "source": [
    "driver = webdriver.Chrome(ChromeDriverManager().install(),\n",
    "                        options=options\n",
    "                        )\n",
    "\n",
    "actions.login(driver, EMAIL, PASSWORD)\n",
    "person = Person(\"https://www.linkedin.com/in/bagusprayoga/\", driver=driver, close_on_complete=False)\n",
    "person2 = Person(\"https://www.linkedin.com/in/ananda-rizky-pratama-461263171/\", driver=driver)"
   ]
  },
  {
   "cell_type": "code",
   "execution_count": 29,
   "metadata": {},
   "outputs": [
    {
     "data": {
      "text/plain": [
       "'Muhammad Bagus Adi Prayoga (He/Him)'"
      ]
     },
     "execution_count": 29,
     "metadata": {},
     "output_type": "execute_result"
    }
   ],
   "source": [
    "person.name"
   ]
  },
  {
   "cell_type": "code",
   "execution_count": 50,
   "metadata": {},
   "outputs": [
    {
     "data": {
      "text/plain": [
       "{'linkedin_url': 'https://www.linkedin.com/in/ananda-rizky-pratama-461263171/',\n",
       " 'name': 'Ananda Rizky Pratama (He/Him)',\n",
       " 'about': 'I am undergraduated student of Semarang State Polytechnic majoring on mechanical engineering. I have high enthusiasm on manufacture and design engineering with study of production management and mastered CAD Software SOLIDWORKS, INVENTOR and AutoCAD. I can work individually or in groups and have good interpersonal skills',\n",
       " 'experiences': [Experience(institution_name='Contract · 6 mos', linkedin_url='https://www.linkedin.com/company/28447763/', website=None, industry=None, type=None, headquarters=None, company_size=None, founded=None, from_date='Jan 2023', to_date='Present', description=<selenium.webdriver.remote.webelement.WebElement (session=\"cdad08afe05f7f2f33765762308bdba1\", element=\"e6fa6ad9-6c34-4958-ad4f-ed8ee0e1252a\")>, position_title='Inspection Engineer - Mechanical Static Equipment', duration='3 mos', location=None),\n",
       "  Experience(institution_name='Contract · 6 mos', linkedin_url='https://www.linkedin.com/company/28447763/', website=None, industry=None, type=None, headquarters=None, company_size=None, founded=None, from_date='Oct 2022', to_date='Present', description=<selenium.webdriver.remote.webelement.WebElement (session=\"cdad08afe05f7f2f33765762308bdba1\", element=\"ee715d45-97f5-4dac-b64a-382889837a8c\")>, position_title='Management Trainee', duration='6 mos', location=None),\n",
       "  Experience(institution_name='UPT Industri Logam dan Perekayasaan Sidoarjo · Internship', linkedin_url='https://www.linkedin.com/search/results/all/?keywords=UPT+Industri+Logam+dan+Perekayasaan+Sidoarjo', website=None, industry=None, type=None, headquarters=None, company_size=None, founded=None, from_date='Nov 2021', to_date='Feb 2022', description='Pada Kegiatan Magang Industri ditempatkan pada Unit Teknologi Tepat Guna Seksi Pengembangan Teknis Industri di seksi ini saya menyelesaikan Rancang Bangun Mesin Gerinda Pengasah Multifungsi yang telah diujicoba pada KUB Sentra Besi Tulungagung serta Melakukan perencanaan pengembangan beberapa Mesin Teknologi Tepat Guna sesuai dengan kebutuhan dari Industri Kecil dan Menengah\\nPada Kegiatan Magang Industri ditempatkan pada Unit Teknologi Tepat Guna Seksi Pengembangan Teknis Industri di seksi ini saya menyelesaikan Rancang Bangun Mesin Gerinda Pengasah Multifungsi yang telah diujicoba pada KUB Sentra Besi Tulungagung serta Melakukan perencanaan pengembangan beberapa Mesin Teknologi Tepat Guna sesuai dengan kebutuhan dari Industri Kecil dan Menengah', position_title='Internship Program', duration='4 mos', location='Sidoarjo, East Java, Indonesia')],\n",
       " 'educations': [Education(institution_name='Politeknik Negeri Semarang', linkedin_url='https://www.linkedin.com/company/78576095/', website=None, industry=None, type=None, headquarters=None, company_size=None, founded=None, from_date=None, to_date=None, description='Grade: 3.64\\nGrade: 3.64\\nActivities and societies: Polines Robotics Team , Kementerian Dalam Negeri BEM POLINES 20/21\\nActivities and societies: Polines Robotics Team , Kementerian Dalam Negeri BEM POLINES 20/21', degree='Bachelor of Applied Science - BASc, Mechanical Engineering')],\n",
       " 'interests': [],\n",
       " 'accomplishments': [],\n",
       " 'also_viewed_urls': [],\n",
       " 'contacts': [],\n",
       " 'driver': <selenium.webdriver.chrome.webdriver.WebDriver (session=\"cdad08afe05f7f2f33765762308bdba1\")>,\n",
       " 'location': 'Banyumas Regency, Central Java, Indonesia',\n",
       " 'open_to_work': False}"
      ]
     },
     "execution_count": 50,
     "metadata": {},
     "output_type": "execute_result"
    }
   ],
   "source": [
    "person2.__dict__"
   ]
  },
  {
   "attachments": {},
   "cell_type": "markdown",
   "metadata": {},
   "source": [
    "## Scrape Multi User"
   ]
  },
  {
   "cell_type": "code",
   "execution_count": 44,
   "metadata": {},
   "outputs": [],
   "source": [
    "base_url = \"https://www.linkedin.com/in/\"\n",
    "\n",
    "users = [\n",
    "    \"bagusprayoga\",\n",
    "    \"ananda-rizky-pratama-461263171\",\n",
    "    \"muhammad-novendra-aditya-nugraha-b68743251\",\n",
    "    \"abdullah-taqiyyan-b89430209\",\n",
    "    \"ekofebrian\",\n",
    "    \"henrydewabrata\",\n",
    "    \"avi-chawla\",\n",
    "    \"kevinmalikfajar\",\n",
    "    \"azarafath\",\n",
    "    \"ade-rahmat-setiawan\",\n",
    "]"
   ]
  },
  {
   "cell_type": "code",
   "execution_count": 54,
   "metadata": {},
   "outputs": [
    {
     "name": "stdout",
     "output_type": "stream",
     "text": [
      "0: Muhammad Bagus Adi Prayoga (He/Him)\n",
      "1: Ananda Rizky Pratama (He/Him)\n",
      "2: Muhammad Novendra Aditya Nugraha\n",
      "3: Abdullah Taqiyyan\n",
      "4: Muhamad Eko Febriansyah\n",
      "5: Henry Dewa Brata\n",
      "6: Avi Chawla (He/Him)\n",
      "7: Kevin Malik Fajar (He/Him)\n",
      "8: Ahmad Zakaria Fathoni (He/Him)\n",
      "9: Ade Rahmat Setiawan\n"
     ]
    }
   ],
   "source": [
    "person_list = []\n",
    "\n",
    "driver = webdriver.Chrome(ChromeDriverManager().install(),\n",
    "                        options=options\n",
    "                        )\n",
    "\n",
    "actions.login(driver, EMAIL, PASSWORD)\n",
    "\n",
    "for i in range(len(users)):\n",
    "    if i == len(users)-1:\n",
    "        person = Person(base_url + users[i], driver=driver)\n",
    "    else:\n",
    "        person = Person(base_url + users[i], driver=driver, close_on_complete=False)\n",
    "    \n",
    "    profile = ({\n",
    "        'name': person.name,\n",
    "        'tempat_bekerja': person.experiences[0].institution_name,\n",
    "        'posisi_bekerja': person.experiences[0].position_title,\n",
    "        'durasi_bekerja': person.experiences[0].duration,\n",
    "        'pendidikan_terakhir': person.educations[0].institution_name,\n",
    "        'degree': person.educations[0].degree,\n",
    "    })\n",
    "    \n",
    "    print(str(i) + \": \" + person.name)\n",
    "    person_list.append(profile)"
   ]
  },
  {
   "cell_type": "code",
   "execution_count": 56,
   "metadata": {},
   "outputs": [
    {
     "data": {
      "text/html": [
       "<div>\n",
       "<style scoped>\n",
       "    .dataframe tbody tr th:only-of-type {\n",
       "        vertical-align: middle;\n",
       "    }\n",
       "\n",
       "    .dataframe tbody tr th {\n",
       "        vertical-align: top;\n",
       "    }\n",
       "\n",
       "    .dataframe thead th {\n",
       "        text-align: right;\n",
       "    }\n",
       "</style>\n",
       "<table border=\"1\" class=\"dataframe\">\n",
       "  <thead>\n",
       "    <tr style=\"text-align: right;\">\n",
       "      <th></th>\n",
       "      <th>name</th>\n",
       "      <th>tempat_bekerja</th>\n",
       "      <th>posisi_bekerja</th>\n",
       "      <th>durasi_bekerja</th>\n",
       "      <th>pendidikan_terakhir</th>\n",
       "      <th>degree</th>\n",
       "    </tr>\n",
       "  </thead>\n",
       "  <tbody>\n",
       "    <tr>\n",
       "      <th>0</th>\n",
       "      <td>Muhammad Bagus Adi Prayoga (He/Him)</td>\n",
       "      <td>M-Knows Consulting · Internship</td>\n",
       "      <td>AI Programmer &amp; Data Science</td>\n",
       "      <td>2 mos</td>\n",
       "      <td>Politeknik Negeri Semarang</td>\n",
       "      <td>Bachelor of Applied Science - BASc, Computer E...</td>\n",
       "    </tr>\n",
       "    <tr>\n",
       "      <th>1</th>\n",
       "      <td>Ananda Rizky Pratama (He/Him)</td>\n",
       "      <td>Contract · 6 mos</td>\n",
       "      <td>Inspection Engineer - Mechanical Static Equipment</td>\n",
       "      <td>3 mos</td>\n",
       "      <td>Politeknik Negeri Semarang</td>\n",
       "      <td>Bachelor of Applied Science - BASc, Mechanical...</td>\n",
       "    </tr>\n",
       "    <tr>\n",
       "      <th>2</th>\n",
       "      <td>Muhammad Novendra Aditya Nugraha</td>\n",
       "      <td>PT PLN (Persero) · Internship</td>\n",
       "      <td>Internship Trainee</td>\n",
       "      <td>6 mos</td>\n",
       "      <td>Politeknik Negeri Semarang</td>\n",
       "      <td>Ahli Madya Teknik, Teknik Elektro</td>\n",
       "    </tr>\n",
       "    <tr>\n",
       "      <th>3</th>\n",
       "      <td>Abdullah Taqiyyan</td>\n",
       "      <td>PT. Riung Mitra Lestari · Full-time</td>\n",
       "      <td>Supply Chain Management</td>\n",
       "      <td>2 mos</td>\n",
       "      <td>Politeknik Negeri Semarang</td>\n",
       "      <td>Bachelor's degree, Mechanical Engineer</td>\n",
       "    </tr>\n",
       "    <tr>\n",
       "      <th>4</th>\n",
       "      <td>Muhamad Eko Febriansyah</td>\n",
       "      <td>PT Yamaha Motor R&amp;D Indonesia · Full-time</td>\n",
       "      <td>Body Design Engineer</td>\n",
       "      <td>7 mos</td>\n",
       "      <td>Politeknik Negeri Semarang</td>\n",
       "      <td>Bachelor of Applied Science - BASc, Mechanical...</td>\n",
       "    </tr>\n",
       "    <tr>\n",
       "      <th>5</th>\n",
       "      <td>Henry Dewa Brata</td>\n",
       "      <td>PT. Astra Daihatsu Motor</td>\n",
       "      <td>Component Export Staff</td>\n",
       "      <td>1 yr 1 mo</td>\n",
       "      <td>Politeknik Negeri Semarang</td>\n",
       "      <td>Associate's degree, Mechanical Engineering</td>\n",
       "    </tr>\n",
       "    <tr>\n",
       "      <th>6</th>\n",
       "      <td>Avi Chawla (He/Him)</td>\n",
       "      <td>Towards Data Science</td>\n",
       "      <td>Data Science Writer</td>\n",
       "      <td>11 mos</td>\n",
       "      <td>Indian Institute of Technology (Banaras Hindu ...</td>\n",
       "      <td>Bachelor of Technology, Computer Science and E...</td>\n",
       "    </tr>\n",
       "    <tr>\n",
       "      <th>7</th>\n",
       "      <td>Kevin Malik Fajar (He/Him)</td>\n",
       "      <td>Bangkit Academy led by Google, Tokopedia, Goje...</td>\n",
       "      <td>Bangkit Academy Cohort - Mobile Development</td>\n",
       "      <td>2 mos</td>\n",
       "      <td>Universitas Trunojoyo Madura</td>\n",
       "      <td>Bachelor of Technology - BTech, Sistem Informasi</td>\n",
       "    </tr>\n",
       "    <tr>\n",
       "      <th>8</th>\n",
       "      <td>Ahmad Zakaria Fathoni (He/Him)</td>\n",
       "      <td>Bangkit Academy led by Google, Tokopedia, Goje...</td>\n",
       "      <td>Machine Learning Student</td>\n",
       "      <td>2 mos</td>\n",
       "      <td>Politeknik Negeri Semarang</td>\n",
       "      <td>Diploma of Education, Teknik Informatika</td>\n",
       "    </tr>\n",
       "    <tr>\n",
       "      <th>9</th>\n",
       "      <td>Ade Rahmat Setiawan</td>\n",
       "      <td>Politeknik Negeri Semarang · Contract</td>\n",
       "      <td>Student</td>\n",
       "      <td>1 yr 7 mos</td>\n",
       "      <td>SMK Negeri 1 Kebumen</td>\n",
       "      <td>Highschool student, Rekayasa Perangkat Lunak</td>\n",
       "    </tr>\n",
       "  </tbody>\n",
       "</table>\n",
       "</div>"
      ],
      "text/plain": [
       "                                  name  \\\n",
       "0  Muhammad Bagus Adi Prayoga (He/Him)   \n",
       "1        Ananda Rizky Pratama (He/Him)   \n",
       "2     Muhammad Novendra Aditya Nugraha   \n",
       "3                    Abdullah Taqiyyan   \n",
       "4              Muhamad Eko Febriansyah   \n",
       "5                     Henry Dewa Brata   \n",
       "6                  Avi Chawla (He/Him)   \n",
       "7           Kevin Malik Fajar (He/Him)   \n",
       "8       Ahmad Zakaria Fathoni (He/Him)   \n",
       "9                  Ade Rahmat Setiawan   \n",
       "\n",
       "                                      tempat_bekerja  \\\n",
       "0                    M-Knows Consulting · Internship   \n",
       "1                                   Contract · 6 mos   \n",
       "2                      PT PLN (Persero) · Internship   \n",
       "3                PT. Riung Mitra Lestari · Full-time   \n",
       "4          PT Yamaha Motor R&D Indonesia · Full-time   \n",
       "5                           PT. Astra Daihatsu Motor   \n",
       "6                               Towards Data Science   \n",
       "7  Bangkit Academy led by Google, Tokopedia, Goje...   \n",
       "8  Bangkit Academy led by Google, Tokopedia, Goje...   \n",
       "9              Politeknik Negeri Semarang · Contract   \n",
       "\n",
       "                                      posisi_bekerja durasi_bekerja  \\\n",
       "0                       AI Programmer & Data Science          2 mos   \n",
       "1  Inspection Engineer - Mechanical Static Equipment          3 mos   \n",
       "2                                 Internship Trainee          6 mos   \n",
       "3                            Supply Chain Management          2 mos   \n",
       "4                               Body Design Engineer          7 mos   \n",
       "5                             Component Export Staff      1 yr 1 mo   \n",
       "6                                Data Science Writer         11 mos   \n",
       "7        Bangkit Academy Cohort - Mobile Development          2 mos   \n",
       "8                           Machine Learning Student          2 mos   \n",
       "9                                            Student     1 yr 7 mos   \n",
       "\n",
       "                                 pendidikan_terakhir  \\\n",
       "0                         Politeknik Negeri Semarang   \n",
       "1                         Politeknik Negeri Semarang   \n",
       "2                         Politeknik Negeri Semarang   \n",
       "3                         Politeknik Negeri Semarang   \n",
       "4                         Politeknik Negeri Semarang   \n",
       "5                         Politeknik Negeri Semarang   \n",
       "6  Indian Institute of Technology (Banaras Hindu ...   \n",
       "7                       Universitas Trunojoyo Madura   \n",
       "8                         Politeknik Negeri Semarang   \n",
       "9                               SMK Negeri 1 Kebumen   \n",
       "\n",
       "                                              degree  \n",
       "0  Bachelor of Applied Science - BASc, Computer E...  \n",
       "1  Bachelor of Applied Science - BASc, Mechanical...  \n",
       "2                  Ahli Madya Teknik, Teknik Elektro  \n",
       "3             Bachelor's degree, Mechanical Engineer  \n",
       "4  Bachelor of Applied Science - BASc, Mechanical...  \n",
       "5         Associate's degree, Mechanical Engineering  \n",
       "6  Bachelor of Technology, Computer Science and E...  \n",
       "7   Bachelor of Technology - BTech, Sistem Informasi  \n",
       "8           Diploma of Education, Teknik Informatika  \n",
       "9       Highschool student, Rekayasa Perangkat Lunak  "
      ]
     },
     "execution_count": 56,
     "metadata": {},
     "output_type": "execute_result"
    }
   ],
   "source": [
    "import pandas as pd\n",
    "\n",
    "df = pd.DataFrame(person_list)\n",
    "df"
   ]
  },
  {
   "attachments": {},
   "cell_type": "markdown",
   "metadata": {},
   "source": [
    "## Scrape Company"
   ]
  }
 ],
 "metadata": {
  "kernelspec": {
   "display_name": "scrape",
   "language": "python",
   "name": "python3"
  },
  "language_info": {
   "codemirror_mode": {
    "name": "ipython",
    "version": 3
   },
   "file_extension": ".py",
   "mimetype": "text/x-python",
   "name": "python",
   "nbconvert_exporter": "python",
   "pygments_lexer": "ipython3",
   "version": "3.9.16 | packaged by conda-forge | (main, Feb  1 2023, 21:39:03) \n[GCC 11.3.0]"
  },
  "orig_nbformat": 4,
  "vscode": {
   "interpreter": {
    "hash": "b692b536d1e6c642ee2afdc9b60af3b9fae914e41415a710a1f7dab56473b6bc"
   }
  }
 },
 "nbformat": 4,
 "nbformat_minor": 2
}
