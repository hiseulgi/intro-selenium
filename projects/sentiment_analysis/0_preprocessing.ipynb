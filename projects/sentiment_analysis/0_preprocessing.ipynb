{
 "cells": [
  {
   "cell_type": "code",
   "execution_count": 75,
   "metadata": {},
   "outputs": [],
   "source": [
    "import pandas as pd\n",
    "import re"
   ]
  },
  {
   "cell_type": "code",
   "execution_count": 93,
   "metadata": {},
   "outputs": [
    {
     "data": {
      "text/plain": [
       "0    Izin bertnya apakah studi idenpenden mitra pro...\n",
       "1                               Dapat uang saku gaksih\n",
       "2            @rwrt1.0 kelas full english kak batch ini\n",
       "3                        Saya, saya bang ga lolos msib\n",
       "4                                                   🔥🔥\n",
       "Name: comment, dtype: object"
      ]
     },
     "execution_count": 93,
     "metadata": {},
     "output_type": "execute_result"
    }
   ],
   "source": [
    "df_ori = pd.read_csv('data/df_kotor.csv', index_col=0)\n",
    "df = df_ori[\"comment\"]\n",
    "df.head()"
   ]
  },
  {
   "attachments": {},
   "cell_type": "markdown",
   "metadata": {},
   "source": [
    "## Casefolding"
   ]
  },
  {
   "cell_type": "code",
   "execution_count": 94,
   "metadata": {},
   "outputs": [],
   "source": [
    "# remove sentence which contains only one word\n",
    "def remove_sentence(text): \n",
    "    word = text.split()\n",
    "    wordCount = len(word)\n",
    "    if(wordCount<=1):\n",
    "        text = ''\n",
    "        \n",
    "    return text"
   ]
  },
  {
   "cell_type": "code",
   "execution_count": 95,
   "metadata": {},
   "outputs": [
    {
     "data": {
      "text/plain": [
       "0    izin bertnya apakah studi idenpenden mitra pro...\n",
       "1                               dapat uang saku gaksih\n",
       "2                     kelas full english kak batch ini\n",
       "3                         saya saya bang ga lolos msib\n",
       "4                                                     \n",
       "Name: comment, dtype: object"
      ]
     },
     "execution_count": 95,
     "metadata": {},
     "output_type": "execute_result"
    }
   ],
   "source": [
    "def casefolding(text):\n",
    "    # mengubah huruf kapital menjadi huruf kecil\n",
    "    text = text.lower()\n",
    "    \n",
    "    # menghapus mention dan link\n",
    "    text = re.sub(r\"(?:\\@|http?\\://|https?\\://|www)\\S+\", \"\", text)\n",
    "    \n",
    "    # menghapus semua karakter selain huruf dan angka\n",
    "    text = re.sub(r'[^a-z0-9 ]', '', text)\n",
    "    \n",
    "    # menghapus angka\n",
    "    text = re.sub(r\"\\b\\d+\\b\", \" \", text)\n",
    "    return text\n",
    "\n",
    "df = df.apply(remove_sentence)\n",
    "df = df.apply(casefolding)\n",
    "df.head()"
   ]
  },
  {
   "attachments": {},
   "cell_type": "markdown",
   "metadata": {},
   "source": [
    "## Tokenization"
   ]
  },
  {
   "cell_type": "code",
   "execution_count": 96,
   "metadata": {},
   "outputs": [
    {
     "data": {
      "text/plain": [
       "0    [izin, bertnya, apakah, studi, idenpenden, mit...\n",
       "1                          [dapat, uang, saku, gaksih]\n",
       "2              [kelas, full, english, kak, batch, ini]\n",
       "3                  [saya, saya, bang, ga, lolos, msib]\n",
       "4                                                   []\n",
       "Name: comment, dtype: object"
      ]
     },
     "execution_count": 96,
     "metadata": {},
     "output_type": "execute_result"
    }
   ],
   "source": [
    "def tokenization(text):\n",
    "    # memecah kalimat menjadi kata\n",
    "    text = text.split()\n",
    "    return text\n",
    "\n",
    "df = df.apply(tokenization)\n",
    "df.head()"
   ]
  },
  {
   "attachments": {},
   "cell_type": "markdown",
   "metadata": {},
   "source": [
    "## Filtering"
   ]
  },
  {
   "attachments": {},
   "cell_type": "markdown",
   "metadata": {},
   "source": [
    "### Replace Slangs"
   ]
  },
  {
   "cell_type": "code",
   "execution_count": 97,
   "metadata": {},
   "outputs": [],
   "source": [
    "df_slang = pd.read_csv('src/colloquial-indonesian-lexicon.csv')\n",
    "slang_dict = dict(zip(df_slang['slang'], df_slang['formal']))"
   ]
  },
  {
   "cell_type": "code",
   "execution_count": 98,
   "metadata": {},
   "outputs": [],
   "source": [
    "import json\n",
    "\n",
    "slangword = {}\n",
    "\n",
    "with open('src/combined_slang_words.txt', 'r') as f:\n",
    "    slangword = json.load(f)"
   ]
  },
  {
   "cell_type": "code",
   "execution_count": 99,
   "metadata": {},
   "outputs": [
    {
     "data": {
      "text/plain": [
       "0    [izin, bertnya, apakah, studi, idenpenden, mit...\n",
       "1                          [dapat, uang, saku, gaksih]\n",
       "2              [kelas, full, english, kak, batch, ini]\n",
       "3               [saya, saya, bang, tidak, lolos, msib]\n",
       "4                                                   []\n",
       "Name: comment, dtype: object"
      ]
     },
     "execution_count": 99,
     "metadata": {},
     "output_type": "execute_result"
    }
   ],
   "source": [
    "def replace_slang(text):\n",
    "    return [slang_dict.get(token, token) for token in text]\n",
    "\n",
    "def replace_slang_v2(text):\n",
    "    return [slangword.get(token, token) for token in text]\n",
    "\n",
    "df = df.apply(replace_slang)\n",
    "df = df.apply(replace_slang_v2)\n",
    "df.head()"
   ]
  },
  {
   "attachments": {},
   "cell_type": "markdown",
   "metadata": {},
   "source": [
    "### Remove Stopwords"
   ]
  },
  {
   "cell_type": "code",
   "execution_count": 100,
   "metadata": {},
   "outputs": [
    {
     "data": {
      "text/plain": [
       "0    [izin, bertnya, studi, idenpenden, mitra, prog...\n",
       "1                                 [uang, saku, gaksih]\n",
       "2                        [kelas, full, english, batch]\n",
       "3                                        [lolos, msib]\n",
       "4                                                   []\n",
       "Name: comment, dtype: object"
      ]
     },
     "execution_count": 100,
     "metadata": {},
     "output_type": "execute_result"
    }
   ],
   "source": [
    "from nltk.corpus import stopwords\n",
    "\n",
    "stop_words = set(stopwords.words('indonesian', 'english'))\n",
    "stop_words.update([\n",
    "    'min', 'ga', 'gak', 'iya', 'ya', 'sih', 'gk', 'kak', 'bang', 'pak', 'sir', 'bro', 'sob', 'sdr','mbak', 'mba', 'kakak', 'kakaknya', 'kakakku', 'nya', 'mas', \n",
    "])\n",
    "\n",
    "def remove_stopword(text):\n",
    "    return [word for word in text if not word in stop_words]\n",
    "\n",
    "df = df.apply(remove_stopword)\n",
    "df.head()"
   ]
  },
  {
   "attachments": {},
   "cell_type": "markdown",
   "metadata": {},
   "source": [
    "## Stemming"
   ]
  },
  {
   "cell_type": "code",
   "execution_count": 101,
   "metadata": {},
   "outputs": [
    {
     "data": {
      "text/plain": [
       "0    [izin, bertnya, studi, idenpenden, mitra, prog...\n",
       "1                                 [uang, saku, gaksih]\n",
       "2                        [kelas, full, english, batch]\n",
       "3                                        [lolos, msib]\n",
       "4                                                   []\n",
       "Name: comment, dtype: object"
      ]
     },
     "execution_count": 101,
     "metadata": {},
     "output_type": "execute_result"
    }
   ],
   "source": [
    "from sklearn.pipeline import Pipeline\n",
    "from Sastrawi.Stemmer.StemmerFactory import StemmerFactory\n",
    "\n",
    "def stemming(text):\n",
    "    factory = StemmerFactory()\n",
    "    stemmer = factory.create_stemmer()\n",
    "    return [stemmer.stem(word) for word in text]\n",
    "\n",
    "df = df.apply(stemming)\n",
    "df.head()"
   ]
  },
  {
   "attachments": {},
   "cell_type": "markdown",
   "metadata": {},
   "source": [
    "## Save Preprocessed Data"
   ]
  },
  {
   "cell_type": "code",
   "execution_count": 102,
   "metadata": {},
   "outputs": [],
   "source": [
    "df_clean = df_ori.copy()\n",
    "df_clean = df_clean.drop(columns=['clean', 'topic'])\n",
    "df_clean[\"clean\"] = df.apply(lambda x: ' '.join(x))\n",
    "\n",
    "# save to csv\n",
    "df_clean.to_csv('data/df_clean.csv')"
   ]
  },
  {
   "cell_type": "code",
   "execution_count": 104,
   "metadata": {},
   "outputs": [
    {
     "data": {
      "text/html": [
       "<div>\n",
       "<style scoped>\n",
       "    .dataframe tbody tr th:only-of-type {\n",
       "        vertical-align: middle;\n",
       "    }\n",
       "\n",
       "    .dataframe tbody tr th {\n",
       "        vertical-align: top;\n",
       "    }\n",
       "\n",
       "    .dataframe thead th {\n",
       "        text-align: right;\n",
       "    }\n",
       "</style>\n",
       "<table border=\"1\" class=\"dataframe\">\n",
       "  <thead>\n",
       "    <tr style=\"text-align: right;\">\n",
       "      <th></th>\n",
       "      <th>comment</th>\n",
       "      <th>clean</th>\n",
       "    </tr>\n",
       "  </thead>\n",
       "  <tbody>\n",
       "    <tr>\n",
       "      <th>0</th>\n",
       "      <td>Izin bertnya apakah studi idenpenden mitra pro...</td>\n",
       "      <td>izin bertnya studi idenpenden mitra programing...</td>\n",
       "    </tr>\n",
       "    <tr>\n",
       "      <th>1</th>\n",
       "      <td>Dapat uang saku gaksih</td>\n",
       "      <td>uang saku gaksih</td>\n",
       "    </tr>\n",
       "    <tr>\n",
       "      <th>2</th>\n",
       "      <td>@rwrt1.0 kelas full english kak batch ini</td>\n",
       "      <td>kelas full english batch</td>\n",
       "    </tr>\n",
       "    <tr>\n",
       "      <th>3</th>\n",
       "      <td>Saya, saya bang ga lolos msib</td>\n",
       "      <td>lolos msib</td>\n",
       "    </tr>\n",
       "    <tr>\n",
       "      <th>4</th>\n",
       "      <td>🔥🔥</td>\n",
       "      <td></td>\n",
       "    </tr>\n",
       "  </tbody>\n",
       "</table>\n",
       "</div>"
      ],
      "text/plain": [
       "                                             comment  \\\n",
       "0  Izin bertnya apakah studi idenpenden mitra pro...   \n",
       "1                             Dapat uang saku gaksih   \n",
       "2          @rwrt1.0 kelas full english kak batch ini   \n",
       "3                      Saya, saya bang ga lolos msib   \n",
       "4                                                 🔥🔥   \n",
       "\n",
       "                                               clean  \n",
       "0  izin bertnya studi idenpenden mitra programing...  \n",
       "1                                   uang saku gaksih  \n",
       "2                           kelas full english batch  \n",
       "3                                         lolos msib  \n",
       "4                                                     "
      ]
     },
     "execution_count": 104,
     "metadata": {},
     "output_type": "execute_result"
    }
   ],
   "source": [
    "df_clean.head()"
   ]
  }
 ],
 "metadata": {
  "kernelspec": {
   "display_name": "base",
   "language": "python",
   "name": "python3"
  },
  "language_info": {
   "codemirror_mode": {
    "name": "ipython",
    "version": 3
   },
   "file_extension": ".py",
   "mimetype": "text/x-python",
   "name": "python",
   "nbconvert_exporter": "python",
   "pygments_lexer": "ipython3",
   "version": "3.9.12"
  },
  "orig_nbformat": 4,
  "vscode": {
   "interpreter": {
    "hash": "f1961e4fab7c657ac053f9fdb2ae9561ee61e35aef124aaa5e4d96292a32a9f5"
   }
  }
 },
 "nbformat": 4,
 "nbformat_minor": 2
}
