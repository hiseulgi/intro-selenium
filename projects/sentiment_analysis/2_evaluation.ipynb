{
 "cells": [
  {
   "cell_type": "code",
   "execution_count": 99,
   "metadata": {},
   "outputs": [],
   "source": [
    "import pandas as pd"
   ]
  },
  {
   "attachments": {},
   "cell_type": "markdown",
   "metadata": {},
   "source": [
    "## Evaluasi Pertama\n",
    "Dilakukan preprocessing terhadap data yaitu dengan casefolding, tokenization, filtering (remove slang lang, remove stopword), dan stemming."
   ]
  },
  {
   "cell_type": "code",
   "execution_count": 100,
   "metadata": {},
   "outputs": [
    {
     "data": {
      "text/html": [
       "<div>\n",
       "<style scoped>\n",
       "    .dataframe tbody tr th:only-of-type {\n",
       "        vertical-align: middle;\n",
       "    }\n",
       "\n",
       "    .dataframe tbody tr th {\n",
       "        vertical-align: top;\n",
       "    }\n",
       "\n",
       "    .dataframe thead th {\n",
       "        text-align: right;\n",
       "    }\n",
       "</style>\n",
       "<table border=\"1\" class=\"dataframe\">\n",
       "  <thead>\n",
       "    <tr style=\"text-align: right;\">\n",
       "      <th></th>\n",
       "      <th>ï»¿comment</th>\n",
       "      <th>clean</th>\n",
       "      <th>label_manual</th>\n",
       "      <th>sentimen</th>\n",
       "      <th>sentiment_indobert</th>\n",
       "      <th>sentiment_indobert_kotor</th>\n",
       "      <th>sentiment_roberta</th>\n",
       "      <th>sentiment_roberta_kotor</th>\n",
       "    </tr>\n",
       "  </thead>\n",
       "  <tbody>\n",
       "    <tr>\n",
       "      <th>0</th>\n",
       "      <td>Izin bertnya apakah studi idenpenden mitra pro...</td>\n",
       "      <td>izin bertnya studi idenpenden mitra programing...</td>\n",
       "      <td>1</td>\n",
       "      <td>1</td>\n",
       "      <td>1</td>\n",
       "      <td>1</td>\n",
       "      <td>1</td>\n",
       "      <td>1</td>\n",
       "    </tr>\n",
       "    <tr>\n",
       "      <th>1</th>\n",
       "      <td>Dapat uang saku gaksih</td>\n",
       "      <td>uang saku gaksih</td>\n",
       "      <td>1</td>\n",
       "      <td>1</td>\n",
       "      <td>0</td>\n",
       "      <td>2</td>\n",
       "      <td>1</td>\n",
       "      <td>1</td>\n",
       "    </tr>\n",
       "    <tr>\n",
       "      <th>2</th>\n",
       "      <td>@rwrt1.0 kelas full english kak batch ini</td>\n",
       "      <td>kelas full english batch</td>\n",
       "      <td>1</td>\n",
       "      <td>2</td>\n",
       "      <td>1</td>\n",
       "      <td>1</td>\n",
       "      <td>1</td>\n",
       "      <td>1</td>\n",
       "    </tr>\n",
       "    <tr>\n",
       "      <th>3</th>\n",
       "      <td>Saya, saya bang ga lolos msib</td>\n",
       "      <td>lolos msib</td>\n",
       "      <td>0</td>\n",
       "      <td>1</td>\n",
       "      <td>2</td>\n",
       "      <td>0</td>\n",
       "      <td>1</td>\n",
       "      <td>0</td>\n",
       "    </tr>\n",
       "    <tr>\n",
       "      <th>4</th>\n",
       "      <td>@syanasblaa lanjut dm kak</td>\n",
       "      <td>dm</td>\n",
       "      <td>1</td>\n",
       "      <td>1</td>\n",
       "      <td>1</td>\n",
       "      <td>1</td>\n",
       "      <td>0</td>\n",
       "      <td>1</td>\n",
       "    </tr>\n",
       "  </tbody>\n",
       "</table>\n",
       "</div>"
      ],
      "text/plain": [
       "                                          ï»¿comment  \\\n",
       "0  Izin bertnya apakah studi idenpenden mitra pro...   \n",
       "1                             Dapat uang saku gaksih   \n",
       "2          @rwrt1.0 kelas full english kak batch ini   \n",
       "3                      Saya, saya bang ga lolos msib   \n",
       "4                          @syanasblaa lanjut dm kak   \n",
       "\n",
       "                                               clean  label_manual  sentimen  \\\n",
       "0  izin bertnya studi idenpenden mitra programing...             1         1   \n",
       "1                                   uang saku gaksih             1         1   \n",
       "2                           kelas full english batch             1         2   \n",
       "3                                         lolos msib             0         1   \n",
       "4                                                 dm             1         1   \n",
       "\n",
       "   sentiment_indobert  sentiment_indobert_kotor  sentiment_roberta  \\\n",
       "0                   1                         1                  1   \n",
       "1                   0                         2                  1   \n",
       "2                   1                         1                  1   \n",
       "3                   2                         0                  1   \n",
       "4                   1                         1                  0   \n",
       "\n",
       "   sentiment_roberta_kotor  \n",
       "0                        1  \n",
       "1                        1  \n",
       "2                        1  \n",
       "3                        0  \n",
       "4                        1  "
      ]
     },
     "execution_count": 100,
     "metadata": {},
     "output_type": "execute_result"
    }
   ],
   "source": [
    "df = pd.read_csv('data/df_sentiment_code.csv')\n",
    "df.head()"
   ]
  },
  {
   "cell_type": "code",
   "execution_count": 101,
   "metadata": {},
   "outputs": [],
   "source": [
    "# rename columns \n",
    "df = df.rename(columns={'ï»¿comment': 'comment'})"
   ]
  },
  {
   "cell_type": "code",
   "execution_count": 102,
   "metadata": {},
   "outputs": [
    {
     "name": "stdout",
     "output_type": "stream",
     "text": [
      "Akurasi TextBlob:  0.513184584178499\n",
      "Akurasi Indobert:  0.5496957403651116\n",
      "Akurasi Indobert Kotor:  0.6632860040567952\n",
      "Akurasi Roberta:  0.4969574036511156\n",
      "Akurasi Roberta Kotor:  0.6166328600405679\n"
     ]
    }
   ],
   "source": [
    "from sklearn.metrics import accuracy_score\n",
    "\n",
    "# hitung akurasi masing-masing kolom terhadap label_manual\n",
    "acc_textblob = accuracy_score(df['label_manual'], df['sentimen'])\n",
    "acc_indobert = accuracy_score(df['label_manual'], df['sentiment_indobert'])\n",
    "acc_indobert_kotor = accuracy_score(df['label_manual'], df['sentiment_indobert_kotor'])\n",
    "acc_roberta = accuracy_score(df['label_manual'], df['sentiment_roberta'])\n",
    "acc_roberta_kotor = accuracy_score(df['label_manual'], df['sentiment_roberta_kotor'])\n",
    "\n",
    "print('Akurasi TextBlob: ', acc_textblob)\n",
    "print('Akurasi Indobert: ', acc_indobert)\n",
    "print('Akurasi Indobert Kotor: ', acc_indobert_kotor)\n",
    "print('Akurasi Roberta: ', acc_roberta)\n",
    "print('Akurasi Roberta Kotor: ', acc_roberta_kotor)"
   ]
  },
  {
   "attachments": {},
   "cell_type": "markdown",
   "metadata": {},
   "source": [
    "## Evaluasi Kedua\n",
    "Dilakukan preprocessing terhadap data yaitu dengan casefolding, tokenization, dan filtering (remove slang lang)"
   ]
  },
  {
   "cell_type": "code",
   "execution_count": 103,
   "metadata": {},
   "outputs": [
    {
     "data": {
      "text/html": [
       "<div>\n",
       "<style scoped>\n",
       "    .dataframe tbody tr th:only-of-type {\n",
       "        vertical-align: middle;\n",
       "    }\n",
       "\n",
       "    .dataframe tbody tr th {\n",
       "        vertical-align: top;\n",
       "    }\n",
       "\n",
       "    .dataframe thead th {\n",
       "        text-align: right;\n",
       "    }\n",
       "</style>\n",
       "<table border=\"1\" class=\"dataframe\">\n",
       "  <thead>\n",
       "    <tr style=\"text-align: right;\">\n",
       "      <th></th>\n",
       "      <th>comment</th>\n",
       "      <th>clean</th>\n",
       "      <th>sentimen</th>\n",
       "      <th>sentiment_indobert</th>\n",
       "      <th>sentiment_indobert_kotor</th>\n",
       "      <th>sentiment_roberta</th>\n",
       "      <th>sentiment_roberta_kotor</th>\n",
       "    </tr>\n",
       "  </thead>\n",
       "  <tbody>\n",
       "    <tr>\n",
       "      <th>0</th>\n",
       "      <td>Izin bertnya apakah studi idenpenden mitra pro...</td>\n",
       "      <td>izin bertnya apakah studi idenpenden mitra pro...</td>\n",
       "      <td>1</td>\n",
       "      <td>1</td>\n",
       "      <td>1</td>\n",
       "      <td>1</td>\n",
       "      <td>1</td>\n",
       "    </tr>\n",
       "    <tr>\n",
       "      <th>1</th>\n",
       "      <td>Dapat uang saku gaksih</td>\n",
       "      <td>dapat uang saku gaksih</td>\n",
       "      <td>1</td>\n",
       "      <td>2</td>\n",
       "      <td>2</td>\n",
       "      <td>1</td>\n",
       "      <td>1</td>\n",
       "    </tr>\n",
       "    <tr>\n",
       "      <th>2</th>\n",
       "      <td>@rwrt1.0 kelas full english kak batch ini</td>\n",
       "      <td>kelas full english kak batch ini</td>\n",
       "      <td>2</td>\n",
       "      <td>1</td>\n",
       "      <td>1</td>\n",
       "      <td>1</td>\n",
       "      <td>1</td>\n",
       "    </tr>\n",
       "    <tr>\n",
       "      <th>3</th>\n",
       "      <td>Saya, saya bang ga lolos msib</td>\n",
       "      <td>saya saya bang tidak lolos msib</td>\n",
       "      <td>1</td>\n",
       "      <td>0</td>\n",
       "      <td>0</td>\n",
       "      <td>0</td>\n",
       "      <td>0</td>\n",
       "    </tr>\n",
       "    <tr>\n",
       "      <th>4</th>\n",
       "      <td>@syanasblaa lanjut dm kak</td>\n",
       "      <td>lanjut dm kak</td>\n",
       "      <td>1</td>\n",
       "      <td>1</td>\n",
       "      <td>1</td>\n",
       "      <td>1</td>\n",
       "      <td>1</td>\n",
       "    </tr>\n",
       "  </tbody>\n",
       "</table>\n",
       "</div>"
      ],
      "text/plain": [
       "                                             comment  \\\n",
       "0  Izin bertnya apakah studi idenpenden mitra pro...   \n",
       "1                             Dapat uang saku gaksih   \n",
       "2          @rwrt1.0 kelas full english kak batch ini   \n",
       "3                      Saya, saya bang ga lolos msib   \n",
       "4                          @syanasblaa lanjut dm kak   \n",
       "\n",
       "                                               clean  sentimen  \\\n",
       "0  izin bertnya apakah studi idenpenden mitra pro...         1   \n",
       "1                             dapat uang saku gaksih         1   \n",
       "2                   kelas full english kak batch ini         2   \n",
       "3                    saya saya bang tidak lolos msib         1   \n",
       "4                                      lanjut dm kak         1   \n",
       "\n",
       "   sentiment_indobert  sentiment_indobert_kotor  sentiment_roberta  \\\n",
       "0                   1                         1                  1   \n",
       "1                   2                         2                  1   \n",
       "2                   1                         1                  1   \n",
       "3                   0                         0                  0   \n",
       "4                   1                         1                  1   \n",
       "\n",
       "   sentiment_roberta_kotor  \n",
       "0                        1  \n",
       "1                        1  \n",
       "2                        1  \n",
       "3                        0  \n",
       "4                        1  "
      ]
     },
     "execution_count": 103,
     "metadata": {},
     "output_type": "execute_result"
    }
   ],
   "source": [
    "df2 = pd.read_csv('data/df_sentiment_tanpa_stem_code.csv')\n",
    "df2.head()"
   ]
  },
  {
   "cell_type": "code",
   "execution_count": 104,
   "metadata": {},
   "outputs": [
    {
     "data": {
      "text/html": [
       "<div>\n",
       "<style scoped>\n",
       "    .dataframe tbody tr th:only-of-type {\n",
       "        vertical-align: middle;\n",
       "    }\n",
       "\n",
       "    .dataframe tbody tr th {\n",
       "        vertical-align: top;\n",
       "    }\n",
       "\n",
       "    .dataframe thead th {\n",
       "        text-align: right;\n",
       "    }\n",
       "</style>\n",
       "<table border=\"1\" class=\"dataframe\">\n",
       "  <thead>\n",
       "    <tr style=\"text-align: right;\">\n",
       "      <th></th>\n",
       "      <th>comment</th>\n",
       "      <th>clean</th>\n",
       "      <th>sentimen</th>\n",
       "      <th>sentiment_indobert</th>\n",
       "      <th>sentiment_indobert_kotor</th>\n",
       "      <th>sentiment_roberta</th>\n",
       "      <th>sentiment_roberta_kotor</th>\n",
       "      <th>label_manual</th>\n",
       "    </tr>\n",
       "  </thead>\n",
       "  <tbody>\n",
       "    <tr>\n",
       "      <th>0</th>\n",
       "      <td>Izin bertnya apakah studi idenpenden mitra pro...</td>\n",
       "      <td>izin bertnya apakah studi idenpenden mitra pro...</td>\n",
       "      <td>1</td>\n",
       "      <td>1</td>\n",
       "      <td>1</td>\n",
       "      <td>1</td>\n",
       "      <td>1</td>\n",
       "      <td>1.0</td>\n",
       "    </tr>\n",
       "    <tr>\n",
       "      <th>1</th>\n",
       "      <td>Dapat uang saku gaksih</td>\n",
       "      <td>dapat uang saku gaksih</td>\n",
       "      <td>1</td>\n",
       "      <td>2</td>\n",
       "      <td>2</td>\n",
       "      <td>1</td>\n",
       "      <td>1</td>\n",
       "      <td>1.0</td>\n",
       "    </tr>\n",
       "    <tr>\n",
       "      <th>2</th>\n",
       "      <td>@rwrt1.0 kelas full english kak batch ini</td>\n",
       "      <td>kelas full english kak batch ini</td>\n",
       "      <td>2</td>\n",
       "      <td>1</td>\n",
       "      <td>1</td>\n",
       "      <td>1</td>\n",
       "      <td>1</td>\n",
       "      <td>1.0</td>\n",
       "    </tr>\n",
       "    <tr>\n",
       "      <th>3</th>\n",
       "      <td>Saya, saya bang ga lolos msib</td>\n",
       "      <td>saya saya bang tidak lolos msib</td>\n",
       "      <td>1</td>\n",
       "      <td>0</td>\n",
       "      <td>0</td>\n",
       "      <td>0</td>\n",
       "      <td>0</td>\n",
       "      <td>0.0</td>\n",
       "    </tr>\n",
       "    <tr>\n",
       "      <th>4</th>\n",
       "      <td>@syanasblaa lanjut dm kak</td>\n",
       "      <td>lanjut dm kak</td>\n",
       "      <td>1</td>\n",
       "      <td>1</td>\n",
       "      <td>1</td>\n",
       "      <td>1</td>\n",
       "      <td>1</td>\n",
       "      <td>1.0</td>\n",
       "    </tr>\n",
       "  </tbody>\n",
       "</table>\n",
       "</div>"
      ],
      "text/plain": [
       "                                             comment  \\\n",
       "0  Izin bertnya apakah studi idenpenden mitra pro...   \n",
       "1                             Dapat uang saku gaksih   \n",
       "2          @rwrt1.0 kelas full english kak batch ini   \n",
       "3                      Saya, saya bang ga lolos msib   \n",
       "4                          @syanasblaa lanjut dm kak   \n",
       "\n",
       "                                               clean  sentimen  \\\n",
       "0  izin bertnya apakah studi idenpenden mitra pro...         1   \n",
       "1                             dapat uang saku gaksih         1   \n",
       "2                   kelas full english kak batch ini         2   \n",
       "3                    saya saya bang tidak lolos msib         1   \n",
       "4                                      lanjut dm kak         1   \n",
       "\n",
       "   sentiment_indobert  sentiment_indobert_kotor  sentiment_roberta  \\\n",
       "0                   1                         1                  1   \n",
       "1                   2                         2                  1   \n",
       "2                   1                         1                  1   \n",
       "3                   0                         0                  0   \n",
       "4                   1                         1                  1   \n",
       "\n",
       "   sentiment_roberta_kotor  label_manual  \n",
       "0                        1           1.0  \n",
       "1                        1           1.0  \n",
       "2                        1           1.0  \n",
       "3                        0           0.0  \n",
       "4                        1           1.0  "
      ]
     },
     "execution_count": 104,
     "metadata": {},
     "output_type": "execute_result"
    }
   ],
   "source": [
    "# distinc label\n",
    "merged_table = pd.merge(df2, df[['comment', 'label_manual']], on='comment', how='left')\n",
    "merged_table.head()"
   ]
  },
  {
   "cell_type": "code",
   "execution_count": 105,
   "metadata": {},
   "outputs": [],
   "source": [
    "merged_table = merged_table.dropna()"
   ]
  },
  {
   "cell_type": "code",
   "execution_count": 106,
   "metadata": {},
   "outputs": [],
   "source": [
    "# change label_manual columns into int\n",
    "merged_table['label_manual'] = merged_table['label_manual'].astype(int)"
   ]
  },
  {
   "cell_type": "code",
   "execution_count": 107,
   "metadata": {},
   "outputs": [
    {
     "name": "stdout",
     "output_type": "stream",
     "text": [
      "Akurasi TextBlob:  0.5128205128205128\n",
      "Akurasi Indobert:  0.6410256410256411\n",
      "Akurasi Indobert Kotor:  0.6780626780626781\n",
      "Akurasi Roberta:  0.6096866096866097\n",
      "Akurasi Roberta Kotor:  0.6438746438746439\n"
     ]
    }
   ],
   "source": [
    "from sklearn.metrics import accuracy_score\n",
    "\n",
    "# hitung akurasi masing-masing kolom terhadap label_manual\n",
    "acc_textblob = accuracy_score(merged_table['label_manual'], merged_table['sentimen'])\n",
    "acc_indobert = accuracy_score(merged_table['label_manual'], merged_table['sentiment_indobert'])\n",
    "acc_indobert_kotor = accuracy_score(merged_table['label_manual'], merged_table['sentiment_indobert_kotor'])\n",
    "acc_roberta = accuracy_score(merged_table['label_manual'], merged_table['sentiment_roberta'])\n",
    "acc_roberta_kotor = accuracy_score(merged_table['label_manual'], merged_table['sentiment_roberta_kotor'])\n",
    "\n",
    "print('Akurasi TextBlob: ', acc_textblob)\n",
    "print('Akurasi Indobert: ', acc_indobert)\n",
    "print('Akurasi Indobert Kotor: ', acc_indobert_kotor)\n",
    "print('Akurasi Roberta: ', acc_roberta)\n",
    "print('Akurasi Roberta Kotor: ', acc_roberta_kotor)"
   ]
  },
  {
   "attachments": {},
   "cell_type": "markdown",
   "metadata": {},
   "source": [
    "## Evaluasi Pertama (Ulang)\n",
    "Ini ngulangi lagi, soalnya data di evaluasi kedua berkurang. Ada yang kehapus waktu drop missing value."
   ]
  },
  {
   "cell_type": "code",
   "execution_count": 108,
   "metadata": {},
   "outputs": [
    {
     "data": {
      "text/plain": [
       "(351, 14)"
      ]
     },
     "execution_count": 108,
     "metadata": {},
     "output_type": "execute_result"
    }
   ],
   "source": [
    "merged_table2 = pd.merge(df, df2, on='comment', how='left')\n",
    "merged_table2 = merged_table2.dropna()\n",
    "merged_table2.shape"
   ]
  },
  {
   "cell_type": "code",
   "execution_count": 111,
   "metadata": {},
   "outputs": [
    {
     "name": "stdout",
     "output_type": "stream",
     "text": [
      "Akurasi TextBlob:  0.5498575498575499\n",
      "Akurasi Indobert:  0.5555555555555556\n",
      "Akurasi Indobert Kotor:  0.6780626780626781\n",
      "Akurasi Roberta:  0.5242165242165242\n",
      "Akurasi Roberta Kotor:  0.6438746438746439\n"
     ]
    }
   ],
   "source": [
    "from sklearn.metrics import accuracy_score\n",
    "\n",
    "# hitung akurasi masing-masing kolom terhadap label_manual\n",
    "acc_textblob = accuracy_score(merged_table2['label_manual'], merged_table2['sentimen_x'])\n",
    "acc_indobert = accuracy_score(merged_table2['label_manual'], merged_table2['sentiment_indobert_x'])\n",
    "acc_indobert_kotor = accuracy_score(merged_table2['label_manual'], merged_table2['sentiment_indobert_kotor_x'])\n",
    "acc_roberta = accuracy_score(merged_table2['label_manual'], merged_table2['sentiment_roberta_x'])\n",
    "acc_roberta_kotor = accuracy_score(merged_table2['label_manual'], merged_table2['sentiment_roberta_kotor_x'])\n",
    "\n",
    "print('Akurasi TextBlob: ', acc_textblob)\n",
    "print('Akurasi Indobert: ', acc_indobert)\n",
    "print('Akurasi Indobert Kotor: ', acc_indobert_kotor)\n",
    "print('Akurasi Roberta: ', acc_roberta)\n",
    "print('Akurasi Roberta Kotor: ', acc_roberta_kotor)"
   ]
  },
  {
   "attachments": {},
   "cell_type": "markdown",
   "metadata": {},
   "source": [
    "## Hide Me"
   ]
  },
  {
   "cell_type": "code",
   "execution_count": null,
   "metadata": {},
   "outputs": [],
   "source": [
    "# df2 = pd.read_csv(\"data/df_sentiment_tanpa_stem.csv\", encoding=\"latin-1\", index_col=0)\n",
    "# df2.sample(10)"
   ]
  },
  {
   "cell_type": "code",
   "execution_count": null,
   "metadata": {},
   "outputs": [],
   "source": [
    "# label_dict = {\"Negatif\": 0, \"Netral\": 1, \"Positif\": 2}\n",
    "\n",
    "# # menggunakan map untuk mengubah label menjadi angka\n",
    "# df2[\"sentimen\"] = df2[\"sentimen\"].map(label_dict)\n",
    "# df2[\"sentiment_indobert\"] = df2[\"sentiment_indobert\"].map(label_dict)\n",
    "# df2[\"sentiment_indobert_kotor\"] = df2[\"sentiment_indobert_kotor\"].map(label_dict)"
   ]
  },
  {
   "cell_type": "code",
   "execution_count": null,
   "metadata": {},
   "outputs": [],
   "source": [
    "# label_dict = {\"negative\": 0, \"neutral\": 1, \"positive\": 2}\n",
    "\n",
    "# # menggunakan map untuk mengubah label menjadi angka\n",
    "# df2[\"sentiment_roberta\"] = df2[\"sentiment_roberta\"].map(label_dict)\n",
    "# df2[\"sentiment_roberta_kotor\"] = df2[\"sentiment_roberta_kotor\"].map(label_dict)"
   ]
  },
  {
   "cell_type": "code",
   "execution_count": null,
   "metadata": {},
   "outputs": [],
   "source": [
    "# df2.to_csv(\"data/df_sentiment_tanpa_stem_code.csv\", index=False)"
   ]
  }
 ],
 "metadata": {
  "kernelspec": {
   "display_name": "base",
   "language": "python",
   "name": "python3"
  },
  "language_info": {
   "codemirror_mode": {
    "name": "ipython",
    "version": 3
   },
   "file_extension": ".py",
   "mimetype": "text/x-python",
   "name": "python",
   "nbconvert_exporter": "python",
   "pygments_lexer": "ipython3",
   "version": "3.9.12"
  },
  "orig_nbformat": 4,
  "vscode": {
   "interpreter": {
    "hash": "f1961e4fab7c657ac053f9fdb2ae9561ee61e35aef124aaa5e4d96292a32a9f5"
   }
  }
 },
 "nbformat": 4,
 "nbformat_minor": 2
}
