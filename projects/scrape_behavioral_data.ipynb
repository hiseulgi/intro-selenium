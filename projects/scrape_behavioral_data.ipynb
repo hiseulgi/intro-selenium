{
 "cells": [
  {
   "cell_type": "code",
   "execution_count": 216,
   "metadata": {},
   "outputs": [
    {
     "data": {
      "text/plain": [
       "True"
      ]
     },
     "execution_count": 216,
     "metadata": {},
     "output_type": "execute_result"
    }
   ],
   "source": [
    "from instagrapi import Client\n",
    "import pandas as pd\n",
    "import numpy as np\n",
    "from dotenv import load_dotenv\n",
    "from tqdm import tqdm\n",
    "import re\n",
    "\n",
    "load_dotenv()"
   ]
  },
  {
   "cell_type": "code",
   "execution_count": 113,
   "metadata": {},
   "outputs": [],
   "source": [
    "# get username and password from .env file\n",
    "USERNAME = os.getenv(\"ACCOUNT_USERNAME\")\n",
    "PASSWORD = os.getenv(\"ACCOUNT_PASSWORD\")"
   ]
  },
  {
   "cell_type": "code",
   "execution_count": 114,
   "metadata": {},
   "outputs": [
    {
     "data": {
      "text/plain": [
       "True"
      ]
     },
     "execution_count": 114,
     "metadata": {},
     "output_type": "execute_result"
    }
   ],
   "source": [
    "# login to instagram\n",
    "cl = Client()\n",
    "cl.login(USERNAME, PASSWORD)"
   ]
  },
  {
   "attachments": {},
   "cell_type": "markdown",
   "metadata": {},
   "source": [
    "Behavioral data: This includes user interactions, such as likes, comments, shares, and follows, which can reveal interests, preferences, and social networks."
   ]
  },
  {
   "attachments": {},
   "cell_type": "markdown",
   "metadata": {},
   "source": [
    "# Scrape Users Following"
   ]
  },
  {
   "cell_type": "code",
   "execution_count": 141,
   "metadata": {},
   "outputs": [],
   "source": [
    "\n",
    "# init read users from csv\n",
    "# insert all users you want to scrape data in the users.csv file\n",
    "users_list = pd.read_csv(\"data/users.csv\")[\"users\"].tolist()"
   ]
  },
  {
   "cell_type": "code",
   "execution_count": 184,
   "metadata": {},
   "outputs": [],
   "source": [
    "# get all users following data\n",
    "users_following = []\n",
    "\n",
    "for user in tqdm(users_list):\n",
    "    following_list = []\n",
    "    # followers_list = []\n",
    "    \n",
    "    user_id = cl.user_id_from_username(user)\n",
    "    user_info = cl.user_info(user_id)\n",
    "    follower_count = user_info.follower_count\n",
    "    following = cl.user_following(user_id)\n",
    "    \n",
    "    for key, val in following.items():\n",
    "        following_list.append(val.username)\n",
    "        \n",
    "    following = re.sub(r'[\\[\\]\\']', '', str(following_list))    \n",
    "    \n",
    "    users_following.append({\n",
    "        'userId': user_id,\n",
    "        'username':user,\n",
    "        'following_count': len(following_list),\n",
    "        'followers_count': follower_count,\n",
    "        'following_list': following,\n",
    "        # # 'followers_list': followers_list\n",
    "                                })"
   ]
  },
  {
   "cell_type": "code",
   "execution_count": 185,
   "metadata": {},
   "outputs": [
    {
     "data": {
      "text/html": [
       "<div>\n",
       "<style scoped>\n",
       "    .dataframe tbody tr th:only-of-type {\n",
       "        vertical-align: middle;\n",
       "    }\n",
       "\n",
       "    .dataframe tbody tr th {\n",
       "        vertical-align: top;\n",
       "    }\n",
       "\n",
       "    .dataframe thead th {\n",
       "        text-align: right;\n",
       "    }\n",
       "</style>\n",
       "<table border=\"1\" class=\"dataframe\">\n",
       "  <thead>\n",
       "    <tr style=\"text-align: right;\">\n",
       "      <th></th>\n",
       "      <th>userId</th>\n",
       "      <th>username</th>\n",
       "      <th>following_count</th>\n",
       "      <th>followers_count</th>\n",
       "      <th>following_list</th>\n",
       "    </tr>\n",
       "  </thead>\n",
       "  <tbody>\n",
       "    <tr>\n",
       "      <th>0</th>\n",
       "      <td>1067259270</td>\n",
       "      <td>google</td>\n",
       "      <td>34</td>\n",
       "      <td>13733489</td>\n",
       "      <td>googlepixel_us, googleworkspace, googleplay, y...</td>\n",
       "    </tr>\n",
       "    <tr>\n",
       "      <th>1</th>\n",
       "      <td>2248835396</td>\n",
       "      <td>sugab.3gp</td>\n",
       "      <td>920</td>\n",
       "      <td>543</td>\n",
       "      <td>jennierubyjane, redvelvet.smtown, chaeyo.0, it...</td>\n",
       "    </tr>\n",
       "    <tr>\n",
       "      <th>2</th>\n",
       "      <td>2286735082</td>\n",
       "      <td>ranggasaputra4000</td>\n",
       "      <td>297</td>\n",
       "      <td>164</td>\n",
       "      <td>marvelstudios, detikcom, nasro_768, adriantrip...</td>\n",
       "    </tr>\n",
       "    <tr>\n",
       "      <th>3</th>\n",
       "      <td>44378210506</td>\n",
       "      <td>googleindonesia</td>\n",
       "      <td>10</td>\n",
       "      <td>123697</td>\n",
       "      <td>googleuk, googleartsculture, googlearabia, wom...</td>\n",
       "    </tr>\n",
       "    <tr>\n",
       "      <th>4</th>\n",
       "      <td>8536113897</td>\n",
       "      <td>googleindia</td>\n",
       "      <td>17</td>\n",
       "      <td>923570</td>\n",
       "      <td>twinklerkhanna, vickykaushal09, googleworkspac...</td>\n",
       "    </tr>\n",
       "    <tr>\n",
       "      <th>5</th>\n",
       "      <td>7140177628</td>\n",
       "      <td>jennierubyjane</td>\n",
       "      <td>0</td>\n",
       "      <td>74728090</td>\n",
       "      <td></td>\n",
       "    </tr>\n",
       "    <tr>\n",
       "      <th>6</th>\n",
       "      <td>3514890218</td>\n",
       "      <td>marvelstudios</td>\n",
       "      <td>88</td>\n",
       "      <td>38438210</td>\n",
       "      <td>zendaya, marvellatam, gingerthejester, jameela...</td>\n",
       "    </tr>\n",
       "    <tr>\n",
       "      <th>7</th>\n",
       "      <td>1443380468</td>\n",
       "      <td>twinklerkhanna</td>\n",
       "      <td>139</td>\n",
       "      <td>7106115</td>\n",
       "      <td>whowhatwear, murugaofficial, mindful_madre, th...</td>\n",
       "    </tr>\n",
       "    <tr>\n",
       "      <th>8</th>\n",
       "      <td>4775555891</td>\n",
       "      <td>googlearabia</td>\n",
       "      <td>15</td>\n",
       "      <td>145542</td>\n",
       "      <td>unhcr_arabic, unicef_mena, unwomenarabic, susa...</td>\n",
       "    </tr>\n",
       "  </tbody>\n",
       "</table>\n",
       "</div>"
      ],
      "text/plain": [
       "        userId           username  following_count  followers_count  \\\n",
       "0   1067259270             google               34         13733489   \n",
       "1   2248835396          sugab.3gp              920              543   \n",
       "2   2286735082  ranggasaputra4000              297              164   \n",
       "3  44378210506    googleindonesia               10           123697   \n",
       "4   8536113897        googleindia               17           923570   \n",
       "5   7140177628     jennierubyjane                0         74728090   \n",
       "6   3514890218      marvelstudios               88         38438210   \n",
       "7   1443380468     twinklerkhanna              139          7106115   \n",
       "8   4775555891       googlearabia               15           145542   \n",
       "\n",
       "                                      following_list  \n",
       "0  googlepixel_us, googleworkspace, googleplay, y...  \n",
       "1  jennierubyjane, redvelvet.smtown, chaeyo.0, it...  \n",
       "2  marvelstudios, detikcom, nasro_768, adriantrip...  \n",
       "3  googleuk, googleartsculture, googlearabia, wom...  \n",
       "4  twinklerkhanna, vickykaushal09, googleworkspac...  \n",
       "5                                                     \n",
       "6  zendaya, marvellatam, gingerthejester, jameela...  \n",
       "7  whowhatwear, murugaofficial, mindful_madre, th...  \n",
       "8  unhcr_arabic, unicef_mena, unwomenarabic, susa...  "
      ]
     },
     "execution_count": 185,
     "metadata": {},
     "output_type": "execute_result"
    }
   ],
   "source": [
    "df_following = pd.DataFrame(users_following)\n",
    "df_following"
   ]
  },
  {
   "cell_type": "code",
   "execution_count": 218,
   "metadata": {},
   "outputs": [],
   "source": [
    "df_following.to_csv(\"data/users_following.csv\", index=False)"
   ]
  },
  {
   "attachments": {},
   "cell_type": "markdown",
   "metadata": {},
   "source": [
    "---"
   ]
  },
  {
   "attachments": {},
   "cell_type": "markdown",
   "metadata": {},
   "source": [
    "# Scrape User Comments on Post\n",
    "## Comments on His Post"
   ]
  },
  {
   "cell_type": "code",
   "execution_count": 206,
   "metadata": {},
   "outputs": [],
   "source": [
    "target_user = \"magangmerdeka\"\n",
    "medias = cl.user_medias(cl.user_id_from_username(target_user), amount=5)"
   ]
  },
  {
   "cell_type": "code",
   "execution_count": 225,
   "metadata": {},
   "outputs": [
    {
     "name": "stderr",
     "output_type": "stream",
     "text": [
      "  0%|          | 0/5 [00:00<?, ?it/s]"
     ]
    },
    {
     "name": "stdout",
     "output_type": "stream",
     "text": [
      "Media ID:  3040703176500040778\n"
     ]
    },
    {
     "name": "stderr",
     "output_type": "stream",
     "text": [
      "100%|██████████| 27/27 [00:00<00:00, 93360.44it/s]\n",
      " 20%|██        | 1/5 [00:03<00:12,  3.18s/it]"
     ]
    },
    {
     "name": "stdout",
     "output_type": "stream",
     "text": [
      "Media ID:  3040628760243908723\n"
     ]
    },
    {
     "name": "stderr",
     "output_type": "stream",
     "text": [
      "0it [00:00, ?it/s]\n",
      " 40%|████      | 2/5 [00:04<00:06,  2.15s/it]"
     ]
    },
    {
     "name": "stdout",
     "output_type": "stream",
     "text": [
      "Media ID:  3039164190767547396\n"
     ]
    },
    {
     "name": "stderr",
     "output_type": "stream",
     "text": [
      "100%|██████████| 234/234 [00:00<00:00, 83536.23it/s]\n",
      " 60%|██████    | 3/5 [00:30<00:26, 13.16s/it]"
     ]
    },
    {
     "name": "stdout",
     "output_type": "stream",
     "text": [
      "Media ID:  3037207643546326339\n"
     ]
    },
    {
     "name": "stderr",
     "output_type": "stream",
     "text": [
      "100%|██████████| 265/265 [00:00<00:00, 101859.47it/s]\n",
      " 80%|████████  | 4/5 [01:08<00:22, 22.99s/it]"
     ]
    },
    {
     "name": "stdout",
     "output_type": "stream",
     "text": [
      "Media ID:  3037097323897268103\n"
     ]
    },
    {
     "name": "stderr",
     "output_type": "stream",
     "text": [
      "100%|██████████| 54/54 [00:00<00:00, 57470.80it/s]\n",
      "100%|██████████| 5/5 [01:16<00:00, 15.33s/it]\n"
     ]
    }
   ],
   "source": [
    "target_user_comment = []\n",
    "\n",
    "for media in tqdm(medias):\n",
    "    print(\"Media ID: \", media.pk)\n",
    "    media_comments = cl.media_comments(media.pk, amount=500)\n",
    "    \n",
    "    for comment in tqdm(media_comments):\n",
    "        is_user = False\n",
    "        \n",
    "        if comment.user.username == target_user:\n",
    "            is_user = True\n",
    "        target_user_comment.append({\n",
    "            'date_time': comment.created_at_utc,\n",
    "            'is_user_post': is_user,\n",
    "            'user_id': comment.user.pk,\n",
    "            'username': comment.user.username,\n",
    "            'has_like': comment.has_liked,\n",
    "            'like_count': comment.like_count,\n",
    "            'comment_id': comment.pk,\n",
    "            'comment': comment.text,\n",
    "                                    })"
   ]
  },
  {
   "cell_type": "code",
   "execution_count": 226,
   "metadata": {},
   "outputs": [
    {
     "data": {
      "text/html": [
       "<div>\n",
       "<style scoped>\n",
       "    .dataframe tbody tr th:only-of-type {\n",
       "        vertical-align: middle;\n",
       "    }\n",
       "\n",
       "    .dataframe tbody tr th {\n",
       "        vertical-align: top;\n",
       "    }\n",
       "\n",
       "    .dataframe thead th {\n",
       "        text-align: right;\n",
       "    }\n",
       "</style>\n",
       "<table border=\"1\" class=\"dataframe\">\n",
       "  <thead>\n",
       "    <tr style=\"text-align: right;\">\n",
       "      <th></th>\n",
       "      <th>date_time</th>\n",
       "      <th>is_user_post</th>\n",
       "      <th>user_id</th>\n",
       "      <th>username</th>\n",
       "      <th>has_like</th>\n",
       "      <th>like_count</th>\n",
       "      <th>comment_id</th>\n",
       "      <th>comment</th>\n",
       "    </tr>\n",
       "  </thead>\n",
       "  <tbody>\n",
       "    <tr>\n",
       "      <th>0</th>\n",
       "      <td>2023-02-20 22:35:58+00:00</td>\n",
       "      <td>False</td>\n",
       "      <td>5911210509</td>\n",
       "      <td>pipiterika_</td>\n",
       "      <td>False</td>\n",
       "      <td>0.0</td>\n",
       "      <td>17969587667010469</td>\n",
       "      <td>Dapat uang saku gaksih</td>\n",
       "    </tr>\n",
       "    <tr>\n",
       "      <th>1</th>\n",
       "      <td>2023-02-20 11:15:33+00:00</td>\n",
       "      <td>False</td>\n",
       "      <td>7567114522</td>\n",
       "      <td>0tiekz_</td>\n",
       "      <td>None</td>\n",
       "      <td>NaN</td>\n",
       "      <td>18206124454214345</td>\n",
       "      <td>@rwrt1.0 kelas full english kak batch ini</td>\n",
       "    </tr>\n",
       "    <tr>\n",
       "      <th>2</th>\n",
       "      <td>2023-02-20 07:17:14+00:00</td>\n",
       "      <td>False</td>\n",
       "      <td>40533453762</td>\n",
       "      <td>novemberboy__</td>\n",
       "      <td>False</td>\n",
       "      <td>0.0</td>\n",
       "      <td>18081435949333130</td>\n",
       "      <td>Saya, saya bang ga lolos msib</td>\n",
       "    </tr>\n",
       "    <tr>\n",
       "      <th>3</th>\n",
       "      <td>2023-02-20 02:37:45+00:00</td>\n",
       "      <td>False</td>\n",
       "      <td>54031801044</td>\n",
       "      <td>belajaradmin</td>\n",
       "      <td>False</td>\n",
       "      <td>0.0</td>\n",
       "      <td>17976118007045613</td>\n",
       "      <td>🔥🔥</td>\n",
       "    </tr>\n",
       "    <tr>\n",
       "      <th>4</th>\n",
       "      <td>2023-02-20 01:46:22+00:00</td>\n",
       "      <td>False</td>\n",
       "      <td>4268345080</td>\n",
       "      <td>fajaroktaladi</td>\n",
       "      <td>None</td>\n",
       "      <td>NaN</td>\n",
       "      <td>17954490824437563</td>\n",
       "      <td>@syanasblaa lanjut dm kak</td>\n",
       "    </tr>\n",
       "    <tr>\n",
       "      <th>...</th>\n",
       "      <td>...</td>\n",
       "      <td>...</td>\n",
       "      <td>...</td>\n",
       "      <td>...</td>\n",
       "      <td>...</td>\n",
       "      <td>...</td>\n",
       "      <td>...</td>\n",
       "      <td>...</td>\n",
       "    </tr>\n",
       "    <tr>\n",
       "      <th>575</th>\n",
       "      <td>2023-02-13 07:16:58+00:00</td>\n",
       "      <td>False</td>\n",
       "      <td>1817674405</td>\n",
       "      <td>ryan.als</td>\n",
       "      <td>None</td>\n",
       "      <td>NaN</td>\n",
       "      <td>18234761251089516</td>\n",
       "      <td>@spontanahuy tanggal 15 terakhirnya 🙏🏻 ada bbr...</td>\n",
       "    </tr>\n",
       "    <tr>\n",
       "      <th>576</th>\n",
       "      <td>2023-02-13 07:15:30+00:00</td>\n",
       "      <td>False</td>\n",
       "      <td>11559681202</td>\n",
       "      <td>dzakimf25</td>\n",
       "      <td>None</td>\n",
       "      <td>NaN</td>\n",
       "      <td>17985681952871212</td>\n",
       "      <td>@spontanahuy ga ush berharap lgi udh tgl segin...</td>\n",
       "    </tr>\n",
       "    <tr>\n",
       "      <th>577</th>\n",
       "      <td>2023-02-13 07:05:39+00:00</td>\n",
       "      <td>False</td>\n",
       "      <td>4014876406</td>\n",
       "      <td>zulfah__amalia1607</td>\n",
       "      <td>None</td>\n",
       "      <td>NaN</td>\n",
       "      <td>17924041316568555</td>\n",
       "      <td>@spontanahuy asliii butuh kepastian</td>\n",
       "    </tr>\n",
       "    <tr>\n",
       "      <th>578</th>\n",
       "      <td>2023-02-13 07:05:32+00:00</td>\n",
       "      <td>False</td>\n",
       "      <td>7779084511</td>\n",
       "      <td>lindamanullang07</td>\n",
       "      <td>False</td>\n",
       "      <td>1.0</td>\n",
       "      <td>18266225029191291</td>\n",
       "      <td>Siapa saja yg lolos utk ikut survei diinfokan ...</td>\n",
       "    </tr>\n",
       "    <tr>\n",
       "      <th>579</th>\n",
       "      <td>2023-02-13 07:03:30+00:00</td>\n",
       "      <td>False</td>\n",
       "      <td>57890482752</td>\n",
       "      <td>spontanahuy</td>\n",
       "      <td>False</td>\n",
       "      <td>20.0</td>\n",
       "      <td>17973822242095245</td>\n",
       "      <td>Jadi min untuk pengumuman magang merdeka nya u...</td>\n",
       "    </tr>\n",
       "  </tbody>\n",
       "</table>\n",
       "<p>580 rows × 8 columns</p>\n",
       "</div>"
      ],
      "text/plain": [
       "                    date_time  is_user_post      user_id            username  \\\n",
       "0   2023-02-20 22:35:58+00:00         False   5911210509         pipiterika_   \n",
       "1   2023-02-20 11:15:33+00:00         False   7567114522             0tiekz_   \n",
       "2   2023-02-20 07:17:14+00:00         False  40533453762       novemberboy__   \n",
       "3   2023-02-20 02:37:45+00:00         False  54031801044        belajaradmin   \n",
       "4   2023-02-20 01:46:22+00:00         False   4268345080       fajaroktaladi   \n",
       "..                        ...           ...          ...                 ...   \n",
       "575 2023-02-13 07:16:58+00:00         False   1817674405            ryan.als   \n",
       "576 2023-02-13 07:15:30+00:00         False  11559681202           dzakimf25   \n",
       "577 2023-02-13 07:05:39+00:00         False   4014876406  zulfah__amalia1607   \n",
       "578 2023-02-13 07:05:32+00:00         False   7779084511    lindamanullang07   \n",
       "579 2023-02-13 07:03:30+00:00         False  57890482752         spontanahuy   \n",
       "\n",
       "    has_like  like_count         comment_id  \\\n",
       "0      False         0.0  17969587667010469   \n",
       "1       None         NaN  18206124454214345   \n",
       "2      False         0.0  18081435949333130   \n",
       "3      False         0.0  17976118007045613   \n",
       "4       None         NaN  17954490824437563   \n",
       "..       ...         ...                ...   \n",
       "575     None         NaN  18234761251089516   \n",
       "576     None         NaN  17985681952871212   \n",
       "577     None         NaN  17924041316568555   \n",
       "578    False         1.0  18266225029191291   \n",
       "579    False        20.0  17973822242095245   \n",
       "\n",
       "                                               comment  \n",
       "0                               Dapat uang saku gaksih  \n",
       "1            @rwrt1.0 kelas full english kak batch ini  \n",
       "2                        Saya, saya bang ga lolos msib  \n",
       "3                                                   🔥🔥  \n",
       "4                            @syanasblaa lanjut dm kak  \n",
       "..                                                 ...  \n",
       "575  @spontanahuy tanggal 15 terakhirnya 🙏🏻 ada bbr...  \n",
       "576  @spontanahuy ga ush berharap lgi udh tgl segin...  \n",
       "577                @spontanahuy asliii butuh kepastian  \n",
       "578  Siapa saja yg lolos utk ikut survei diinfokan ...  \n",
       "579  Jadi min untuk pengumuman magang merdeka nya u...  \n",
       "\n",
       "[580 rows x 8 columns]"
      ]
     },
     "execution_count": 226,
     "metadata": {},
     "output_type": "execute_result"
    }
   ],
   "source": [
    "df_target_user_comment = pd.DataFrame(target_user_comment)\n",
    "df_target_user_comment"
   ]
  },
  {
   "cell_type": "code",
   "execution_count": 227,
   "metadata": {},
   "outputs": [],
   "source": [
    "df_target_user_comment.to_csv(\"data/target_user_comment.csv\", index=False)"
   ]
  }
 ],
 "metadata": {
  "kernelspec": {
   "display_name": "scrape",
   "language": "python",
   "name": "python3"
  },
  "language_info": {
   "codemirror_mode": {
    "name": "ipython",
    "version": 3
   },
   "file_extension": ".py",
   "mimetype": "text/x-python",
   "name": "python",
   "nbconvert_exporter": "python",
   "pygments_lexer": "ipython3",
   "version": "3.9.16"
  },
  "orig_nbformat": 4,
  "vscode": {
   "interpreter": {
    "hash": "b692b536d1e6c642ee2afdc9b60af3b9fae914e41415a710a1f7dab56473b6bc"
   }
  }
 },
 "nbformat": 4,
 "nbformat_minor": 2
}
