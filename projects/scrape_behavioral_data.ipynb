{
 "cells": [
  {
   "cell_type": "code",
   "execution_count": 165,
   "metadata": {},
   "outputs": [
    {
     "data": {
      "text/plain": [
       "True"
      ]
     },
     "execution_count": 165,
     "metadata": {},
     "output_type": "execute_result"
    }
   ],
   "source": [
    "import instagrapi\n",
    "from instagrapi import Client\n",
    "import pandas as pd\n",
    "import numpy as np\n",
    "from dotenv import load_dotenv\n",
    "from tqdm import tqdm\n",
    "import re\n",
    "\n",
    "load_dotenv()"
   ]
  },
  {
   "cell_type": "code",
   "execution_count": 166,
   "metadata": {},
   "outputs": [],
   "source": [
    "# get username and password from .env file\n",
    "USERNAME = os.getenv(\"ACCOUNT_USERNAME\")\n",
    "PASSWORD = os.getenv(\"ACCOUNT_PASSWORD\")"
   ]
  },
  {
   "cell_type": "code",
   "execution_count": 168,
   "metadata": {},
   "outputs": [
    {
     "data": {
      "text/plain": [
       "True"
      ]
     },
     "execution_count": 168,
     "metadata": {},
     "output_type": "execute_result"
    }
   ],
   "source": [
    "# login to instagram\n",
    "cl = Client()\n",
    "cl.load_settings('setting.json')\n",
    "cl.login(USERNAME, PASSWORD)"
   ]
  },
  {
   "attachments": {},
   "cell_type": "markdown",
   "metadata": {},
   "source": [
    "Behavioral data: This includes user interactions, such as likes, comments, shares, and follows, which can reveal interests, preferences, and social networks.\n",
    "\n",
    "Note: \n",
    "- Akun diblokir jika melakukan request terlalu banyak. Jika terjadi error, tunggu beberapa saat dan coba lagi.\n",
    "- Terkadang terjadi error pada saat mengambil data, karena terlalu banyak request yang dilakukan. Untuk mengatasinya, kita bisa menambahkan delay pada setiap request yang dilakukan. Untuk menambahkan delay, kita bisa menggunakan fungsi time.sleep()."
   ]
  },
  {
   "attachments": {},
   "cell_type": "markdown",
   "metadata": {},
   "source": [
    "# Scrape Users Following"
   ]
  },
  {
   "cell_type": "code",
   "execution_count": 169,
   "metadata": {},
   "outputs": [],
   "source": [
    "# init read users from csv\n",
    "# insert all users you want to scrape data in the users.csv file\n",
    "users_list = pd.read_csv(\"data/users.csv\")[\"users\"].tolist()"
   ]
  },
  {
   "cell_type": "code",
   "execution_count": null,
   "metadata": {},
   "outputs": [],
   "source": [
    "# get all users following data\n",
    "users_following = []\n",
    "\n",
    "# loop through all users\n",
    "for user in tqdm(users_list):\n",
    "    following_list = []\n",
    "    # followers_list = []\n",
    "    \n",
    "    # get user information\n",
    "    user_id = cl.user_id_from_username(user)\n",
    "    user_info = cl.user_info(user_id)\n",
    "    follower_count = user_info.follower_count\n",
    "    following = cl.user_following(user_id)\n",
    "    \n",
    "    # get all users following into a list\n",
    "    for key, val in following.items():\n",
    "        following_list.append(val.username)\n",
    "        \n",
    "    # convert list to string\n",
    "    following = re.sub(r'[\\[\\]\\']', '', str(following_list))    \n",
    "    \n",
    "    # append all data to users_following list\n",
    "    users_following.append({\n",
    "        'userId': user_id,\n",
    "        'username':user,\n",
    "        'following_count': len(following_list),\n",
    "        'followers_count': follower_count,\n",
    "        'following_list': following,\n",
    "        # # 'followers_list': followers_list\n",
    "                                })"
   ]
  },
  {
   "cell_type": "code",
   "execution_count": null,
   "metadata": {},
   "outputs": [],
   "source": [
    "# convert list to dataframe\n",
    "df_following = pd.DataFrame(users_following)\n",
    "df_following"
   ]
  },
  {
   "cell_type": "code",
   "execution_count": null,
   "metadata": {},
   "outputs": [],
   "source": [
    "# save dataframe to csv\n",
    "# df_following.to_csv(\"data/users_following.csv\", index=False)"
   ]
  },
  {
   "attachments": {},
   "cell_type": "markdown",
   "metadata": {},
   "source": [
    "---"
   ]
  },
  {
   "attachments": {},
   "cell_type": "markdown",
   "metadata": {},
   "source": [
    "# Scrape User Comments on All Target User Posts"
   ]
  },
  {
   "cell_type": "code",
   "execution_count": null,
   "metadata": {},
   "outputs": [],
   "source": [
    "# !!! insert target user here\n",
    "target_user = \"sugab.3gp\"\n",
    "\n",
    "# get user media from target user\n",
    "medias = cl.user_medias(cl.user_id_from_username(target_user), amount=5)"
   ]
  },
  {
   "cell_type": "code",
   "execution_count": null,
   "metadata": {},
   "outputs": [],
   "source": [
    "target_user_comment = []\n",
    "\n",
    "# loop through all media\n",
    "for media in tqdm(medias):\n",
    "    print(\"Media ID: \", media.pk)\n",
    "        \n",
    "    # get all comments from media\n",
    "    media_comments = cl.media_comments(media.pk, amount=500)\n",
    "    # try:\n",
    "    # except instagrapi.exceptions.LoginRequired:\n",
    "    #     cl = login(USERNAME, PASSWORD)\n",
    "    #     media_comments = cl.media_comments(media.pk, amount=500)\n",
    "    \n",
    "    # loop through all comments\n",
    "    for comment in tqdm(media_comments):\n",
    "        \n",
    "        is_user = False\n",
    "        \n",
    "        # check if comment is from target user\n",
    "        if comment.user.username == target_user:\n",
    "            is_user = True\n",
    "        \n",
    "        # append all data to target_user_comment list\n",
    "        target_user_comment.append({\n",
    "            'created_at': comment.created_at_utc,\n",
    "            'media_id': media.pk,\n",
    "            'user_id': comment.user.pk,\n",
    "            'is_user_post': is_user,\n",
    "            'username': comment.user.username,\n",
    "            'has_like': comment.has_liked,\n",
    "            'like_count': comment.like_count,\n",
    "            'comment_id': comment.pk,\n",
    "            'comment': comment.text,\n",
    "            })"
   ]
  },
  {
   "cell_type": "code",
   "execution_count": null,
   "metadata": {},
   "outputs": [],
   "source": [
    "# convert list to dataframe\n",
    "df_target_user_comment = pd.DataFrame(target_user_comment)\n",
    "df_target_user_comment.head()"
   ]
  },
  {
   "cell_type": "code",
   "execution_count": null,
   "metadata": {},
   "outputs": [],
   "source": [
    "# save dataframe to csv\n",
    "# df_target_user_comment.to_csv(\"data/target_user_comment.csv\", index=False)"
   ]
  },
  {
   "attachments": {},
   "cell_type": "markdown",
   "metadata": {},
   "source": [
    "# Scrape Stories of User"
   ]
  },
  {
   "attachments": {},
   "cell_type": "markdown",
   "metadata": {},
   "source": [
    "## Single User"
   ]
  },
  {
   "cell_type": "code",
   "execution_count": null,
   "metadata": {},
   "outputs": [],
   "source": [
    "# !!! insert target user here\n",
    "target_user = \"revivaltvid\"\n",
    "\n",
    "# get user stories from target user\n",
    "stories = cl.user_stories(cl.user_id_from_username(target_user))"
   ]
  },
  {
   "cell_type": "code",
   "execution_count": null,
   "metadata": {},
   "outputs": [],
   "source": [
    "stories_list = []\n",
    "\n",
    "# loop through all stories\n",
    "for story in tqdm(stories):\n",
    "    \n",
    "    # get all mentions from story\n",
    "    mentions = []    \n",
    "    if story.mentions:\n",
    "        for mention in story.mentions:\n",
    "            mentions.append(mention.user.username)\n",
    "        mentions = re.sub(r'[\\[\\]\\']', '', str(mentions))\n",
    "    \n",
    "    # append all data to stories_list list\n",
    "    stories_list.append({\n",
    "        'taken_at': story.taken_at,\n",
    "        'story_id': story.pk,\n",
    "        'code': story.code,\n",
    "        'user_id': story.user.pk,\n",
    "        'username': story.user.username,\n",
    "        'media_type': story.media_type,\n",
    "        'product_type': story.product_type,\n",
    "        'sponsor_tags': story.sponsor_tags,\n",
    "        'hashtags': story.hashtags,\n",
    "        'mentions': mentions,\n",
    "        'locations': story.locations,\n",
    "        'thumbnail_url': story.thumbnail_url,\n",
    "    })\n",
    "\n",
    "# convert list to dataframe\n",
    "df_stories = pd.DataFrame(stories_list)\n",
    "df_stories"
   ]
  },
  {
   "attachments": {},
   "cell_type": "markdown",
   "metadata": {},
   "source": [
    "media_type= 1: Image, 2: Video"
   ]
  },
  {
   "attachments": {},
   "cell_type": "markdown",
   "metadata": {},
   "source": [
    "## Multiple Users"
   ]
  },
  {
   "cell_type": "code",
   "execution_count": null,
   "metadata": {},
   "outputs": [],
   "source": [
    "# read target users from csv\n",
    "target_users = pd.read_csv(\"data/users.csv\")[\"users\"].tolist()"
   ]
  },
  {
   "cell_type": "code",
   "execution_count": null,
   "metadata": {},
   "outputs": [],
   "source": [
    "stories_list = []\n",
    "\n",
    "# loop through all target users\n",
    "for target_user in tqdm(target_users):\n",
    "    # get user stories from target user\n",
    "    stories = cl.user_stories(cl.user_id_from_username(target_user))\n",
    "\n",
    "    # loop through all stories\n",
    "    for story in tqdm(stories):\n",
    "        \n",
    "        # get all mentions from story\n",
    "        mentions = []    \n",
    "        if story.mentions:\n",
    "            for mention in story.mentions:\n",
    "                mentions.append(mention.user.username)\n",
    "            mentions = re.sub(r'[\\[\\]\\']', '', str(mentions))\n",
    "        \n",
    "        # append all data to stories_list list\n",
    "        stories_list.append({\n",
    "            'taken_at': story.taken_at,\n",
    "            'story_id': story.pk,\n",
    "            'code': story.code,\n",
    "            'user_id': story.user.pk,\n",
    "            'username': story.user.username,\n",
    "            'media_type': story.media_type,\n",
    "            'product_type': story.product_type,\n",
    "            'sponsor_tags': story.sponsor_tags,\n",
    "            'hashtags': story.hashtags,\n",
    "            'mentions': mentions,\n",
    "            'locations': story.locations,\n",
    "            'thumbnail_url': story.thumbnail_url,\n",
    "        })"
   ]
  },
  {
   "cell_type": "code",
   "execution_count": null,
   "metadata": {},
   "outputs": [],
   "source": [
    "# convert list to dataframe\n",
    "df_story = pd.DataFrame(stories_list)\n",
    "df_story.head()"
   ]
  },
  {
   "attachments": {},
   "cell_type": "markdown",
   "metadata": {},
   "source": [
    "# Hide Me"
   ]
  },
  {
   "cell_type": "code",
   "execution_count": null,
   "metadata": {},
   "outputs": [],
   "source": [
    "# #variable untuk nampung data info users\n",
    "# data_IG = []\n",
    "\n",
    "# #nama IG yang akan dicari\n",
    "# nama_IG = ['ranggasaputra4000', 'chair_me']\n",
    "\n",
    "# #Looping untuk menadapatkan info user\n",
    "# for name in nama_IG:\n",
    "#     user_id = cl.user_id_from_username(name)\n",
    "#     user_inf = cl.user_info(user_id)\n",
    "    \n",
    "#     user_media = cl.user_medias(user_inf.pk, amount=10)\n",
    "        \n",
    "#     for media in user_media:\n",
    "#         media_comments = cl.media_comments(media.pk, amount=500)\n",
    "#         for comment in (media_comments):\n",
    "                \n",
    "#             data_IG.append({\n",
    "#                 'id_user':user_inf.pk, \n",
    "#                 'id_media': media.pk,\n",
    "#                 'posting_taken_at':media.taken_at,\n",
    "#                 'id_comment': comment.pk,\n",
    "#                 'comment__taken_at':comment.created_at_utc,\n",
    "#                 'username_upost':user_inf.username, \n",
    "#                 'fullname_upost':user_inf.full_name, \n",
    "#                 'biography_upost': user_inf.biography, \n",
    "#                 'is_private_upost':user_inf.is_private, \n",
    "#                 'profile_pic_url_hd':user_inf.profile_pic_url_hd, \n",
    "#                 'ufollower_count': user_inf.follower_count, \n",
    "#                 'ufollowing_count': user_inf.following_count,  \n",
    "#                 'media_type_postingan':media.media_type,  \n",
    "#                 'like_postingan': media.like_count, \n",
    "#                 'caption': media.caption_text,\n",
    "#                 'username_comment': comment.user.username,\n",
    "#                 'comment_text': comment.text})"
   ]
  }
 ],
 "metadata": {
  "kernelspec": {
   "display_name": "scrape",
   "language": "python",
   "name": "python3"
  },
  "language_info": {
   "codemirror_mode": {
    "name": "ipython",
    "version": 3
   },
   "file_extension": ".py",
   "mimetype": "text/x-python",
   "name": "python",
   "nbconvert_exporter": "python",
   "pygments_lexer": "ipython3",
   "version": "3.9.16"
  },
  "orig_nbformat": 4,
  "vscode": {
   "interpreter": {
    "hash": "b692b536d1e6c642ee2afdc9b60af3b9fae914e41415a710a1f7dab56473b6bc"
   }
  }
 },
 "nbformat": 4,
 "nbformat_minor": 2
}
