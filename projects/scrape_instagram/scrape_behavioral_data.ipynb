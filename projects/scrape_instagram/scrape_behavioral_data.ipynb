{
 "cells": [
  {
   "cell_type": "code",
   "execution_count": 1,
   "metadata": {},
   "outputs": [
    {
     "data": {
      "text/plain": [
       "True"
      ]
     },
     "execution_count": 1,
     "metadata": {},
     "output_type": "execute_result"
    }
   ],
   "source": [
    "import instagrapi\n",
    "from instagrapi import Client\n",
    "\n",
    "from dotenv import load_dotenv\n",
    "\n",
    "import pandas as pd\n",
    "import numpy as np\n",
    "import re\n",
    "\n",
    "from datetime import date, datetime, timedelta\n",
    "import pytz\n",
    "from tqdm import tqdm\n",
    "import time\n",
    "\n",
    "timezone_utc = pytz.timezone('UTC')\n",
    "timezone_indo = pytz.timezone('Asia/Jakarta')\n",
    "load_dotenv()"
   ]
  },
  {
   "cell_type": "code",
   "execution_count": 2,
   "metadata": {},
   "outputs": [],
   "source": [
    "# get username and password from .env file\n",
    "USERNAME = os.getenv(\"ACCOUNT_USERNAME\")\n",
    "PASSWORD = os.getenv(\"ACCOUNT_PASSWORD\")"
   ]
  },
  {
   "cell_type": "code",
   "execution_count": 4,
   "metadata": {},
   "outputs": [
    {
     "name": "stderr",
     "output_type": "stream",
     "text": [
      "Status 429: Too many requests\n",
      "Ignore 429: Continue login\n"
     ]
    },
    {
     "data": {
      "text/plain": [
       "True"
      ]
     },
     "execution_count": 4,
     "metadata": {},
     "output_type": "execute_result"
    }
   ],
   "source": [
    "# login to instagram\n",
    "cl = Client()\n",
    "cl.login(\"kazuyatakeshi1\", \"bimoli216\")\n",
    "# cl.login(USERNAME, PASSWORD)"
   ]
  },
  {
   "cell_type": "code",
   "execution_count": 5,
   "metadata": {},
   "outputs": [],
   "source": [
    "profile = cl.user_id_from_username(\"sugab.3gp\")"
   ]
  },
  {
   "cell_type": "code",
   "execution_count": 6,
   "metadata": {},
   "outputs": [
    {
     "name": "stdout",
     "output_type": "stream",
     "text": [
      "2248835396\n"
     ]
    }
   ],
   "source": [
    "print(profile)"
   ]
  },
  {
   "attachments": {},
   "cell_type": "markdown",
   "metadata": {},
   "source": [
    "Behavioral data: This includes user interactions, such as likes, comments, shares, and follows, which can reveal interests, preferences, and social networks.\n",
    "\n",
    "Note: \n",
    "- Akun diblokir jika melakukan request terlalu banyak. Jika terjadi error, tunggu beberapa saat dan coba lagi.\n",
    "- Terkadang terjadi error pada saat mengambil data, karena terlalu banyak request yang dilakukan. Untuk mengatasinya, kita bisa menambahkan delay pada setiap request yang dilakukan. Untuk menambahkan delay, kita bisa menggunakan fungsi time.sleep()."
   ]
  },
  {
   "attachments": {},
   "cell_type": "markdown",
   "metadata": {},
   "source": [
    "# Scrape Users Profile\n",
    "This code will scrape users profile data such as:\n",
    "- 'taken_at_timestamp' (datetime when the profile was scraped)\n",
    "- 'id_user'\n",
    "- 'username'\n",
    "- 'fullname'\n",
    "- 'is_private'\n",
    "- 'is_verified'\n",
    "- 'follower_count'\n",
    "- 'following_count'\n",
    "- 'media_count'\n",
    "- 'like_count' (sum of last 10 post)\n",
    "- 'comment_count' (sum of last 10 post)\n",
    "- 'last_postingan' (last post date)\n",
    "- 'last_postingan_interval' (last_postingan - taken_at_timestamp)\n",
    "- 'last_postingan_id' (last post id)\n",
    "- 'last_story' (last story date)\n",
    "- 'last_story_interval' (last_story - taken_at_timestamp)\n",
    "- 'last_story_id' (last story id)"
   ]
  },
  {
   "cell_type": "code",
   "execution_count": 35,
   "metadata": {},
   "outputs": [],
   "source": [
    "# init read users from csv\n",
    "# insert all users you want to scrape data in the users.csv file\n",
    "users_list = pd.read_csv(\"data/users.csv\")[\"users\"].tolist()"
   ]
  },
  {
   "attachments": {},
   "cell_type": "markdown",
   "metadata": {},
   "source": [
    "## Function to scrape user profile"
   ]
  },
  {
   "cell_type": "code",
   "execution_count": 36,
   "metadata": {},
   "outputs": [],
   "source": [
    "\n",
    "def get_user_info(target_user):\n",
    "    now = datetime.now(timezone_indo)\n",
    "    like = 0\n",
    "    comment = 0\n",
    "    last_post = None\n",
    "    last_post_interval = None\n",
    "    last_story = None\n",
    "    last_story_interval = None\n",
    "    \n",
    "    print(\"Scraping data from user: \", target_user)\n",
    "    \n",
    "    \n",
    "    # get user id from username\n",
    "    user_id = cl.user_id_from_username(target_user)\n",
    "    user_inf = cl.user_info(user_id)\n",
    "    \n",
    "    print(\"Getting media data...\")\n",
    "    print(\"now: \", now)\n",
    "    \n",
    "    # get all media from user (tanpa delay, pasti error keblock akunnya)\n",
    "    # aku ganti menjadi 10 post terakhir aja\n",
    "    user_media = cl.user_medias(user_id, amount=10)\n",
    "    # cek if post exist\n",
    "    if user_media:\n",
    "        datetime_list = []\n",
    "        \n",
    "        # get like count, comment count, and latest datetime from all media\n",
    "        for media in user_media:\n",
    "            like += media.like_count\n",
    "            comment += media.comment_count\n",
    "            datetime_list.append(media.taken_at)\n",
    "        \n",
    "        latest_datetime = max(datetime_list)\n",
    "        latest_index = datetime_list.index(latest_datetime)\n",
    "        \n",
    "        last_post = str(user_media[latest_index].taken_at)\n",
    "        last_post_obj = datetime.strptime(last_post, '%Y-%m-%d %H:%M:%S%z')\n",
    "        # print(\"last post: \", last_post_obj)\n",
    "        \n",
    "        # change datetime to indonesia timezone\n",
    "        last_post_obj = last_post_obj.astimezone(timezone_indo)\n",
    "        last_post = last_post_obj\n",
    "\n",
    "        # count interval\n",
    "        last_post_interval = (now - last_post_obj).days\n",
    "        # print(\"last post interval: \", last_post_interval)\n",
    "    \n",
    "    \n",
    "    # get last story from user\n",
    "    # ngambil 25 stori teratas\n",
    "    user_story = cl.user_stories(user_id, amount=25)\n",
    "    # cek if story exist\n",
    "    if user_story:\n",
    "        # stori terakhir yang dibuat\n",
    "        user_story = user_story[-1]\n",
    "        \n",
    "        # get current datetime of story\n",
    "        last_story = str(user_story.taken_at)\n",
    "        last_story_obj = datetime.strptime(last_story, '%Y-%m-%d %H:%M:%S%z')\n",
    "        # print(\"last story: \", last_story_obj)\n",
    "        \n",
    "        # change datetime to indonesia timezone\n",
    "        last_story_obj = last_story_obj.astimezone(timezone_indo)\n",
    "        last_story = last_story_obj\n",
    "        \n",
    "        # count interval\n",
    "        last_story_interval = (now - last_story_obj).seconds // 3600\n",
    "        # print(\"last story interval: \", last_story_interval)\n",
    "    \n",
    "    # append all data to profile_list\n",
    "    profile_list = ({\n",
    "            'id_user':user_inf.pk, \n",
    "            'username':user_inf.username, \n",
    "            'fullname':user_inf.full_name, \n",
    "            'is_private':user_inf.is_private,  \n",
    "            'is_verified':user_inf.is_verified,  \n",
    "            'follower_count': user_inf.follower_count, \n",
    "            'following_count': user_inf.following_count,\n",
    "            'media_count':user_inf.media_count,\n",
    "            'like_count(last10post)': like,\n",
    "            'comment_count(last10post)': comment,\n",
    "            'last_post': last_post,\n",
    "            'last_post_interval(days)': last_post_interval,\n",
    "            'last_story': last_story,\n",
    "            'last_story_interval(hours)': last_story_interval,\n",
    "            })\n",
    "    \n",
    "    print(\"Scraping finish!\")\n",
    "    return profile_list"
   ]
  },
  {
   "attachments": {},
   "cell_type": "markdown",
   "metadata": {},
   "source": [
    "## Do scraping user profile"
   ]
  },
  {
   "attachments": {},
   "cell_type": "markdown",
   "metadata": {},
   "source": [
    "Note: jika ada data yang tidak terambil, maka relogin dan coba lagi. Dan kalau bisa sekali ngambil 20-25 data aja dulu."
   ]
  },
  {
   "cell_type": "code",
   "execution_count": null,
   "metadata": {},
   "outputs": [],
   "source": [
    "users_profile = []\n",
    "i = 0\n",
    "\n",
    "for user in users_list:\n",
    "    i += 1\n",
    "    print(\"Iteration: \", i)\n",
    "    # get user info\n",
    "    user_info = get_user_info(user)\n",
    "    # append user info to user_infos\n",
    "    users_profile.append(user_info)\n",
    "    time.sleep(5)\n",
    "    print()"
   ]
  },
  {
   "cell_type": "code",
   "execution_count": 26,
   "metadata": {},
   "outputs": [
    {
     "data": {
      "text/html": [
       "<div>\n",
       "<style scoped>\n",
       "    .dataframe tbody tr th:only-of-type {\n",
       "        vertical-align: middle;\n",
       "    }\n",
       "\n",
       "    .dataframe tbody tr th {\n",
       "        vertical-align: top;\n",
       "    }\n",
       "\n",
       "    .dataframe thead th {\n",
       "        text-align: right;\n",
       "    }\n",
       "</style>\n",
       "<table border=\"1\" class=\"dataframe\">\n",
       "  <thead>\n",
       "    <tr style=\"text-align: right;\">\n",
       "      <th></th>\n",
       "      <th>id_user</th>\n",
       "      <th>username</th>\n",
       "      <th>fullname</th>\n",
       "      <th>biography</th>\n",
       "      <th>is_private</th>\n",
       "      <th>is_verified</th>\n",
       "      <th>follower_count</th>\n",
       "      <th>following_count</th>\n",
       "      <th>media_count</th>\n",
       "      <th>like_count(last10post)</th>\n",
       "      <th>comment_count(last10post)</th>\n",
       "      <th>last_post</th>\n",
       "      <th>last_post_interval(days)</th>\n",
       "      <th>last_story</th>\n",
       "      <th>last_story_interval(hours)</th>\n",
       "    </tr>\n",
       "  </thead>\n",
       "  <tbody>\n",
       "    <tr>\n",
       "      <th>0</th>\n",
       "      <td>1570222727</td>\n",
       "      <td>retnowynti</td>\n",
       "      <td>Retno Wijayanti</td>\n",
       "      <td></td>\n",
       "      <td>True</td>\n",
       "      <td>False</td>\n",
       "      <td>936</td>\n",
       "      <td>621</td>\n",
       "      <td>0</td>\n",
       "      <td>0</td>\n",
       "      <td>0</td>\n",
       "      <td>NaT</td>\n",
       "      <td>NaN</td>\n",
       "      <td>None</td>\n",
       "      <td>None</td>\n",
       "    </tr>\n",
       "    <tr>\n",
       "      <th>1</th>\n",
       "      <td>3654850700</td>\n",
       "      <td>fathonizkr</td>\n",
       "      <td></td>\n",
       "      <td>u dunno me</td>\n",
       "      <td>False</td>\n",
       "      <td>False</td>\n",
       "      <td>876</td>\n",
       "      <td>780</td>\n",
       "      <td>9</td>\n",
       "      <td>-9</td>\n",
       "      <td>55</td>\n",
       "      <td>2022-11-21 22:18:29+07:00</td>\n",
       "      <td>94.0</td>\n",
       "      <td>None</td>\n",
       "      <td>None</td>\n",
       "    </tr>\n",
       "    <tr>\n",
       "      <th>2</th>\n",
       "      <td>2271037529</td>\n",
       "      <td>smrmendem</td>\n",
       "      <td>Dimas Adi</td>\n",
       "      <td>A long way up to the summit.</td>\n",
       "      <td>False</td>\n",
       "      <td>False</td>\n",
       "      <td>118</td>\n",
       "      <td>80</td>\n",
       "      <td>4</td>\n",
       "      <td>32</td>\n",
       "      <td>8</td>\n",
       "      <td>2023-01-13 19:13:28+07:00</td>\n",
       "      <td>41.0</td>\n",
       "      <td>None</td>\n",
       "      <td>None</td>\n",
       "    </tr>\n",
       "    <tr>\n",
       "      <th>3</th>\n",
       "      <td>5371286272</td>\n",
       "      <td>hafifarhans</td>\n",
       "      <td>De_Farhana</td>\n",
       "      <td>🥈I want to be useful with all of them aamiin🥺\\...</td>\n",
       "      <td>False</td>\n",
       "      <td>False</td>\n",
       "      <td>407</td>\n",
       "      <td>639</td>\n",
       "      <td>33</td>\n",
       "      <td>859</td>\n",
       "      <td>91</td>\n",
       "      <td>2022-01-19 12:18:28+07:00</td>\n",
       "      <td>401.0</td>\n",
       "      <td>None</td>\n",
       "      <td>None</td>\n",
       "    </tr>\n",
       "    <tr>\n",
       "      <th>4</th>\n",
       "      <td>7737040222</td>\n",
       "      <td>nandi_ir</td>\n",
       "      <td>Nandi Irawan</td>\n",
       "      <td></td>\n",
       "      <td>True</td>\n",
       "      <td>False</td>\n",
       "      <td>228</td>\n",
       "      <td>362</td>\n",
       "      <td>3</td>\n",
       "      <td>0</td>\n",
       "      <td>0</td>\n",
       "      <td>NaT</td>\n",
       "      <td>NaN</td>\n",
       "      <td>None</td>\n",
       "      <td>None</td>\n",
       "    </tr>\n",
       "    <tr>\n",
       "      <th>5</th>\n",
       "      <td>3101437999</td>\n",
       "      <td>mochilhamsyah_</td>\n",
       "      <td>heuh hayoh</td>\n",
       "      <td></td>\n",
       "      <td>True</td>\n",
       "      <td>False</td>\n",
       "      <td>566</td>\n",
       "      <td>625</td>\n",
       "      <td>3</td>\n",
       "      <td>0</td>\n",
       "      <td>0</td>\n",
       "      <td>NaT</td>\n",
       "      <td>NaN</td>\n",
       "      <td>None</td>\n",
       "      <td>None</td>\n",
       "    </tr>\n",
       "  </tbody>\n",
       "</table>\n",
       "</div>"
      ],
      "text/plain": [
       "      id_user        username         fullname  \\\n",
       "0  1570222727      retnowynti  Retno Wijayanti   \n",
       "1  3654850700      fathonizkr                    \n",
       "2  2271037529       smrmendem        Dimas Adi   \n",
       "3  5371286272     hafifarhans       De_Farhana   \n",
       "4  7737040222        nandi_ir     Nandi Irawan   \n",
       "5  3101437999  mochilhamsyah_       heuh hayoh   \n",
       "\n",
       "                                           biography  is_private  is_verified  \\\n",
       "0                                                           True        False   \n",
       "1                                         u dunno me       False        False   \n",
       "2                       A long way up to the summit.       False        False   \n",
       "3  🥈I want to be useful with all of them aamiin🥺\\...       False        False   \n",
       "4                                                           True        False   \n",
       "5                                                           True        False   \n",
       "\n",
       "   follower_count  following_count  media_count  like_count(last10post)  \\\n",
       "0             936              621            0                       0   \n",
       "1             876              780            9                      -9   \n",
       "2             118               80            4                      32   \n",
       "3             407              639           33                     859   \n",
       "4             228              362            3                       0   \n",
       "5             566              625            3                       0   \n",
       "\n",
       "   comment_count(last10post)                 last_post  \\\n",
       "0                          0                       NaT   \n",
       "1                         55 2022-11-21 22:18:29+07:00   \n",
       "2                          8 2023-01-13 19:13:28+07:00   \n",
       "3                         91 2022-01-19 12:18:28+07:00   \n",
       "4                          0                       NaT   \n",
       "5                          0                       NaT   \n",
       "\n",
       "   last_post_interval(days) last_story last_story_interval(hours)  \n",
       "0                       NaN       None                       None  \n",
       "1                      94.0       None                       None  \n",
       "2                      41.0       None                       None  \n",
       "3                     401.0       None                       None  \n",
       "4                       NaN       None                       None  \n",
       "5                       NaN       None                       None  "
      ]
     },
     "execution_count": 26,
     "metadata": {},
     "output_type": "execute_result"
    }
   ],
   "source": [
    "df_users_profile = pd.DataFrame(users_profile)\n",
    "df_users_profile"
   ]
  },
  {
   "cell_type": "code",
   "execution_count": 27,
   "metadata": {},
   "outputs": [
    {
     "name": "stdout",
     "output_type": "stream",
     "text": [
      "users_profile.csv exist\n"
     ]
    },
    {
     "name": "stderr",
     "output_type": "stream",
     "text": [
      "/tmp/ipykernel_3194/2733630993.py:9: FutureWarning: The frame.append method is deprecated and will be removed from pandas in a future version. Use pandas.concat instead.\n",
      "  df_last_users_profile = df_last_users_profile.append(df_users_profile, ignore_index=True)\n"
     ]
    }
   ],
   "source": [
    "# check if users_profile.csv exist\n",
    "if os.path.exists(\"data/users_profile.csv\"):\n",
    "    print(\"users_profile.csv exist\")\n",
    "\n",
    "    # open last users_profile.csv\n",
    "    df_last_users_profile = pd.read_csv(\"data/users_profile.csv\")\n",
    "\n",
    "    # append new data to last data\n",
    "    df_last_users_profile = df_last_users_profile.concat(df_users_profile, ignore_index=True)\n",
    "    # df_last_users_profile = df_last_users_profile.append(df_users_profile, ignore_index=True)\n",
    "    \n",
    "else:\n",
    "    print(\"users_profile.csv doesn't exist\")\n",
    "    \n",
    "    # create new users_profile.csv\n",
    "    df_last_users_profile = df_users_profile"
   ]
  },
  {
   "cell_type": "code",
   "execution_count": 28,
   "metadata": {},
   "outputs": [
    {
     "data": {
      "text/plain": [
       "(56, 15)"
      ]
     },
     "execution_count": 28,
     "metadata": {},
     "output_type": "execute_result"
    }
   ],
   "source": [
    "df_last_users_profile.shape"
   ]
  },
  {
   "cell_type": "code",
   "execution_count": 29,
   "metadata": {},
   "outputs": [
    {
     "data": {
      "text/html": [
       "<div>\n",
       "<style scoped>\n",
       "    .dataframe tbody tr th:only-of-type {\n",
       "        vertical-align: middle;\n",
       "    }\n",
       "\n",
       "    .dataframe tbody tr th {\n",
       "        vertical-align: top;\n",
       "    }\n",
       "\n",
       "    .dataframe thead th {\n",
       "        text-align: right;\n",
       "    }\n",
       "</style>\n",
       "<table border=\"1\" class=\"dataframe\">\n",
       "  <thead>\n",
       "    <tr style=\"text-align: right;\">\n",
       "      <th></th>\n",
       "      <th>id_user</th>\n",
       "      <th>username</th>\n",
       "      <th>fullname</th>\n",
       "      <th>biography</th>\n",
       "      <th>is_private</th>\n",
       "      <th>is_verified</th>\n",
       "      <th>follower_count</th>\n",
       "      <th>following_count</th>\n",
       "      <th>media_count</th>\n",
       "      <th>like_count(last10post)</th>\n",
       "      <th>comment_count(last10post)</th>\n",
       "      <th>last_post</th>\n",
       "      <th>last_post_interval(days)</th>\n",
       "      <th>last_story</th>\n",
       "      <th>last_story_interval(hours)</th>\n",
       "    </tr>\n",
       "  </thead>\n",
       "  <tbody>\n",
       "    <tr>\n",
       "      <th>54</th>\n",
       "      <td>7737040222</td>\n",
       "      <td>nandi_ir</td>\n",
       "      <td>Nandi Irawan</td>\n",
       "      <td></td>\n",
       "      <td>True</td>\n",
       "      <td>False</td>\n",
       "      <td>228</td>\n",
       "      <td>362</td>\n",
       "      <td>3</td>\n",
       "      <td>0</td>\n",
       "      <td>0</td>\n",
       "      <td>NaT</td>\n",
       "      <td>NaN</td>\n",
       "      <td>None</td>\n",
       "      <td>None</td>\n",
       "    </tr>\n",
       "    <tr>\n",
       "      <th>55</th>\n",
       "      <td>3101437999</td>\n",
       "      <td>mochilhamsyah_</td>\n",
       "      <td>heuh hayoh</td>\n",
       "      <td></td>\n",
       "      <td>True</td>\n",
       "      <td>False</td>\n",
       "      <td>566</td>\n",
       "      <td>625</td>\n",
       "      <td>3</td>\n",
       "      <td>0</td>\n",
       "      <td>0</td>\n",
       "      <td>NaT</td>\n",
       "      <td>NaN</td>\n",
       "      <td>None</td>\n",
       "      <td>None</td>\n",
       "    </tr>\n",
       "  </tbody>\n",
       "</table>\n",
       "</div>"
      ],
      "text/plain": [
       "       id_user        username      fullname biography  is_private  \\\n",
       "54  7737040222        nandi_ir  Nandi Irawan                  True   \n",
       "55  3101437999  mochilhamsyah_    heuh hayoh                  True   \n",
       "\n",
       "    is_verified  follower_count  following_count  media_count  \\\n",
       "54        False             228              362            3   \n",
       "55        False             566              625            3   \n",
       "\n",
       "    like_count(last10post)  comment_count(last10post) last_post  \\\n",
       "54                       0                          0       NaT   \n",
       "55                       0                          0       NaT   \n",
       "\n",
       "    last_post_interval(days) last_story last_story_interval(hours)  \n",
       "54                       NaN       None                       None  \n",
       "55                       NaN       None                       None  "
      ]
     },
     "execution_count": 29,
     "metadata": {},
     "output_type": "execute_result"
    }
   ],
   "source": [
    "df_last_users_profile.tail(2)"
   ]
  },
  {
   "cell_type": "code",
   "execution_count": 30,
   "metadata": {},
   "outputs": [],
   "source": [
    "df_last_users_profile.to_csv(\"data/users_profile.csv\", index=False)"
   ]
  },
  {
   "cell_type": "code",
   "execution_count": 290,
   "metadata": {},
   "outputs": [
    {
     "data": {
      "text/plain": [
       "True"
      ]
     },
     "execution_count": 290,
     "metadata": {},
     "output_type": "execute_result"
    }
   ],
   "source": [
    "cl.logout()"
   ]
  },
  {
   "cell_type": "code",
   "execution_count": 41,
   "metadata": {},
   "outputs": [
    {
     "data": {
      "text/html": [
       "<div>\n",
       "<style scoped>\n",
       "    .dataframe tbody tr th:only-of-type {\n",
       "        vertical-align: middle;\n",
       "    }\n",
       "\n",
       "    .dataframe tbody tr th {\n",
       "        vertical-align: top;\n",
       "    }\n",
       "\n",
       "    .dataframe thead th {\n",
       "        text-align: right;\n",
       "    }\n",
       "</style>\n",
       "<table border=\"1\" class=\"dataframe\">\n",
       "  <thead>\n",
       "    <tr style=\"text-align: right;\">\n",
       "      <th></th>\n",
       "      <th>id_user</th>\n",
       "      <th>username</th>\n",
       "      <th>fullname</th>\n",
       "      <th>biography</th>\n",
       "      <th>is_private</th>\n",
       "      <th>is_verified</th>\n",
       "      <th>follower_count</th>\n",
       "      <th>following_count</th>\n",
       "      <th>media_count</th>\n",
       "      <th>like_count(last10post)</th>\n",
       "      <th>comment_count(last10post)</th>\n",
       "      <th>last_post</th>\n",
       "      <th>last_post_interval(days)</th>\n",
       "      <th>last_story</th>\n",
       "      <th>last_story_interval(hours)</th>\n",
       "    </tr>\n",
       "  </thead>\n",
       "  <tbody>\n",
       "    <tr>\n",
       "      <th>51</th>\n",
       "      <td>3654850700</td>\n",
       "      <td>fathonizkr</td>\n",
       "      <td>NaN</td>\n",
       "      <td>u dunno me</td>\n",
       "      <td>False</td>\n",
       "      <td>False</td>\n",
       "      <td>876</td>\n",
       "      <td>780</td>\n",
       "      <td>9</td>\n",
       "      <td>-9</td>\n",
       "      <td>55</td>\n",
       "      <td>2022-11-21 22:18:29+07:00</td>\n",
       "      <td>94.0</td>\n",
       "      <td>NaN</td>\n",
       "      <td>NaN</td>\n",
       "    </tr>\n",
       "    <tr>\n",
       "      <th>52</th>\n",
       "      <td>2271037529</td>\n",
       "      <td>smrmendem</td>\n",
       "      <td>Dimas Adi</td>\n",
       "      <td>A long way up to the summit.</td>\n",
       "      <td>False</td>\n",
       "      <td>False</td>\n",
       "      <td>118</td>\n",
       "      <td>80</td>\n",
       "      <td>4</td>\n",
       "      <td>32</td>\n",
       "      <td>8</td>\n",
       "      <td>2023-01-13 19:13:28+07:00</td>\n",
       "      <td>41.0</td>\n",
       "      <td>NaN</td>\n",
       "      <td>NaN</td>\n",
       "    </tr>\n",
       "    <tr>\n",
       "      <th>53</th>\n",
       "      <td>5371286272</td>\n",
       "      <td>hafifarhans</td>\n",
       "      <td>De_Farhana</td>\n",
       "      <td>🥈I want to be useful with all of them aamiin🥺\\...</td>\n",
       "      <td>False</td>\n",
       "      <td>False</td>\n",
       "      <td>407</td>\n",
       "      <td>639</td>\n",
       "      <td>33</td>\n",
       "      <td>859</td>\n",
       "      <td>91</td>\n",
       "      <td>2022-01-19 12:18:28+07:00</td>\n",
       "      <td>401.0</td>\n",
       "      <td>NaN</td>\n",
       "      <td>NaN</td>\n",
       "    </tr>\n",
       "    <tr>\n",
       "      <th>54</th>\n",
       "      <td>7737040222</td>\n",
       "      <td>nandi_ir</td>\n",
       "      <td>Nandi Irawan</td>\n",
       "      <td>NaN</td>\n",
       "      <td>True</td>\n",
       "      <td>False</td>\n",
       "      <td>228</td>\n",
       "      <td>362</td>\n",
       "      <td>3</td>\n",
       "      <td>0</td>\n",
       "      <td>0</td>\n",
       "      <td>NaN</td>\n",
       "      <td>NaN</td>\n",
       "      <td>NaN</td>\n",
       "      <td>NaN</td>\n",
       "    </tr>\n",
       "    <tr>\n",
       "      <th>55</th>\n",
       "      <td>3101437999</td>\n",
       "      <td>mochilhamsyah_</td>\n",
       "      <td>heuh hayoh</td>\n",
       "      <td>NaN</td>\n",
       "      <td>True</td>\n",
       "      <td>False</td>\n",
       "      <td>566</td>\n",
       "      <td>625</td>\n",
       "      <td>3</td>\n",
       "      <td>0</td>\n",
       "      <td>0</td>\n",
       "      <td>NaN</td>\n",
       "      <td>NaN</td>\n",
       "      <td>NaN</td>\n",
       "      <td>NaN</td>\n",
       "    </tr>\n",
       "  </tbody>\n",
       "</table>\n",
       "</div>"
      ],
      "text/plain": [
       "       id_user        username      fullname  \\\n",
       "51  3654850700      fathonizkr           NaN   \n",
       "52  2271037529       smrmendem     Dimas Adi   \n",
       "53  5371286272     hafifarhans    De_Farhana   \n",
       "54  7737040222        nandi_ir  Nandi Irawan   \n",
       "55  3101437999  mochilhamsyah_    heuh hayoh   \n",
       "\n",
       "                                            biography  is_private  \\\n",
       "51                                         u dunno me       False   \n",
       "52                       A long way up to the summit.       False   \n",
       "53  🥈I want to be useful with all of them aamiin🥺\\...       False   \n",
       "54                                                NaN        True   \n",
       "55                                                NaN        True   \n",
       "\n",
       "    is_verified  follower_count  following_count  media_count  \\\n",
       "51        False             876              780            9   \n",
       "52        False             118               80            4   \n",
       "53        False             407              639           33   \n",
       "54        False             228              362            3   \n",
       "55        False             566              625            3   \n",
       "\n",
       "    like_count(last10post)  comment_count(last10post)  \\\n",
       "51                      -9                         55   \n",
       "52                      32                          8   \n",
       "53                     859                         91   \n",
       "54                       0                          0   \n",
       "55                       0                          0   \n",
       "\n",
       "                    last_post  last_post_interval(days) last_story  \\\n",
       "51  2022-11-21 22:18:29+07:00                      94.0        NaN   \n",
       "52  2023-01-13 19:13:28+07:00                      41.0        NaN   \n",
       "53  2022-01-19 12:18:28+07:00                     401.0        NaN   \n",
       "54                        NaN                       NaN        NaN   \n",
       "55                        NaN                       NaN        NaN   \n",
       "\n",
       "    last_story_interval(hours)  \n",
       "51                         NaN  \n",
       "52                         NaN  \n",
       "53                         NaN  \n",
       "54                         NaN  \n",
       "55                         NaN  "
      ]
     },
     "execution_count": 41,
     "metadata": {},
     "output_type": "execute_result"
    }
   ],
   "source": [
    "test = pd.read_csv(\"data/users_profile.csv\")\n",
    "test.tail()"
   ]
  },
  {
   "attachments": {},
   "cell_type": "markdown",
   "metadata": {},
   "source": [
    "---"
   ]
  },
  {
   "attachments": {},
   "cell_type": "markdown",
   "metadata": {},
   "source": [
    "# Scrape Users Following"
   ]
  },
  {
   "cell_type": "code",
   "execution_count": null,
   "metadata": {},
   "outputs": [],
   "source": [
    "# init read users from csv\n",
    "# insert all users you want to scrape data in the users.csv file\n",
    "users_list = pd.read_csv(\"data/users.csv\")[\"users\"].tolist()"
   ]
  },
  {
   "cell_type": "code",
   "execution_count": null,
   "metadata": {},
   "outputs": [],
   "source": [
    "users_following = []\n",
    "\n",
    "# loop through all users\n",
    "for user in tqdm(users_list):\n",
    "    following_list = []\n",
    "    # followers_list = []\n",
    "    \n",
    "    # get user information\n",
    "    user_id = cl.user_id_from_username(user)\n",
    "    user_info = cl.user_info(user_id)\n",
    "    follower_count = user_info.follower_count\n",
    "    following = cl.user_following(user_id)\n",
    "    \n",
    "    # get all users following into a list\n",
    "    for key, val in following.items():\n",
    "        following_list.append(val.username)\n",
    "        \n",
    "    # convert list to string\n",
    "    following = re.sub(r'[\\[\\]\\']', '', str(following_list))    \n",
    "    \n",
    "    # append all data to users_following list\n",
    "    users_following.append({\n",
    "        'userId': user_id,\n",
    "        'username':user,\n",
    "        'following_count': len(following_list),\n",
    "        'followers_count': follower_count,\n",
    "        'following_list': following,\n",
    "        # # 'followers_list': followers_list\n",
    "                                })"
   ]
  },
  {
   "cell_type": "code",
   "execution_count": null,
   "metadata": {},
   "outputs": [],
   "source": [
    "# convert list to dataframe\n",
    "df_following = pd.DataFrame(users_following)\n",
    "df_following"
   ]
  },
  {
   "cell_type": "code",
   "execution_count": null,
   "metadata": {},
   "outputs": [],
   "source": [
    "# save dataframe to csv\n",
    "# df_following.to_csv(\"data/users_following.csv\", index=False)"
   ]
  },
  {
   "attachments": {},
   "cell_type": "markdown",
   "metadata": {},
   "source": [
    "---"
   ]
  },
  {
   "attachments": {},
   "cell_type": "markdown",
   "metadata": {},
   "source": [
    "# Scrape User Comments on All Target User Posts"
   ]
  },
  {
   "cell_type": "code",
   "execution_count": null,
   "metadata": {},
   "outputs": [],
   "source": [
    "# !!! insert target user here\n",
    "target_user = \"sugab.3gp\"\n",
    "\n",
    "# get user media from target user\n",
    "medias = cl.user_medias(cl.user_id_from_username(target_user), amount=5)"
   ]
  },
  {
   "cell_type": "code",
   "execution_count": null,
   "metadata": {},
   "outputs": [],
   "source": [
    "target_user_comment = []\n",
    "\n",
    "# loop through all media\n",
    "for media in tqdm(medias):\n",
    "    print(\"Media ID: \", media.pk)\n",
    "        \n",
    "    # get all comments from media\n",
    "    media_comments = cl.media_comments(media.pk, amount=500)\n",
    "    # try:\n",
    "    # except instagrapi.exceptions.LoginRequired:\n",
    "    #     cl = login(USERNAME, PASSWORD)\n",
    "    #     media_comments = cl.media_comments(media.pk, amount=500)\n",
    "    \n",
    "    # loop through all comments\n",
    "    for comment in tqdm(media_comments):\n",
    "        \n",
    "        is_user = False\n",
    "        \n",
    "        # check if comment is from target user\n",
    "        if comment.user.username == target_user:\n",
    "            is_user = True\n",
    "        \n",
    "        # append all data to target_user_comment list\n",
    "        target_user_comment.append({\n",
    "            'created_at': comment.created_at_utc,\n",
    "            'media_id': media.pk,\n",
    "            'user_id': comment.user.pk,\n",
    "            'is_user_post': is_user,\n",
    "            'username': comment.user.username,\n",
    "            'has_like': comment.has_liked,\n",
    "            'like_count': comment.like_count,\n",
    "            'comment_id': comment.pk,\n",
    "            'comment': comment.text,\n",
    "            })"
   ]
  },
  {
   "cell_type": "code",
   "execution_count": null,
   "metadata": {},
   "outputs": [],
   "source": [
    "# convert list to dataframe\n",
    "df_target_user_comment = pd.DataFrame(target_user_comment)\n",
    "df_target_user_comment.head()"
   ]
  },
  {
   "cell_type": "code",
   "execution_count": null,
   "metadata": {},
   "outputs": [],
   "source": [
    "# save dataframe to csv\n",
    "# df_target_user_comment.to_csv(\"data/target_user_comment.csv\", index=False)"
   ]
  },
  {
   "attachments": {},
   "cell_type": "markdown",
   "metadata": {},
   "source": [
    "# Scrape Stories of User"
   ]
  },
  {
   "attachments": {},
   "cell_type": "markdown",
   "metadata": {},
   "source": [
    "## Single User"
   ]
  },
  {
   "cell_type": "code",
   "execution_count": null,
   "metadata": {},
   "outputs": [],
   "source": [
    "# !!! insert target user here\n",
    "target_user = \"revivaltvid\"\n",
    "\n",
    "# get user stories from target user\n",
    "stories = cl.user_stories(cl.user_id_from_username(target_user))"
   ]
  },
  {
   "cell_type": "code",
   "execution_count": null,
   "metadata": {},
   "outputs": [],
   "source": [
    "stories_list = []\n",
    "\n",
    "# loop through all stories\n",
    "for story in tqdm(stories):\n",
    "    \n",
    "    # get all mentions from story\n",
    "    mentions = []    \n",
    "    if story.mentions:\n",
    "        for mention in story.mentions:\n",
    "            mentions.append(mention.user.username)\n",
    "        mentions = re.sub(r'[\\[\\]\\']', '', str(mentions))\n",
    "    \n",
    "    # append all data to stories_list list\n",
    "    stories_list.append({\n",
    "        'taken_at': story.taken_at,\n",
    "        'story_id': story.pk,\n",
    "        'code': story.code,\n",
    "        'user_id': story.user.pk,\n",
    "        'username': story.user.username,\n",
    "        'media_type': story.media_type,\n",
    "        'product_type': story.product_type,\n",
    "        'sponsor_tags': story.sponsor_tags,\n",
    "        'hashtags': story.hashtags,\n",
    "        'mentions': mentions,\n",
    "        'locations': story.locations,\n",
    "        'thumbnail_url': story.thumbnail_url,\n",
    "    })\n",
    "\n",
    "# convert list to dataframe\n",
    "df_stories = pd.DataFrame(stories_list)\n",
    "df_stories"
   ]
  },
  {
   "attachments": {},
   "cell_type": "markdown",
   "metadata": {},
   "source": [
    "media_type= 1: Image, 2: Video"
   ]
  },
  {
   "attachments": {},
   "cell_type": "markdown",
   "metadata": {},
   "source": [
    "## Multiple Users"
   ]
  },
  {
   "cell_type": "code",
   "execution_count": null,
   "metadata": {},
   "outputs": [],
   "source": [
    "# read target users from csv\n",
    "target_users = pd.read_csv(\"data/users.csv\")[\"users\"].tolist()"
   ]
  },
  {
   "cell_type": "code",
   "execution_count": null,
   "metadata": {},
   "outputs": [],
   "source": [
    "stories_list = []\n",
    "\n",
    "# loop through all target users\n",
    "for target_user in tqdm(target_users):\n",
    "    # get user stories from target user\n",
    "    stories = cl.user_stories(cl.user_id_from_username(target_user))\n",
    "\n",
    "    # loop through all stories\n",
    "    for story in tqdm(stories):\n",
    "        \n",
    "        # get all mentions from story\n",
    "        mentions = []    \n",
    "        if story.mentions:\n",
    "            for mention in story.mentions:\n",
    "                mentions.append(mention.user.username)\n",
    "            mentions = re.sub(r'[\\[\\]\\']', '', str(mentions))\n",
    "        \n",
    "        # append all data to stories_list list\n",
    "        stories_list.append({\n",
    "            'taken_at': story.taken_at,\n",
    "            'story_id': story.pk,\n",
    "            'code': story.code,\n",
    "            'user_id': story.user.pk,\n",
    "            'username': story.user.username,\n",
    "            'media_type': story.media_type,\n",
    "            'product_type': story.product_type,\n",
    "            'sponsor_tags': story.sponsor_tags,\n",
    "            'hashtags': story.hashtags,\n",
    "            'mentions': mentions,\n",
    "            'locations': story.locations,\n",
    "            'thumbnail_url': story.thumbnail_url,\n",
    "        })"
   ]
  },
  {
   "cell_type": "code",
   "execution_count": null,
   "metadata": {},
   "outputs": [],
   "source": [
    "# convert list to dataframe\n",
    "df_story = pd.DataFrame(stories_list)\n",
    "df_story.head()"
   ]
  },
  {
   "attachments": {},
   "cell_type": "markdown",
   "metadata": {},
   "source": [
    "# Hide Me"
   ]
  },
  {
   "cell_type": "code",
   "execution_count": null,
   "metadata": {},
   "outputs": [],
   "source": [
    "# # get all media from user by pagination (bisa delay)\n",
    "    # end_cursor = None\n",
    "    # user_media = []\n",
    "    # per_page = 30\n",
    "    # target_scrape = int(600/per_page)\n",
    "\n",
    "    # # loop through all media\n",
    "    # for media in range(target_scrape):\n",
    "    #     print(\"Media ke-\",media)\n",
    "        \n",
    "    #     # get media by pagination\n",
    "    #     medias, end_cursor = cl.user_medias_paginated(user_id, per_page, end_cursor=end_cursor)\n",
    "        \n",
    "    #     # append all media to user_media\n",
    "    #     for media in medias:\n",
    "    #         user_media.append(media)\n",
    "            \n",
    "    #     # delay 5 seconds\n",
    "    #     print(\"sleeping for 30 seconds\")\n",
    "    #     time.sleep(30)"
   ]
  },
  {
   "cell_type": "code",
   "execution_count": null,
   "metadata": {},
   "outputs": [],
   "source": [
    "# # coba-coba mencari interval dan konversi zona waktu\n",
    "# datetime_list = []\n",
    "\n",
    "# for media in user_medias:\n",
    "#     datetime_list.append(media.taken_at)\n",
    "    \n",
    "# latest = max(datetime_list)\n",
    "# latest_indo = latest.astimezone(timezone_indo)\n",
    "# index = datetime_list.index(latest)\n",
    "\n",
    "# # trying to get interval\n",
    "# now = datetime.now(timezone_indo)\n",
    "# interval = (now - latest_indo).seconds // 3600\n",
    "\n",
    "# print(\"latest\")\n",
    "# print(index)\n",
    "# print(latest)\n",
    "# print(latest_indo)\n",
    "\n",
    "# print(\"now\")\n",
    "# print(now)\n",
    "\n",
    "# print(\"interval\")\n",
    "# print(interval)"
   ]
  }
 ],
 "metadata": {
  "kernelspec": {
   "display_name": "scrape",
   "language": "python",
   "name": "python3"
  },
  "language_info": {
   "codemirror_mode": {
    "name": "ipython",
    "version": 3
   },
   "file_extension": ".py",
   "mimetype": "text/x-python",
   "name": "python",
   "nbconvert_exporter": "python",
   "pygments_lexer": "ipython3",
   "version": "3.9.16 | packaged by conda-forge | (main, Feb  1 2023, 21:39:03) \n[GCC 11.3.0]"
  },
  "orig_nbformat": 4,
  "vscode": {
   "interpreter": {
    "hash": "b692b536d1e6c642ee2afdc9b60af3b9fae914e41415a710a1f7dab56473b6bc"
   }
  }
 },
 "nbformat": 4,
 "nbformat_minor": 2
}
