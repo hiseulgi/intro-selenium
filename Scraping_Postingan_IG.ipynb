{
 "cells": [
  {
   "cell_type": "code",
   "execution_count": null,
   "id": "a0bf87d7",
   "metadata": {},
   "outputs": [],
   "source": [
    "from instagrapi import *\n",
    "import pandas as pd\n",
    "import re"
   ]
  },
  {
   "cell_type": "code",
   "execution_count": null,
   "id": "7756b31b",
   "metadata": {},
   "outputs": [],
   "source": [
    "from instagrapi import Client\n",
    "\n",
    "cl = Client()\n",
    "cl.login(\"kazuyatakeshi1\", \"bimoli216\")"
   ]
  },
  {
   "cell_type": "code",
   "execution_count": null,
   "id": "432ae94d",
   "metadata": {},
   "outputs": [],
   "source": [
    "data_IG = []\n",
    "\n",
    "nama_IG = ['fathonizkr']\n",
    "\n",
    "for name in nama_IG:\n",
    "        following_list = []\n",
    "        \n",
    "        user_id = cl.user_id_from_username(name)\n",
    "        user_inf = cl.user_info(user_id)\n",
    "        following = cl.user_following(user_id)\n",
    "        \n",
    "        user_media = cl.user_medias(user_inf.pk, amount=10)\n",
    "        for i in range (len(user_media)):\n",
    "            dat_IG = {\n",
    "                'pk_user':user_inf.pk, \n",
    "                'pk_media': user_media[i].pk,\n",
    "                'username':user_inf.username, \n",
    "                'fullname':user_inf.full_name, \n",
    "                'taken_at':user_media[i].taken_at, \n",
    "                'media_type':user_media[i].media_type, \n",
    "                'comment_count':user_media[i].comment_count, \n",
    "                'like':user_media[i].like_count, \n",
    "                'caption': user_media[i].caption_text,}\n",
    "            data_IG.append(dat_IG)\n",
    "        "
   ]
  },
  {
   "cell_type": "code",
   "execution_count": null,
   "id": "1de3b7fd",
   "metadata": {},
   "outputs": [],
   "source": [
    "data = pd.DataFrame(data_IG)\n",
    "data"
   ]
  },
  {
   "cell_type": "code",
   "execution_count": null,
   "id": "8af00b72",
   "metadata": {},
   "outputs": [],
   "source": [
    "df = pd.read_csv('Data_Postingan_IG.csv')\n",
    "df"
   ]
  },
  {
   "cell_type": "code",
   "execution_count": null,
   "id": "f31ab888",
   "metadata": {},
   "outputs": [],
   "source": [
    "data3 = df.append(data, ignore_index=True)\n",
    "data3"
   ]
  },
  {
   "cell_type": "code",
   "execution_count": null,
   "id": "2306d5f0",
   "metadata": {},
   "outputs": [],
   "source": [
    "data3.to_csv('Data_Postingan_IG.csv', index=False)"
   ]
  },
  {
   "cell_type": "code",
   "execution_count": null,
   "id": "32e04282",
   "metadata": {},
   "outputs": [],
   "source": []
  },
  {
   "cell_type": "code",
   "execution_count": null,
   "id": "c8e2341a",
   "metadata": {},
   "outputs": [],
   "source": []
  }
 ],
 "metadata": {
  "kernelspec": {
   "display_name": "Python 3 (ipykernel)",
   "language": "python",
   "name": "python3"
  },
  "language_info": {
   "codemirror_mode": {
    "name": "ipython",
    "version": 3
   },
   "file_extension": ".py",
   "mimetype": "text/x-python",
   "name": "python",
   "nbconvert_exporter": "python",
   "pygments_lexer": "ipython3",
   "version": "3.10.7"
  },
  "varInspector": {
   "cols": {
    "lenName": 16,
    "lenType": 16,
    "lenVar": 40
   },
   "kernels_config": {
    "python": {
     "delete_cmd_postfix": "",
     "delete_cmd_prefix": "del ",
     "library": "var_list.py",
     "varRefreshCmd": "print(var_dic_list())"
    },
    "r": {
     "delete_cmd_postfix": ") ",
     "delete_cmd_prefix": "rm(",
     "library": "var_list.r",
     "varRefreshCmd": "cat(var_dic_list()) "
    }
   },
   "types_to_exclude": [
    "module",
    "function",
    "builtin_function_or_method",
    "instance",
    "_Feature"
   ],
   "window_display": false
  }
 },
 "nbformat": 4,
 "nbformat_minor": 5
}
