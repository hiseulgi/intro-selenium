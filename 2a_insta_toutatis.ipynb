{
 "cells": [
  {
   "attachments": {},
   "cell_type": "markdown",
   "metadata": {},
   "source": [
    "Project ini bersumber dari library **toutatis** dimana untuk mendapatkan data Instagram kita perlu **SessionsID**. Berbeda dengan sebelumnya yang menggunakan login dengan username dan password.\n",
    "\n",
    "- Library: https://github.com/megadose/toutatis"
   ]
  },
  {
   "cell_type": "code",
   "execution_count": 83,
   "metadata": {},
   "outputs": [
    {
     "data": {
      "text/plain": [
       "True"
      ]
     },
     "execution_count": 83,
     "metadata": {},
     "output_type": "execute_result"
    }
   ],
   "source": [
    "# import libraries\n",
    "import argparse\n",
    "import requests\n",
    "from urllib.parse import quote_plus\n",
    "from json import dumps, decoder\n",
    "\n",
    "import phonenumbers\n",
    "from phonenumbers.phonenumberutil import (\n",
    "    region_code_for_country_code,\n",
    "    region_code_for_number,\n",
    ")\n",
    "import pycountry\n",
    "from dotenv import load_dotenv, dotenv_values\n",
    "import json\n",
    "load_dotenv()"
   ]
  },
  {
   "cell_type": "code",
   "execution_count": 84,
   "metadata": {},
   "outputs": [],
   "source": [
    "# function to get the user id from username using session id\n",
    "def getUserId(username,sessionsId):\n",
    "    cookies = {'sessionid': sessionsId}\n",
    "    headers = {'User-Agent': 'Instagram 64.0.0.14.96'}\n",
    "    api = requests.get(\n",
    "        f'https://www.instagram.com/{username}/?__a=1&__d=dis',\n",
    "        headers=headers,\n",
    "        cookies=cookies\n",
    "    )\n",
    "    try:\n",
    "        if api.status_code == 404:\n",
    "            return {\"id\": None, \"error\": \"User not found\"}\n",
    "        \n",
    "        id = api.json()[\"logging_page_id\"].strip(\"profilePage_\")\n",
    "        return {\"id\":id, \"error\": None}\n",
    "\n",
    "    except decoder.JSONDecodeError:\n",
    "        return {\"id\":None, \"error\":\"Rate limit\"}"
   ]
  },
  {
   "cell_type": "code",
   "execution_count": 85,
   "metadata": {},
   "outputs": [],
   "source": [
    "# function to get the user info using session id\n",
    "def getInfo(username,sessionId):\n",
    "    userId = getUserId(username, sessionId)\n",
    "    if userId[\"error\"]:\n",
    "        return userId\n",
    "\n",
    "    response = requests.get(\n",
    "        f'https://i.instagram.com/api/v1/users/{userId[\"id\"]}/info/',\n",
    "        headers={'User-Agent': 'Instagram 64.0.0.14.96'},\n",
    "        cookies={'sessionid': sessionId}\n",
    "    ).json()[\"user\"]\n",
    "    \n",
    "    infoUser = response\n",
    "    infoUser[\"userID\"] = userId[\"id\"]\n",
    "    \n",
    "    return {\"user\":infoUser, \"error\":None}"
   ]
  },
  {
   "cell_type": "code",
   "execution_count": 86,
   "metadata": {},
   "outputs": [],
   "source": [
    "# function to get the more user info using session id\n",
    "def advanced_lookup(username):\n",
    "    \"\"\"\n",
    "        Post to get obfuscated login infos\n",
    "    \"\"\"\n",
    "    data = \"signed_body=SIGNATURE.\"+quote_plus(dumps(\n",
    "        {\"q\":username, \"skip_recovery\":\"1\"},\n",
    "        separators=(\",\",\":\")\n",
    "    ))\n",
    "    api = requests.post(\n",
    "        'https://i.instagram.com/api/v1/users/lookup/',\n",
    "        headers={\n",
    "            \"Accept-Language\": \"en-US\",\n",
    "            \"User-Agent\": \"Instagram 101.0.0.15.120\",\n",
    "            \"Content-Type\": \"application/x-www-form-urlencoded; charset=UTF-8\",\n",
    "            \"X-IG-App-ID\": \"124024574287414\",\n",
    "            \"Accept-Encoding\": \"gzip, deflate\",\n",
    "            \"Host\": \"i.instagram.com\",\n",
    "            #\"X-FB-HTTP-Engine\": \"Liger\",\n",
    "            \"Connection\": \"keep-alive\",\n",
    "            \"Content-Length\": str(len(data))\n",
    "        },\n",
    "        data=data\n",
    "    )\n",
    "\n",
    "    try:\n",
    "        return({\"user\": api.json(),\"error\": None})\n",
    "    except decoder.JSONDecodeError:\n",
    "        return({\"user\": None, \"error\": \"rate limit\"})"
   ]
  },
  {
   "cell_type": "code",
   "execution_count": 102,
   "metadata": {},
   "outputs": [],
   "source": [
    "# init username and session id\n",
    "username= 'google'\n",
    "SESSIONSID_IG = dotenv_values('.env').get('SESSIONSID_IG')"
   ]
  },
  {
   "cell_type": "code",
   "execution_count": 103,
   "metadata": {},
   "outputs": [
    {
     "name": "stdout",
     "output_type": "stream",
     "text": [
      "Informations about     : google\n",
      "userID                 : 1067259270\n",
      "Full Name              : Google\n",
      "Verified               : True | Is buisness Account : True\n",
      "Is private Account     : False\n",
      "Follower               : 13733138 | Following : 34\n",
      "Number of posts        : 1975\n",
      "Number of tag in posts : 0\n",
      "External url           : https://linkin.bio/google\n",
      "IGTV posts             : 114\n",
      "Biography              : Google unfiltered—sometimes with filters.\n",
      "The lookup did not work on this account\n",
      "------------------------\n",
      "Profile Picture        : https://instagram.fsrg5-1.fna.fbcdn.net/v/t51.2885-19/126151620_3420222801423283_6498777152086077438_n.jpg?_nc_ht=instagram.fsrg5-1.fna.fbcdn.net&_nc_cat=1&_nc_ohc=ZtAshdJd3wQAX9b0fAR&edm=AEF8tYYBAAAA&ccb=7-5&oh=00_AfB08heKj1Chh9sp16952UlU33v-2RQ04PC1nu7q59Wg8A&oe=63F9FA04&_nc_sid=a9513d\n"
     ]
    }
   ],
   "source": [
    "infos = getInfo(username, SESSIONSID_IG)\n",
    "\n",
    "if not infos[\"user\"]:\n",
    "    exit(infos[\"error\"])\n",
    "\n",
    "infos=infos[\"user\"]\n",
    "\n",
    "print(\"Informations about     : \"+infos[\"username\"])\n",
    "print(\"userID                 : \"+infos[\"userID\"])\n",
    "print(\"Full Name              : \"+infos[\"full_name\"])\n",
    "print(\"Verified               : \"+str(infos['is_verified'])+\" | Is buisness Account : \"+str(infos[\"is_business\"]))\n",
    "print(\"Is private Account     : \"+str(infos[\"is_private\"]))\n",
    "print(\"Follower               : \"+str(infos[\"follower_count\"]) + \" | Following : \"+str(infos[\"following_count\"]))\n",
    "print(\"Number of posts        : \"+str(infos[\"media_count\"]))\n",
    "print(\"Number of tag in posts : \"+str(infos[\"following_tag_count\"]))\n",
    "if infos[\"external_url\"]:\n",
    "    print(\"External url           : \"+infos[\"external_url\"])\n",
    "print(\"IGTV posts             : \"+str(infos[\"total_igtv_videos\"]))\n",
    "print(\"Biography              : \"+(f\"\"\"\\n{\" \"*25}\"\"\").join(infos[\"biography\"].split(\"\\n\")))\n",
    "\n",
    "if \"public_email\" in infos.keys():\n",
    "    if infos[\"public_email\"]:\n",
    "        print(\"Public Email           : \"+infos[\"public_email\"])\n",
    "\n",
    "if \"public_phone_number\" in infos.keys():\n",
    "    if str(infos[\"public_phone_number\"]):\n",
    "        phonenr = \"+\"+str(infos[\"public_phone_country_code\"])+\" \"+str(infos[\"public_phone_number\"])\n",
    "        try:\n",
    "            pn = phonenumbers.parse(phonenr)\n",
    "            countrycode = region_code_for_country_code(pn.country_code)\n",
    "            country = pycountry.countries.get(alpha_2=countrycode)\n",
    "            phonenr = phonenr + \" ({}) \".format(country.name)\n",
    "        except: # except what ??\n",
    "            pass # pass what ??\n",
    "        print(\"Public Phone number    : \" + phonenr)\n",
    "\n",
    "other_infos=advanced_lookup(username)\n",
    "\n",
    "if other_infos[\"error\"] == \"rate limit\":\n",
    "    print(\"Rate limit please wait a few minutes before you try again\")\n",
    "\n",
    "elif \"message\" in other_infos[\"user\"].keys():\n",
    "    if other_infos[\"user\"][\"message\"] == \"No users found\":\n",
    "        print(\"The lookup did not work on this account\")\n",
    "    else:\n",
    "        print(other_infos[\"user\"][\"message\"])\n",
    "\n",
    "else:\n",
    "    if \"obfuscated_email\" in other_infos[\"user\"].keys():\n",
    "        if other_infos[\"user\"][\"obfuscated_email\"]:\n",
    "            print(\"Obfuscated email       : \"+other_infos[\"user\"][\"obfuscated_email\"])\n",
    "        else:\n",
    "            print(\"No obfuscated email found\")\n",
    "\n",
    "    if \"obfuscated_phone\"in other_infos[\"user\"].keys():\n",
    "        if str(other_infos[\"user\"][\"obfuscated_phone\"]):\n",
    "            print(\"Obfuscated phone       : \"+str(other_infos[\"user\"][\"obfuscated_phone\"]))\n",
    "        else:\n",
    "            print(\"No obfuscated phone found\")\n",
    "print(\"-\"*24)\n",
    "print(\"Profile Picture        : \"+infos[\"hd_profile_pic_url_info\"][\"url\"])"
   ]
  }
 ],
 "metadata": {
  "kernelspec": {
   "display_name": "scrape",
   "language": "python",
   "name": "python3"
  },
  "language_info": {
   "codemirror_mode": {
    "name": "ipython",
    "version": 3
   },
   "file_extension": ".py",
   "mimetype": "text/x-python",
   "name": "python",
   "nbconvert_exporter": "python",
   "pygments_lexer": "ipython3",
   "version": "3.9.16"
  },
  "orig_nbformat": 4,
  "vscode": {
   "interpreter": {
    "hash": "b692b536d1e6c642ee2afdc9b60af3b9fae914e41415a710a1f7dab56473b6bc"
   }
  }
 },
 "nbformat": 4,
 "nbformat_minor": 2
}
