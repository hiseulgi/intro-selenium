{
 "cells": [
  {
   "cell_type": "code",
   "execution_count": null,
   "id": "00181f18",
   "metadata": {},
   "outputs": [],
   "source": [
    "from facebook_scraper import get_profile\n",
    "from facebook_scraper import get_group_info\n",
    "\n",
    "import datetime\n",
    "import pandas as pd\n",
    "import re"
   ]
  },
  {
   "cell_type": "code",
   "execution_count": null,
   "id": "b788b1a7",
   "metadata": {},
   "outputs": [],
   "source": [
    "nama = ['rhosi.ajjh', 'andika.koja.3', 'ani.wahyudi.754', 'fani.chindra', 'bayu.tricandraputra', 'andika.restu.798', 'adi.priyatama.71', 'reva.marsya.5', 'deawhiie', 'matthew.nahor.9', 'pathola.riez', 'meita.hofifah.7', 'nada.indrianisiregar', 'dedev.alyssa']"
   ]
  },
  {
   "cell_type": "code",
   "execution_count": null,
   "id": "3adca09c",
   "metadata": {},
   "outputs": [],
   "source": [
    "# get profile\n",
    "p = get_profile(\"rhosi.ajjh\", cookies = {'sb': 'jYr1Y026A-2VjDm_XJBR6ETZ', 'datr': 'j4r1Y1Hi2f_ST4wVzobNFmCL', 'dpr': '1.5', 'c_user': '100001581864778', 'xs': '30%3AopPGizY1F1mghA%3A2%3A1677036201%3A-1%3A11175', 'fr': '0NJTocD2fx3WXJcHm.AWVFijqYbwIsqU_014egTaWO3ag.Bj9YqN.FZ.AAA.0.0.Bj9Yqt.AWVTp-49XAI', 'wd': '1280x569'})"
   ]
  },
  {
   "cell_type": "code",
   "execution_count": null,
   "id": "e3d08af2",
   "metadata": {},
   "outputs": [],
   "source": [
    "p"
   ]
  },
  {
   "cell_type": "code",
   "execution_count": null,
   "id": "f1382274",
   "metadata": {},
   "outputs": [],
   "source": [
    "test = p['Info Umum'].split('\\n')\n",
    "Tgl_lahir = '-'\n",
    "Jk = '-'\n",
    "Bahasa = '-'\n",
    "for i in range(1, len(test), 2):\n",
    "    if test[i] == 'Tanggal Lahir':\n",
    "        Tgl_lahir = test[i-1]\n",
    "    elif test[i] == 'Jenis Kelamin':\n",
    "        Jk = test[i-1]\n",
    "    else:\n",
    "        Bahasa = test[i-1]"
   ]
  },
  {
   "cell_type": "code",
   "execution_count": null,
   "id": "626bffa0",
   "metadata": {},
   "outputs": [],
   "source": [
    "Jk"
   ]
  },
  {
   "cell_type": "markdown",
   "id": "d675a55b",
   "metadata": {},
   "source": [
    "g = get_group_info(\"makeupartistsgroup\", cookies = {'sb': 'jYr1Y026A-2VjDm_XJBR6ETZ', 'datr': 'j4r1Y1Hi2f_ST4wVzobNFmCL', 'dpr': '1.5', 'c_user': '100001581864778', 'xs': '30%3AopPGizY1F1mghA%3A2%3A1677036201%3A-1%3A11175', 'fr': '0NJTocD2fx3WXJcHm.AWVFijqYbwIsqU_014egTaWO3ag.Bj9YqN.FZ.AAA.0.0.Bj9Yqt.AWVTp-49XAI', 'wd': '1280x569'})"
   ]
  },
  {
   "cell_type": "code",
   "execution_count": null,
   "id": "a1790239",
   "metadata": {},
   "outputs": [],
   "source": [
    "data_FB = []\n",
    "\n",
    "for name in range (len(nama)):\n",
    "    p = get_profile(nama[name], cookies = {'sb': 'jYr1Y026A-2VjDm_XJBR6ETZ', 'datr': 'j4r1Y1Hi2f_ST4wVzobNFmCL', 'dpr': '1.5', 'c_user': '100001581864778', 'xs': '30%3AopPGizY1F1mghA%3A2%3A1677036201%3A-1%3A11175', 'fr': '0NJTocD2fx3WXJcHm.AWVFijqYbwIsqU_014egTaWO3ag.Bj9YqN.FZ.AAA.0.0.Bj9Yqt.AWVTp-49XAI', 'wd': '1280x569'})\n",
    "    try :\n",
    "        \n",
    "        #ambil data pekerjaan    \n",
    "        data = p['Pekerjaan'].split('\\n')\n",
    "        dp = data[0:3]\n",
    "        a = []\n",
    "\n",
    "        for i in range(len(dp)):\n",
    "            company = dp[0]\n",
    "            a.append(re.findall(r'\\d+', dp[i]))\n",
    "        for j in range(len(a)):\n",
    "            for k in range(len(a[j])):\n",
    "                if a[j] == None:\n",
    "                    break\n",
    "                else:\n",
    "                    if str(a[j][k]).isdigit() == True:\n",
    "                        tahun_mulai = dp[j].split(' - ')[0]\n",
    "                        tahun_akhir = dp[j].split(' - ')[-1]\n",
    "                        if tahun_akhir == 'Sekarang':\n",
    "                            tahun_akhir = 0\n",
    "                            #tahun_akhir = datetime.date.today()\n",
    "                            #tahun_akhir = tahun_akhir.strftime(\"%d %B %Y\")\n",
    "\n",
    "        #info Umum\n",
    "        test = p['Info Umum'].split('\\n')\n",
    "        '''Tgl_lahir = '-'\n",
    "        Jk = '-'\n",
    "        Bahasa = '-'\n",
    "        '''\n",
    "\n",
    "        for i in range(1, len(test), 2):\n",
    "            if test[i] == 'Tanggal Lahir':\n",
    "                Tgl_lahir = test[i-1]\n",
    "            elif test[i] == 'Jenis Kelamin':\n",
    "                Jk = test[i-1]\n",
    "            else:\n",
    "                Bahasa = test[i-1]\n",
    "\n",
    "        #ambil pendidikan terakhir\n",
    "        pend_terak = p['Pendidikan'].split('\\n')\n",
    "        asal_sekolah = pend_terak[0]\n",
    "        pend = pend_terak[1]\n",
    "        \n",
    "        #anggota keluarga\n",
    "        kg = p['Anggota Keluarga'].split('\\n')\n",
    "        nama_anggota_keluarga = kg[0]\n",
    "        hubungan_keluarga = kg[1]\n",
    "    \n",
    "    except:\n",
    "        tahun_mulai = '-'\n",
    "        tahun_akhir = '-'\n",
    "        company = '-'\n",
    "        \n",
    "        Tgl_lahir = '-'\n",
    "        Jk = '-'\n",
    "        Bahasa = '-'\n",
    "        \n",
    "        asal_sekolah = '-'\n",
    "        pend = '-'\n",
    "        \n",
    "        nama_anggota_keluarga = '-'\n",
    "        hubungan_keluarga = '-'\n",
    "            \n",
    "    data_FB.append({\n",
    "            'Id_user': p['id'],\n",
    "            'Nama' : p['Name'],\n",
    "            'Tanggal_lahir' : Tgl_lahir,\n",
    "            'Sex' : Jk,\n",
    "            'Asal_Sekolah_Terakhir': asal_sekolah,\n",
    "            'Pendidikan_Terakhir': pend,\n",
    "            'Tempat_Kerja(last)' : company,\n",
    "            'Tahun_mulai' : tahun_mulai,\n",
    "            'Tahun_akhir_bekerja' : tahun_akhir,\n",
    "            'Nama_Anggota_Keluarga' : nama_anggota_keluarga,\n",
    "            'Hubungan_Keluarga' : hubungan_keluarga})"
   ]
  },
  {
   "cell_type": "code",
   "execution_count": null,
   "id": "45cc5121",
   "metadata": {},
   "outputs": [],
   "source": [
    "data = pd.DataFrame(data_FB)\n",
    "data"
   ]
  },
  {
   "cell_type": "code",
   "execution_count": null,
   "id": "671feba7",
   "metadata": {},
   "outputs": [],
   "source": [
    "profile"
   ]
  },
  {
   "cell_type": "code",
   "execution_count": null,
   "id": "602e2f76",
   "metadata": {},
   "outputs": [],
   "source": [
    "profile['Info Umum']"
   ]
  },
  {
   "cell_type": "code",
   "execution_count": null,
   "id": "4e396d07",
   "metadata": {},
   "outputs": [],
   "source": [
    "test = profile['Info Umum'].split('\\n')\n",
    "Tgl_lahir = '-'\n",
    "Jk = '-'\n",
    "Bahasa = '-'\n",
    "for i in range(1, len(test), 2):\n",
    "    if test[i] == 'Tanggal Lahir':\n",
    "        Tgl_lahir = test[i-1]\n",
    "    elif test[i] == 'Jenis Kelamin':\n",
    "        Jk = test[i-1]\n",
    "    else:\n",
    "        Bahasa = test[i-1]"
   ]
  },
  {
   "cell_type": "code",
   "execution_count": null,
   "id": "0dcd84ec",
   "metadata": {},
   "outputs": [],
   "source": [
    "Tgl_lahir"
   ]
  },
  {
   "cell_type": "code",
   "execution_count": null,
   "id": "351dda88",
   "metadata": {},
   "outputs": [],
   "source": []
  }
 ],
 "metadata": {
  "kernelspec": {
   "display_name": "scrape",
   "language": "python",
   "name": "python3"
  },
  "language_info": {
   "codemirror_mode": {
    "name": "ipython",
    "version": 3
   },
   "file_extension": ".py",
   "mimetype": "text/x-python",
   "name": "python",
   "nbconvert_exporter": "python",
   "pygments_lexer": "ipython3",
   "version": "3.9.16"
  },
  "varInspector": {
   "cols": {
    "lenName": 16,
    "lenType": 16,
    "lenVar": 40
   },
   "kernels_config": {
    "python": {
     "delete_cmd_postfix": "",
     "delete_cmd_prefix": "del ",
     "library": "var_list.py",
     "varRefreshCmd": "print(var_dic_list())"
    },
    "r": {
     "delete_cmd_postfix": ") ",
     "delete_cmd_prefix": "rm(",
     "library": "var_list.r",
     "varRefreshCmd": "cat(var_dic_list()) "
    }
   },
   "types_to_exclude": [
    "module",
    "function",
    "builtin_function_or_method",
    "instance",
    "_Feature"
   ],
   "window_display": false
  },
  "vscode": {
   "interpreter": {
    "hash": "b692b536d1e6c642ee2afdc9b60af3b9fae914e41415a710a1f7dab56473b6bc"
   }
  }
 },
 "nbformat": 4,
 "nbformat_minor": 5
}
